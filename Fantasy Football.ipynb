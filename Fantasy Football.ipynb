{
 "cells": [
  {
   "cell_type": "code",
   "execution_count": 330,
   "id": "58ae2d38",
   "metadata": {},
   "outputs": [
    {
     "name": "stdout",
     "output_type": "stream",
     "text": [
      "Requirement already satisfied: nfl_data_py in c:\\users\\lj015625\\.conda\\envs\\python37\\lib\\site-packages (0.3.0)\n",
      "Requirement already satisfied: appdirs>1 in c:\\users\\lj015625\\.conda\\envs\\python37\\lib\\site-packages (from nfl_data_py) (1.4.4)\n",
      "Requirement already satisfied: fastparquet>0.5 in c:\\users\\lj015625\\.conda\\envs\\python37\\lib\\site-packages (from nfl_data_py) (0.8.1)\n",
      "Requirement already satisfied: python-snappy>0.5 in c:\\users\\lj015625\\.conda\\envs\\python37\\lib\\site-packages (from nfl_data_py) (0.6.1)\n",
      "Requirement already satisfied: pandas>1 in c:\\users\\lj015625\\.conda\\envs\\python37\\lib\\site-packages (from nfl_data_py) (1.3.5)\n",
      "Requirement already satisfied: cramjam>=2.3.0 in c:\\users\\lj015625\\.conda\\envs\\python37\\lib\\site-packages (from fastparquet>0.5->nfl_data_py) (2.5.0)\n",
      "Requirement already satisfied: numpy>=1.18 in c:\\users\\lj015625\\.conda\\envs\\python37\\lib\\site-packages (from fastparquet>0.5->nfl_data_py) (1.21.5)\n",
      "Requirement already satisfied: fsspec in c:\\users\\lj015625\\.conda\\envs\\python37\\lib\\site-packages (from fastparquet>0.5->nfl_data_py) (2022.8.2)\n",
      "Requirement already satisfied: python-dateutil>=2.7.3 in c:\\users\\lj015625\\.conda\\envs\\python37\\lib\\site-packages (from pandas>1->nfl_data_py) (2.8.2)\n",
      "Requirement already satisfied: pytz>=2017.3 in c:\\users\\lj015625\\.conda\\envs\\python37\\lib\\site-packages (from pandas>1->nfl_data_py) (2021.3)\n",
      "Requirement already satisfied: six>=1.5 in c:\\users\\lj015625\\.conda\\envs\\python37\\lib\\site-packages (from python-dateutil>=2.7.3->pandas>1->nfl_data_py) (1.16.0)\n"
     ]
    },
    {
     "name": "stderr",
     "output_type": "stream",
     "text": [
      "The system cannot find the path specified.\n"
     ]
    },
    {
     "name": "stdout",
     "output_type": "stream",
     "text": [
      "Requirement already satisfied: xgboost in c:\\users\\lj015625\\.conda\\envs\\python37\\lib\\site-packages (1.6.2)\n",
      "Requirement already satisfied: numpy in c:\\users\\lj015625\\.conda\\envs\\python37\\lib\\site-packages (from xgboost) (1.21.5)\n",
      "Requirement already satisfied: scipy in c:\\users\\lj015625\\.conda\\envs\\python37\\lib\\site-packages (from xgboost) (1.7.3)\n"
     ]
    },
    {
     "name": "stderr",
     "output_type": "stream",
     "text": [
      "The system cannot find the path specified.\n"
     ]
    },
    {
     "name": "stdout",
     "output_type": "stream",
     "text": [
      "Requirement already satisfied: lightgbm in c:\\users\\lj015625\\.conda\\envs\\python37\\lib\\site-packages (3.3.2)\n",
      "Requirement already satisfied: wheel in c:\\users\\lj015625\\.conda\\envs\\python37\\lib\\site-packages (from lightgbm) (0.37.1)\n",
      "Requirement already satisfied: scipy in c:\\users\\lj015625\\.conda\\envs\\python37\\lib\\site-packages (from lightgbm) (1.7.3)\n",
      "Requirement already satisfied: numpy in c:\\users\\lj015625\\.conda\\envs\\python37\\lib\\site-packages (from lightgbm) (1.21.5)\n",
      "Requirement already satisfied: scikit-learn!=0.22.0 in c:\\users\\lj015625\\.conda\\envs\\python37\\lib\\site-packages (from lightgbm) (1.0.2)\n",
      "Requirement already satisfied: joblib>=0.11 in c:\\users\\lj015625\\.conda\\envs\\python37\\lib\\site-packages (from scikit-learn!=0.22.0->lightgbm) (1.1.0)\n",
      "Requirement already satisfied: threadpoolctl>=2.0.0 in c:\\users\\lj015625\\.conda\\envs\\python37\\lib\\site-packages (from scikit-learn!=0.22.0->lightgbm) (3.1.0)\n"
     ]
    },
    {
     "name": "stderr",
     "output_type": "stream",
     "text": [
      "The system cannot find the path specified.\n"
     ]
    },
    {
     "name": "stdout",
     "output_type": "stream",
     "text": [
      "Requirement already satisfied: bayesian-optimization in c:\\users\\lj015625\\.conda\\envs\\python37\\lib\\site-packages (1.2.0)\n",
      "Requirement already satisfied: numpy>=1.9.0 in c:\\users\\lj015625\\.conda\\envs\\python37\\lib\\site-packages (from bayesian-optimization) (1.21.5)\n",
      "Requirement already satisfied: scipy>=0.14.0 in c:\\users\\lj015625\\.conda\\envs\\python37\\lib\\site-packages (from bayesian-optimization) (1.7.3)\n",
      "Requirement already satisfied: scikit-learn>=0.18.0 in c:\\users\\lj015625\\.conda\\envs\\python37\\lib\\site-packages (from bayesian-optimization) (1.0.2)\n",
      "Requirement already satisfied: joblib>=0.11 in c:\\users\\lj015625\\.conda\\envs\\python37\\lib\\site-packages (from scikit-learn>=0.18.0->bayesian-optimization) (1.1.0)\n",
      "Requirement already satisfied: threadpoolctl>=2.0.0 in c:\\users\\lj015625\\.conda\\envs\\python37\\lib\\site-packages (from scikit-learn>=0.18.0->bayesian-optimization) (3.1.0)\n"
     ]
    },
    {
     "name": "stderr",
     "output_type": "stream",
     "text": [
      "The system cannot find the path specified.\n"
     ]
    },
    {
     "name": "stdout",
     "output_type": "stream",
     "text": [
      "Collecting shap\n",
      "  Downloading shap-0.41.0-cp37-cp37m-win_amd64.whl (435 kB)\n",
      "Collecting cloudpickle\n",
      "  Downloading cloudpickle-2.2.0-py3-none-any.whl (25 kB)\n",
      "Collecting numba\n",
      "  Downloading numba-0.56.2-cp37-cp37m-win_amd64.whl (2.5 MB)\n",
      "Requirement already satisfied: scipy in c:\\users\\lj015625\\.conda\\envs\\python37\\lib\\site-packages (from shap) (1.7.3)\n",
      "Requirement already satisfied: packaging>20.9 in c:\\users\\lj015625\\.conda\\envs\\python37\\lib\\site-packages (from shap) (21.3)\n",
      "Requirement already satisfied: pandas in c:\\users\\lj015625\\.conda\\envs\\python37\\lib\\site-packages (from shap) (1.3.5)\n",
      "Collecting slicer==0.0.7\n",
      "  Using cached slicer-0.0.7-py3-none-any.whl (14 kB)\n",
      "Requirement already satisfied: scikit-learn in c:\\users\\lj015625\\.conda\\envs\\python37\\lib\\site-packages (from shap) (1.0.2)\n",
      "Requirement already satisfied: numpy in c:\\users\\lj015625\\.conda\\envs\\python37\\lib\\site-packages (from shap) (1.21.5)\n",
      "Collecting tqdm>4.25.0\n",
      "  Using cached tqdm-4.64.1-py2.py3-none-any.whl (78 kB)\n",
      "Requirement already satisfied: pyparsing!=3.0.5,>=2.0.2 in c:\\users\\lj015625\\.conda\\envs\\python37\\lib\\site-packages (from packaging>20.9->shap) (3.0.7)\n",
      "Requirement already satisfied: colorama in c:\\users\\lj015625\\.conda\\envs\\python37\\lib\\site-packages (from tqdm>4.25.0->shap) (0.4.4)\n",
      "Collecting llvmlite<0.40,>=0.39.0dev0\n",
      "  Downloading llvmlite-0.39.1-cp37-cp37m-win_amd64.whl (23.2 MB)\n",
      "Collecting setuptools<60\n",
      "  Downloading setuptools-59.8.0-py3-none-any.whl (952 kB)\n",
      "Requirement already satisfied: importlib-metadata in c:\\users\\lj015625\\.conda\\envs\\python37\\lib\\site-packages (from numba->shap) (4.10.1)\n",
      "Requirement already satisfied: python-dateutil>=2.7.3 in c:\\users\\lj015625\\.conda\\envs\\python37\\lib\\site-packages (from pandas->shap) (2.8.2)\n",
      "Requirement already satisfied: pytz>=2017.3 in c:\\users\\lj015625\\.conda\\envs\\python37\\lib\\site-packages (from pandas->shap) (2021.3)\n",
      "Requirement already satisfied: threadpoolctl>=2.0.0 in c:\\users\\lj015625\\.conda\\envs\\python37\\lib\\site-packages (from scikit-learn->shap) (3.1.0)\n",
      "Requirement already satisfied: joblib>=0.11 in c:\\users\\lj015625\\.conda\\envs\\python37\\lib\\site-packages (from scikit-learn->shap) (1.1.0)\n",
      "Requirement already satisfied: six>=1.5 in c:\\users\\lj015625\\.conda\\envs\\python37\\lib\\site-packages (from python-dateutil>=2.7.3->pandas->shap) (1.16.0)\n",
      "Requirement already satisfied: typing-extensions>=3.6.4 in c:\\users\\lj015625\\.conda\\envs\\python37\\lib\\site-packages (from importlib-metadata->numba->shap) (4.0.1)\n",
      "Requirement already satisfied: zipp>=0.5 in c:\\users\\lj015625\\.conda\\envs\\python37\\lib\\site-packages (from importlib-metadata->numba->shap) (3.7.0)\n",
      "Installing collected packages: setuptools, llvmlite, tqdm, slicer, numba, cloudpickle, shap\n",
      "Successfully installed cloudpickle-2.2.0 llvmlite-0.39.1 numba-0.56.2 setuptools-59.8.0 shap-0.41.0 slicer-0.0.7 tqdm-4.64.1\n"
     ]
    },
    {
     "name": "stderr",
     "output_type": "stream",
     "text": [
      "The system cannot find the path specified.\n",
      "  WARNING: The script tqdm.exe is installed in 'C:\\Users\\lj015625\\AppData\\Roaming\\Python\\Python37\\Scripts' which is not on PATH.\n",
      "  Consider adding this directory to PATH or, if you prefer to suppress this warning, use --no-warn-script-location.\n"
     ]
    }
   ],
   "source": [
    "# https://pypi.org/project/nfl-data-py/0.1.2/\n",
    "    \n",
    "!pip install nfl_data_py\n",
    "!pip install xgboost\n",
    "!pip install lightgbm\n",
    "!pip install bayesian-optimization\n",
    "!pip install shap --user"
   ]
  },
  {
   "cell_type": "code",
   "execution_count": 1376,
   "id": "fa80d122",
   "metadata": {},
   "outputs": [],
   "source": [
    "import nfl_data_py as nfl\n",
    "\n",
    "import os\n",
    "import pickle\n",
    "import numpy as np\n",
    "import pandas as pd\n",
    "import xgboost as xgb\n",
    "from lightgbm import LGBMRegressor\n",
    "from sklearn.feature_selection import RFE\n",
    "from sklearn.utils import shuffle"
   ]
  },
  {
   "cell_type": "code",
   "execution_count": 1377,
   "id": "eb1c922b",
   "metadata": {},
   "outputs": [],
   "source": [
    "def _corr(df_, threshold=0.95, impute=0, keep=[]):\n",
    "    \"\"\"\n",
    "    A function to find the ocrrelated variables\n",
    "    inputs :\n",
    "            df : dataframe\n",
    "            threshold : correlation threshold value as a cut-off\n",
    "            impute : string for dataframes with Null values : can be \"mean\" and \"median\"\n",
    "                     If nothing passes, it will be None. Pandas by default drops the null values\n",
    "    output : pruned dataframe\n",
    "    \"\"\"\n",
    "    # check for imputation\n",
    "    if impute == \"median\":\n",
    "        df = df_.copy()\n",
    "        df.fillna(df.median(), inplace=True)\n",
    "    elif impute == \"mean\":\n",
    "        df = df_.copy()\n",
    "        df.fillna(df.mean(), inplace=True)\n",
    "    else:\n",
    "        df = df_.copy()\n",
    "\n",
    "    # pair-wised correlation:\n",
    "    # methods can be pearosn, kendall, and spearman\n",
    "    # min_periods sets the minimum number of observation for each feature\n",
    "    corr = df.corr(method=\"pearson\", min_periods=1)\n",
    "\n",
    "    # mean of absoulte value of the of each column of the correlation matrix\n",
    "    mean_corr_col = abs(corr).mean(axis=1)\n",
    "\n",
    "    # empty list for adding correlated columns\n",
    "    correlated_cols = []\n",
    "    for i in range(len(corr)):\n",
    "        for j in range(len(corr)):\n",
    "            # skip this round if one of them is already removed\n",
    "            if (\n",
    "                i != j\n",
    "                and corr.iloc[i, j] > threshold\n",
    "                and corr.columns[i] not in correlated_cols\n",
    "                and corr.columns[j] not in correlated_cols\n",
    "            ):\n",
    "\n",
    "                # prefer group concept because they are in clinical profile and literatures\n",
    "                # prefer last because it is most eaily to understood by clinicans, last also would be better than first in terms of model auc\n",
    "                if \"group\" in corr.columns[j].lower() or corr.columns[j] in keep:\n",
    "                    correlated_cols.append(corr.columns[i])\n",
    "                    print(\"1. Keep: \", corr.columns[j], \" Remove: \", corr.columns[i])\n",
    "                elif \"group\" in corr.columns[i].lower() or corr.columns[i] in keep:\n",
    "                    correlated_cols.append(corr.columns[j])\n",
    "                    print(\"2. Keep: \", corr.columns[i], \" Remove: \", corr.columns[j])\n",
    "                elif mean_corr_col[i] >= mean_corr_col[j]:\n",
    "                    correlated_cols.append(corr.columns[i])\n",
    "                    print(\n",
    "                        \"3. Keep: \",\n",
    "                        corr.columns[j],\n",
    "                        mean_corr_col[j],\n",
    "                        \" Remove: \",\n",
    "                        corr.columns[i],\n",
    "                        mean_corr_col[i],\n",
    "                    )\n",
    "\n",
    "    # dropping correlated features\n",
    "    drops = list(set(correlated_cols))\n",
    "    print(\"Dropping below: \", drops)\n",
    "    df_pruned = df.drop(drops, axis=1)\n",
    "\n",
    "    return df_pruned\n",
    "\n",
    "# add random shuffled columns for feature selection threshold later\n",
    "def permute(df):\n",
    "    \"\"\"\n",
    "    a funtion to permute the rows of features and add them\n",
    "    to the dataframe as noisy features to explore stability\n",
    "    \"\"\"\n",
    "    ids = [col for col in df.columns.tolist() if col not in ['player_id','first_name','last_name','team','position','season','week','fantasy_points_ppr']]\n",
    "    noisy_df = df.loc[:, ids].copy()\n",
    "    noisy_df.rename(\n",
    "        columns={col: \"random_\" + col for col in noisy_df.columns}, inplace=True\n",
    "    )\n",
    "    noisy_df = noisy_df.reindex(shuffle(noisy_df.index)).reset_index(drop=True)\n",
    "    merged_df = pd.concat([df.reset_index(drop=True), noisy_df], axis=1)\n",
    "    #     merged_df = pd.concat([df.reset_index(drop = True), noisy_df[noisy_df.columns[::3]]] , axis = 1)\n",
    "    return merged_df"
   ]
  },
  {
   "cell_type": "code",
   "execution_count": 1378,
   "id": "d0c811c0",
   "metadata": {},
   "outputs": [],
   "source": [
    "years = [2016, 2017, 2018, 2019, 2020, 2021]"
   ]
  },
  {
   "cell_type": "code",
   "execution_count": 1379,
   "id": "92bcf615",
   "metadata": {},
   "outputs": [
    {
     "name": "stdout",
     "output_type": "stream",
     "text": [
      "2016 done.\n",
      "2017 done.\n",
      "2018 done.\n",
      "2019 done.\n",
      "2020 done.\n",
      "2021 done.\n",
      "Downcasting floats.\n"
     ]
    },
    {
     "data": {
      "text/html": [
       "<div>\n",
       "<style scoped>\n",
       "    .dataframe tbody tr th:only-of-type {\n",
       "        vertical-align: middle;\n",
       "    }\n",
       "\n",
       "    .dataframe tbody tr th {\n",
       "        vertical-align: top;\n",
       "    }\n",
       "\n",
       "    .dataframe thead th {\n",
       "        text-align: right;\n",
       "    }\n",
       "</style>\n",
       "<table border=\"1\" class=\"dataframe\">\n",
       "  <thead>\n",
       "    <tr style=\"text-align: right;\">\n",
       "      <th></th>\n",
       "      <th>play_id</th>\n",
       "      <th>game_id</th>\n",
       "      <th>old_game_id</th>\n",
       "      <th>home_team</th>\n",
       "      <th>away_team</th>\n",
       "      <th>season_type</th>\n",
       "      <th>week</th>\n",
       "      <th>posteam</th>\n",
       "      <th>posteam_type</th>\n",
       "      <th>defteam</th>\n",
       "      <th>...</th>\n",
       "      <th>possession_team</th>\n",
       "      <th>offense_formation</th>\n",
       "      <th>offense_personnel</th>\n",
       "      <th>defenders_in_box</th>\n",
       "      <th>defense_personnel</th>\n",
       "      <th>number_of_pass_rushers</th>\n",
       "      <th>offense_players</th>\n",
       "      <th>n_offense</th>\n",
       "      <th>defense_players</th>\n",
       "      <th>n_defense</th>\n",
       "    </tr>\n",
       "  </thead>\n",
       "  <tbody>\n",
       "    <tr>\n",
       "      <th>0</th>\n",
       "      <td>1.0</td>\n",
       "      <td>2016_01_BUF_BAL</td>\n",
       "      <td>2016091101</td>\n",
       "      <td>BAL</td>\n",
       "      <td>BUF</td>\n",
       "      <td>REG</td>\n",
       "      <td>1</td>\n",
       "      <td>None</td>\n",
       "      <td>None</td>\n",
       "      <td>None</td>\n",
       "      <td>...</td>\n",
       "      <td></td>\n",
       "      <td>None</td>\n",
       "      <td>None</td>\n",
       "      <td>NaN</td>\n",
       "      <td>None</td>\n",
       "      <td>NaN</td>\n",
       "      <td></td>\n",
       "      <td>0.0</td>\n",
       "      <td></td>\n",
       "      <td>0.0</td>\n",
       "    </tr>\n",
       "    <tr>\n",
       "      <th>1</th>\n",
       "      <td>36.0</td>\n",
       "      <td>2016_01_BUF_BAL</td>\n",
       "      <td>2016091101</td>\n",
       "      <td>BAL</td>\n",
       "      <td>BUF</td>\n",
       "      <td>REG</td>\n",
       "      <td>1</td>\n",
       "      <td>BAL</td>\n",
       "      <td>home</td>\n",
       "      <td>BUF</td>\n",
       "      <td>...</td>\n",
       "      <td>BUF</td>\n",
       "      <td>None</td>\n",
       "      <td>None</td>\n",
       "      <td>NaN</td>\n",
       "      <td>None</td>\n",
       "      <td>NaN</td>\n",
       "      <td>00-0030041;00-0030073;00-0029799;00-0030433;00...</td>\n",
       "      <td>10.0</td>\n",
       "      <td>00-0029892;00-0029895;00-0028497;00-0027539;00...</td>\n",
       "      <td>11.0</td>\n",
       "    </tr>\n",
       "    <tr>\n",
       "      <th>2</th>\n",
       "      <td>58.0</td>\n",
       "      <td>2016_01_BUF_BAL</td>\n",
       "      <td>2016091101</td>\n",
       "      <td>BAL</td>\n",
       "      <td>BUF</td>\n",
       "      <td>REG</td>\n",
       "      <td>1</td>\n",
       "      <td>BAL</td>\n",
       "      <td>home</td>\n",
       "      <td>BUF</td>\n",
       "      <td>...</td>\n",
       "      <td>BAL</td>\n",
       "      <td>I_FORM</td>\n",
       "      <td>2 RB, 1 TE, 2 WR</td>\n",
       "      <td>8.0</td>\n",
       "      <td>4 DL, 3 LB, 4 DB</td>\n",
       "      <td>NaN</td>\n",
       "      <td>00-0029892;00-0027714;00-0032965;00-0029893;00...</td>\n",
       "      <td>11.0</td>\n",
       "      <td>00-0029542;00-0031171;00-0029566;00-0030073;00...</td>\n",
       "      <td>11.0</td>\n",
       "    </tr>\n",
       "    <tr>\n",
       "      <th>3</th>\n",
       "      <td>85.0</td>\n",
       "      <td>2016_01_BUF_BAL</td>\n",
       "      <td>2016091101</td>\n",
       "      <td>BAL</td>\n",
       "      <td>BUF</td>\n",
       "      <td>REG</td>\n",
       "      <td>1</td>\n",
       "      <td>BAL</td>\n",
       "      <td>home</td>\n",
       "      <td>BUF</td>\n",
       "      <td>...</td>\n",
       "      <td>BAL</td>\n",
       "      <td>SHOTGUN</td>\n",
       "      <td>2 RB, 1 TE, 2 WR</td>\n",
       "      <td>6.0</td>\n",
       "      <td>4 DL, 3 LB, 4 DB</td>\n",
       "      <td>3.0</td>\n",
       "      <td>00-0029892;00-0027714;00-0032965;00-0029893;00...</td>\n",
       "      <td>11.0</td>\n",
       "      <td>00-0031171;00-0029542;00-0029566;00-0030073;00...</td>\n",
       "      <td>11.0</td>\n",
       "    </tr>\n",
       "    <tr>\n",
       "      <th>4</th>\n",
       "      <td>109.0</td>\n",
       "      <td>2016_01_BUF_BAL</td>\n",
       "      <td>2016091101</td>\n",
       "      <td>BAL</td>\n",
       "      <td>BUF</td>\n",
       "      <td>REG</td>\n",
       "      <td>1</td>\n",
       "      <td>BAL</td>\n",
       "      <td>home</td>\n",
       "      <td>BUF</td>\n",
       "      <td>...</td>\n",
       "      <td>BAL</td>\n",
       "      <td>SHOTGUN</td>\n",
       "      <td>2 RB, 1 TE, 2 WR</td>\n",
       "      <td>7.0</td>\n",
       "      <td>4 DL, 3 LB, 4 DB</td>\n",
       "      <td>NaN</td>\n",
       "      <td>00-0029892;00-0027714;00-0032965;00-0029893;00...</td>\n",
       "      <td>11.0</td>\n",
       "      <td>00-0029542;00-0031171;00-0029566;00-0030073;00...</td>\n",
       "      <td>11.0</td>\n",
       "    </tr>\n",
       "    <tr>\n",
       "      <th>...</th>\n",
       "      <td>...</td>\n",
       "      <td>...</td>\n",
       "      <td>...</td>\n",
       "      <td>...</td>\n",
       "      <td>...</td>\n",
       "      <td>...</td>\n",
       "      <td>...</td>\n",
       "      <td>...</td>\n",
       "      <td>...</td>\n",
       "      <td>...</td>\n",
       "      <td>...</td>\n",
       "      <td>...</td>\n",
       "      <td>...</td>\n",
       "      <td>...</td>\n",
       "      <td>...</td>\n",
       "      <td>...</td>\n",
       "      <td>...</td>\n",
       "      <td>...</td>\n",
       "      <td>...</td>\n",
       "      <td>...</td>\n",
       "      <td>...</td>\n",
       "    </tr>\n",
       "    <tr>\n",
       "      <th>291545</th>\n",
       "      <td>3930.0</td>\n",
       "      <td>2021_22_LA_CIN</td>\n",
       "      <td>2022021300</td>\n",
       "      <td>CIN</td>\n",
       "      <td>LA</td>\n",
       "      <td>POST</td>\n",
       "      <td>22</td>\n",
       "      <td>CIN</td>\n",
       "      <td>home</td>\n",
       "      <td>LA</td>\n",
       "      <td>...</td>\n",
       "      <td>CIN</td>\n",
       "      <td>SHOTGUN</td>\n",
       "      <td>1 RB, 1 TE, 3 WR</td>\n",
       "      <td>6.0</td>\n",
       "      <td>2 DL, 3 LB, 6 DB</td>\n",
       "      <td>NaN</td>\n",
       "      <td>00-0032134;00-0032043;00-0036310;00-0033009;00...</td>\n",
       "      <td>11.0</td>\n",
       "      <td>00-0033072;00-0035663;00-0025424;00-0035667;00...</td>\n",
       "      <td>11.0</td>\n",
       "    </tr>\n",
       "    <tr>\n",
       "      <th>291546</th>\n",
       "      <td>3951.0</td>\n",
       "      <td>2021_22_LA_CIN</td>\n",
       "      <td>2022021300</td>\n",
       "      <td>CIN</td>\n",
       "      <td>LA</td>\n",
       "      <td>POST</td>\n",
       "      <td>22</td>\n",
       "      <td>None</td>\n",
       "      <td>None</td>\n",
       "      <td>None</td>\n",
       "      <td>...</td>\n",
       "      <td></td>\n",
       "      <td>None</td>\n",
       "      <td>None</td>\n",
       "      <td>NaN</td>\n",
       "      <td>None</td>\n",
       "      <td>NaN</td>\n",
       "      <td></td>\n",
       "      <td>0.0</td>\n",
       "      <td></td>\n",
       "      <td>0.0</td>\n",
       "    </tr>\n",
       "    <tr>\n",
       "      <th>291547</th>\n",
       "      <td>3968.0</td>\n",
       "      <td>2021_22_LA_CIN</td>\n",
       "      <td>2022021300</td>\n",
       "      <td>CIN</td>\n",
       "      <td>LA</td>\n",
       "      <td>POST</td>\n",
       "      <td>22</td>\n",
       "      <td>CIN</td>\n",
       "      <td>home</td>\n",
       "      <td>LA</td>\n",
       "      <td>...</td>\n",
       "      <td>CIN</td>\n",
       "      <td>SHOTGUN</td>\n",
       "      <td>1 RB, 1 TE, 3 WR</td>\n",
       "      <td>6.0</td>\n",
       "      <td>2 DL, 3 LB, 6 DB</td>\n",
       "      <td>3.0</td>\n",
       "      <td>00-0032134;00-0032043;00-0036310;00-0033009;00...</td>\n",
       "      <td>11.0</td>\n",
       "      <td>00-0033072;00-0035663;00-0025424;00-0035667;00...</td>\n",
       "      <td>11.0</td>\n",
       "    </tr>\n",
       "    <tr>\n",
       "      <th>291548</th>\n",
       "      <td>3990.0</td>\n",
       "      <td>2021_22_LA_CIN</td>\n",
       "      <td>2022021300</td>\n",
       "      <td>CIN</td>\n",
       "      <td>LA</td>\n",
       "      <td>POST</td>\n",
       "      <td>22</td>\n",
       "      <td>LA</td>\n",
       "      <td>away</td>\n",
       "      <td>CIN</td>\n",
       "      <td>...</td>\n",
       "      <td>LA</td>\n",
       "      <td>None</td>\n",
       "      <td>1 RB, 1 TE, 3 WR</td>\n",
       "      <td>6.0</td>\n",
       "      <td>4 DL, 2 LB, 5 DB</td>\n",
       "      <td>NaN</td>\n",
       "      <td>00-0036424;00-0032242;00-0034804;00-0034449;00...</td>\n",
       "      <td>11.0</td>\n",
       "      <td>00-0034834;00-0032379;00-0033548;00-0034675;00...</td>\n",
       "      <td>11.0</td>\n",
       "    </tr>\n",
       "    <tr>\n",
       "      <th>291549</th>\n",
       "      <td>4011.0</td>\n",
       "      <td>2021_22_LA_CIN</td>\n",
       "      <td>2022021300</td>\n",
       "      <td>CIN</td>\n",
       "      <td>LA</td>\n",
       "      <td>POST</td>\n",
       "      <td>22</td>\n",
       "      <td>None</td>\n",
       "      <td>None</td>\n",
       "      <td>None</td>\n",
       "      <td>...</td>\n",
       "      <td></td>\n",
       "      <td>None</td>\n",
       "      <td>None</td>\n",
       "      <td>NaN</td>\n",
       "      <td>None</td>\n",
       "      <td>NaN</td>\n",
       "      <td></td>\n",
       "      <td>0.0</td>\n",
       "      <td></td>\n",
       "      <td>0.0</td>\n",
       "    </tr>\n",
       "  </tbody>\n",
       "</table>\n",
       "<p>291550 rows × 382 columns</p>\n",
       "</div>"
      ],
      "text/plain": [
       "        play_id          game_id old_game_id home_team away_team season_type  \\\n",
       "0           1.0  2016_01_BUF_BAL  2016091101       BAL       BUF         REG   \n",
       "1          36.0  2016_01_BUF_BAL  2016091101       BAL       BUF         REG   \n",
       "2          58.0  2016_01_BUF_BAL  2016091101       BAL       BUF         REG   \n",
       "3          85.0  2016_01_BUF_BAL  2016091101       BAL       BUF         REG   \n",
       "4         109.0  2016_01_BUF_BAL  2016091101       BAL       BUF         REG   \n",
       "...         ...              ...         ...       ...       ...         ...   \n",
       "291545   3930.0   2021_22_LA_CIN  2022021300       CIN        LA        POST   \n",
       "291546   3951.0   2021_22_LA_CIN  2022021300       CIN        LA        POST   \n",
       "291547   3968.0   2021_22_LA_CIN  2022021300       CIN        LA        POST   \n",
       "291548   3990.0   2021_22_LA_CIN  2022021300       CIN        LA        POST   \n",
       "291549   4011.0   2021_22_LA_CIN  2022021300       CIN        LA        POST   \n",
       "\n",
       "        week posteam posteam_type defteam  ... possession_team  \\\n",
       "0          1    None         None    None  ...                   \n",
       "1          1     BAL         home     BUF  ...             BUF   \n",
       "2          1     BAL         home     BUF  ...             BAL   \n",
       "3          1     BAL         home     BUF  ...             BAL   \n",
       "4          1     BAL         home     BUF  ...             BAL   \n",
       "...      ...     ...          ...     ...  ...             ...   \n",
       "291545    22     CIN         home      LA  ...             CIN   \n",
       "291546    22    None         None    None  ...                   \n",
       "291547    22     CIN         home      LA  ...             CIN   \n",
       "291548    22      LA         away     CIN  ...              LA   \n",
       "291549    22    None         None    None  ...                   \n",
       "\n",
       "        offense_formation offense_personnel  defenders_in_box  \\\n",
       "0                    None              None               NaN   \n",
       "1                    None              None               NaN   \n",
       "2                  I_FORM  2 RB, 1 TE, 2 WR               8.0   \n",
       "3                 SHOTGUN  2 RB, 1 TE, 2 WR               6.0   \n",
       "4                 SHOTGUN  2 RB, 1 TE, 2 WR               7.0   \n",
       "...                   ...               ...               ...   \n",
       "291545            SHOTGUN  1 RB, 1 TE, 3 WR               6.0   \n",
       "291546               None              None               NaN   \n",
       "291547            SHOTGUN  1 RB, 1 TE, 3 WR               6.0   \n",
       "291548               None  1 RB, 1 TE, 3 WR               6.0   \n",
       "291549               None              None               NaN   \n",
       "\n",
       "        defense_personnel  number_of_pass_rushers  \\\n",
       "0                    None                     NaN   \n",
       "1                    None                     NaN   \n",
       "2        4 DL, 3 LB, 4 DB                     NaN   \n",
       "3        4 DL, 3 LB, 4 DB                     3.0   \n",
       "4        4 DL, 3 LB, 4 DB                     NaN   \n",
       "...                   ...                     ...   \n",
       "291545   2 DL, 3 LB, 6 DB                     NaN   \n",
       "291546               None                     NaN   \n",
       "291547   2 DL, 3 LB, 6 DB                     3.0   \n",
       "291548   4 DL, 2 LB, 5 DB                     NaN   \n",
       "291549               None                     NaN   \n",
       "\n",
       "                                          offense_players  n_offense  \\\n",
       "0                                                                0.0   \n",
       "1       00-0030041;00-0030073;00-0029799;00-0030433;00...       10.0   \n",
       "2       00-0029892;00-0027714;00-0032965;00-0029893;00...       11.0   \n",
       "3       00-0029892;00-0027714;00-0032965;00-0029893;00...       11.0   \n",
       "4       00-0029892;00-0027714;00-0032965;00-0029893;00...       11.0   \n",
       "...                                                   ...        ...   \n",
       "291545  00-0032134;00-0032043;00-0036310;00-0033009;00...       11.0   \n",
       "291546                                                           0.0   \n",
       "291547  00-0032134;00-0032043;00-0036310;00-0033009;00...       11.0   \n",
       "291548  00-0036424;00-0032242;00-0034804;00-0034449;00...       11.0   \n",
       "291549                                                           0.0   \n",
       "\n",
       "                                          defense_players  n_defense  \n",
       "0                                                                0.0  \n",
       "1       00-0029892;00-0029895;00-0028497;00-0027539;00...       11.0  \n",
       "2       00-0029542;00-0031171;00-0029566;00-0030073;00...       11.0  \n",
       "3       00-0031171;00-0029542;00-0029566;00-0030073;00...       11.0  \n",
       "4       00-0029542;00-0031171;00-0029566;00-0030073;00...       11.0  \n",
       "...                                                   ...        ...  \n",
       "291545  00-0033072;00-0035663;00-0025424;00-0035667;00...       11.0  \n",
       "291546                                                           0.0  \n",
       "291547  00-0033072;00-0035663;00-0025424;00-0035667;00...       11.0  \n",
       "291548  00-0034834;00-0032379;00-0033548;00-0034675;00...       11.0  \n",
       "291549                                                           0.0  \n",
       "\n",
       "[291550 rows x 382 columns]"
      ]
     },
     "execution_count": 1379,
     "metadata": {},
     "output_type": "execute_result"
    }
   ],
   "source": [
    "nfl.import_pbp_data(years, downcast=True, cache=False, alt_path=None)"
   ]
  },
  {
   "cell_type": "code",
   "execution_count": 1380,
   "id": "d428e04a",
   "metadata": {},
   "outputs": [
    {
     "data": {
      "text/plain": [
       "Index(['play_id', 'game_id', 'old_game_id', 'home_team', 'away_team',\n",
       "       'season_type', 'week', 'posteam', 'posteam_type', 'defteam',\n",
       "       ...\n",
       "       'out_of_bounds', 'home_opening_kickoff', 'qb_epa', 'xyac_epa',\n",
       "       'xyac_mean_yardage', 'xyac_median_yardage', 'xyac_success', 'xyac_fd',\n",
       "       'xpass', 'pass_oe'],\n",
       "      dtype='object', length=372)"
      ]
     },
     "execution_count": 1380,
     "metadata": {},
     "output_type": "execute_result"
    }
   ],
   "source": [
    "nfl.see_pbp_cols()"
   ]
  },
  {
   "cell_type": "code",
   "execution_count": 1381,
   "id": "5d39953c",
   "metadata": {},
   "outputs": [
    {
     "name": "stdout",
     "output_type": "stream",
     "text": [
      "Downcasting floats.\n",
      "(32280, 48)\n"
     ]
    }
   ],
   "source": [
    "weekly_df = nfl.import_weekly_data(years)\n",
    "weekly_df.head()\n",
    "print(weekly_df.shape)"
   ]
  },
  {
   "cell_type": "code",
   "execution_count": 1382,
   "id": "48473756",
   "metadata": {},
   "outputs": [
    {
     "data": {
      "text/plain": [
       "Index(['player_id', 'player_name', 'recent_team', 'season', 'week',\n",
       "       'season_type', 'completions', 'attempts', 'passing_yards',\n",
       "       'passing_tds', 'interceptions', 'sacks', 'sack_yards', 'sack_fumbles',\n",
       "       'sack_fumbles_lost', 'passing_air_yards', 'passing_yards_after_catch',\n",
       "       'passing_first_downs', 'passing_epa', 'passing_2pt_conversions',\n",
       "       'dakota', 'carries', 'rushing_yards', 'rushing_tds', 'rushing_fumbles',\n",
       "       'rushing_fumbles_lost', 'rushing_first_downs', 'rushing_epa',\n",
       "       'rushing_2pt_conversions', 'receptions', 'targets', 'receiving_yards',\n",
       "       'receiving_tds', 'receiving_fumbles', 'receiving_fumbles_lost',\n",
       "       'receiving_air_yards', 'receiving_yards_after_catch',\n",
       "       'receiving_first_downs', 'receiving_epa', 'receiving_2pt_conversions',\n",
       "       'special_teams_tds', 'fantasy_points', 'fantasy_points_ppr'],\n",
       "      dtype='object')"
      ]
     },
     "execution_count": 1382,
     "metadata": {},
     "output_type": "execute_result"
    }
   ],
   "source": [
    "nfl.see_weekly_cols()"
   ]
  },
  {
   "cell_type": "code",
   "execution_count": 1383,
   "id": "df5d5f26",
   "metadata": {},
   "outputs": [
    {
     "data": {
      "text/html": [
       "<div>\n",
       "<style scoped>\n",
       "    .dataframe tbody tr th:only-of-type {\n",
       "        vertical-align: middle;\n",
       "    }\n",
       "\n",
       "    .dataframe tbody tr th {\n",
       "        vertical-align: top;\n",
       "    }\n",
       "\n",
       "    .dataframe thead th {\n",
       "        text-align: right;\n",
       "    }\n",
       "</style>\n",
       "<table border=\"1\" class=\"dataframe\">\n",
       "  <thead>\n",
       "    <tr style=\"text-align: right;\">\n",
       "      <th></th>\n",
       "      <th>player_id</th>\n",
       "      <th>season</th>\n",
       "      <th>season_type</th>\n",
       "      <th>completions</th>\n",
       "      <th>attempts</th>\n",
       "      <th>passing_yards</th>\n",
       "      <th>passing_tds</th>\n",
       "      <th>interceptions</th>\n",
       "      <th>sacks</th>\n",
       "      <th>sack_yards</th>\n",
       "      <th>...</th>\n",
       "      <th>yac_sh</th>\n",
       "      <th>wopr_y</th>\n",
       "      <th>ry_sh</th>\n",
       "      <th>rtd_sh</th>\n",
       "      <th>rfd_sh</th>\n",
       "      <th>rtdfd_sh</th>\n",
       "      <th>dom</th>\n",
       "      <th>w8dom</th>\n",
       "      <th>yptmpa</th>\n",
       "      <th>ppr_sh</th>\n",
       "    </tr>\n",
       "  </thead>\n",
       "  <tbody>\n",
       "    <tr>\n",
       "      <th>0</th>\n",
       "      <td>00-0019596</td>\n",
       "      <td>2016</td>\n",
       "      <td>REG</td>\n",
       "      <td>291</td>\n",
       "      <td>432</td>\n",
       "      <td>3554.0</td>\n",
       "      <td>28</td>\n",
       "      <td>2.0</td>\n",
       "      <td>15.0</td>\n",
       "      <td>87.0</td>\n",
       "      <td>...</td>\n",
       "      <td>0.000000</td>\n",
       "      <td>0.000000</td>\n",
       "      <td>0.000000</td>\n",
       "      <td>0.0</td>\n",
       "      <td>0.0</td>\n",
       "      <td>0.0</td>\n",
       "      <td>0.000000</td>\n",
       "      <td>0.00000</td>\n",
       "      <td>0.000000</td>\n",
       "      <td>0.201465</td>\n",
       "    </tr>\n",
       "    <tr>\n",
       "      <th>1</th>\n",
       "      <td>00-0019596</td>\n",
       "      <td>2017</td>\n",
       "      <td>REG</td>\n",
       "      <td>385</td>\n",
       "      <td>581</td>\n",
       "      <td>4577.0</td>\n",
       "      <td>32</td>\n",
       "      <td>8.0</td>\n",
       "      <td>35.0</td>\n",
       "      <td>201.0</td>\n",
       "      <td>...</td>\n",
       "      <td>0.000000</td>\n",
       "      <td>0.000000</td>\n",
       "      <td>0.000000</td>\n",
       "      <td>0.0</td>\n",
       "      <td>0.0</td>\n",
       "      <td>0.0</td>\n",
       "      <td>0.000000</td>\n",
       "      <td>0.00000</td>\n",
       "      <td>0.000000</td>\n",
       "      <td>0.181459</td>\n",
       "    </tr>\n",
       "    <tr>\n",
       "      <th>2</th>\n",
       "      <td>00-0019596</td>\n",
       "      <td>2018</td>\n",
       "      <td>REG</td>\n",
       "      <td>375</td>\n",
       "      <td>570</td>\n",
       "      <td>4355.0</td>\n",
       "      <td>29</td>\n",
       "      <td>11.0</td>\n",
       "      <td>21.0</td>\n",
       "      <td>147.0</td>\n",
       "      <td>...</td>\n",
       "      <td>0.002757</td>\n",
       "      <td>0.002613</td>\n",
       "      <td>0.001362</td>\n",
       "      <td>0.0</td>\n",
       "      <td>0.0</td>\n",
       "      <td>0.0</td>\n",
       "      <td>0.000681</td>\n",
       "      <td>0.00109</td>\n",
       "      <td>0.010453</td>\n",
       "      <td>0.178445</td>\n",
       "    </tr>\n",
       "    <tr>\n",
       "      <th>3</th>\n",
       "      <td>00-0019596</td>\n",
       "      <td>2019</td>\n",
       "      <td>REG</td>\n",
       "      <td>373</td>\n",
       "      <td>613</td>\n",
       "      <td>4057.0</td>\n",
       "      <td>24</td>\n",
       "      <td>8.0</td>\n",
       "      <td>27.0</td>\n",
       "      <td>185.0</td>\n",
       "      <td>...</td>\n",
       "      <td>0.000000</td>\n",
       "      <td>0.000000</td>\n",
       "      <td>0.000000</td>\n",
       "      <td>0.0</td>\n",
       "      <td>0.0</td>\n",
       "      <td>0.0</td>\n",
       "      <td>0.000000</td>\n",
       "      <td>0.00000</td>\n",
       "      <td>0.000000</td>\n",
       "      <td>0.179165</td>\n",
       "    </tr>\n",
       "    <tr>\n",
       "      <th>4</th>\n",
       "      <td>00-0019596</td>\n",
       "      <td>2020</td>\n",
       "      <td>REG</td>\n",
       "      <td>401</td>\n",
       "      <td>610</td>\n",
       "      <td>4633.0</td>\n",
       "      <td>40</td>\n",
       "      <td>12.0</td>\n",
       "      <td>21.0</td>\n",
       "      <td>143.0</td>\n",
       "      <td>...</td>\n",
       "      <td>0.000000</td>\n",
       "      <td>0.000000</td>\n",
       "      <td>0.000000</td>\n",
       "      <td>0.0</td>\n",
       "      <td>0.0</td>\n",
       "      <td>0.0</td>\n",
       "      <td>0.000000</td>\n",
       "      <td>0.00000</td>\n",
       "      <td>0.000000</td>\n",
       "      <td>0.197091</td>\n",
       "    </tr>\n",
       "  </tbody>\n",
       "</table>\n",
       "<p>5 rows × 58 columns</p>\n",
       "</div>"
      ],
      "text/plain": [
       "    player_id  season season_type  completions  attempts  passing_yards  \\\n",
       "0  00-0019596    2016         REG          291       432         3554.0   \n",
       "1  00-0019596    2017         REG          385       581         4577.0   \n",
       "2  00-0019596    2018         REG          375       570         4355.0   \n",
       "3  00-0019596    2019         REG          373       613         4057.0   \n",
       "4  00-0019596    2020         REG          401       610         4633.0   \n",
       "\n",
       "   passing_tds  interceptions  sacks  sack_yards  ...    yac_sh    wopr_y  \\\n",
       "0           28            2.0   15.0        87.0  ...  0.000000  0.000000   \n",
       "1           32            8.0   35.0       201.0  ...  0.000000  0.000000   \n",
       "2           29           11.0   21.0       147.0  ...  0.002757  0.002613   \n",
       "3           24            8.0   27.0       185.0  ...  0.000000  0.000000   \n",
       "4           40           12.0   21.0       143.0  ...  0.000000  0.000000   \n",
       "\n",
       "      ry_sh  rtd_sh  rfd_sh  rtdfd_sh       dom    w8dom    yptmpa    ppr_sh  \n",
       "0  0.000000     0.0     0.0       0.0  0.000000  0.00000  0.000000  0.201465  \n",
       "1  0.000000     0.0     0.0       0.0  0.000000  0.00000  0.000000  0.181459  \n",
       "2  0.001362     0.0     0.0       0.0  0.000681  0.00109  0.010453  0.178445  \n",
       "3  0.000000     0.0     0.0       0.0  0.000000  0.00000  0.000000  0.179165  \n",
       "4  0.000000     0.0     0.0       0.0  0.000000  0.00000  0.000000  0.197091  \n",
       "\n",
       "[5 rows x 58 columns]"
      ]
     },
     "execution_count": 1383,
     "metadata": {},
     "output_type": "execute_result"
    }
   ],
   "source": [
    "season_df = nfl.import_seasonal_data(years)\n",
    "season_df.head()"
   ]
  },
  {
   "cell_type": "code",
   "execution_count": 1384,
   "id": "bff2f21c",
   "metadata": {},
   "outputs": [
    {
     "name": "stdout",
     "output_type": "stream",
     "text": [
      "['player_id', 'season', 'season_type', 'completions', 'attempts', 'passing_yards', 'passing_tds', 'interceptions', 'sacks', 'sack_yards', 'sack_fumbles', 'sack_fumbles_lost', 'passing_air_yards', 'passing_yards_after_catch', 'passing_first_downs', 'passing_epa', 'passing_2pt_conversions', 'dakota', 'carries', 'rushing_yards', 'rushing_tds', 'rushing_fumbles', 'rushing_fumbles_lost', 'rushing_first_downs', 'rushing_epa', 'rushing_2pt_conversions', 'receptions', 'targets', 'receiving_yards', 'receiving_tds', 'receiving_fumbles', 'receiving_fumbles_lost', 'receiving_air_yards', 'receiving_yards_after_catch', 'receiving_first_downs', 'receiving_epa', 'receiving_2pt_conversions', 'special_teams_tds', 'fantasy_points', 'fantasy_points_ppr', 'pacr', 'racr', 'target_share', 'air_yards_share', 'wopr_x', 'games', 'tgt_sh', 'ay_sh', 'yac_sh', 'wopr_y', 'ry_sh', 'rtd_sh', 'rfd_sh', 'rtdfd_sh', 'dom', 'w8dom', 'yptmpa', 'ppr_sh']\n"
     ]
    }
   ],
   "source": [
    "print(list(season_df.columns))"
   ]
  },
  {
   "cell_type": "code",
   "execution_count": 1385,
   "id": "dcffb0f8",
   "metadata": {},
   "outputs": [
    {
     "data": {
      "text/html": [
       "<div>\n",
       "<style scoped>\n",
       "    .dataframe tbody tr th:only-of-type {\n",
       "        vertical-align: middle;\n",
       "    }\n",
       "\n",
       "    .dataframe tbody tr th {\n",
       "        vertical-align: top;\n",
       "    }\n",
       "\n",
       "    .dataframe thead th {\n",
       "        text-align: right;\n",
       "    }\n",
       "</style>\n",
       "<table border=\"1\" class=\"dataframe\">\n",
       "  <thead>\n",
       "    <tr style=\"text-align: right;\">\n",
       "      <th></th>\n",
       "      <th>season</th>\n",
       "      <th>team</th>\n",
       "      <th>position</th>\n",
       "      <th>depth_chart_position</th>\n",
       "      <th>jersey_number</th>\n",
       "      <th>status</th>\n",
       "      <th>player_name</th>\n",
       "      <th>first_name</th>\n",
       "      <th>last_name</th>\n",
       "      <th>birth_date</th>\n",
       "      <th>...</th>\n",
       "      <th>game_type</th>\n",
       "      <th>status_description_abbr</th>\n",
       "      <th>football_name</th>\n",
       "      <th>esb_id</th>\n",
       "      <th>gsis_it_id</th>\n",
       "      <th>smart_id</th>\n",
       "      <th>entry_year</th>\n",
       "      <th>rookie_year</th>\n",
       "      <th>draft_club</th>\n",
       "      <th>draft_number</th>\n",
       "    </tr>\n",
       "  </thead>\n",
       "  <tbody>\n",
       "    <tr>\n",
       "      <th>0</th>\n",
       "      <td>2016</td>\n",
       "      <td>ARI</td>\n",
       "      <td>DB</td>\n",
       "      <td>DB</td>\n",
       "      <td>43.0</td>\n",
       "      <td>None</td>\n",
       "      <td>Mike Jenkins</td>\n",
       "      <td>mike</td>\n",
       "      <td>jenkins</td>\n",
       "      <td>1985-03-22</td>\n",
       "      <td>...</td>\n",
       "      <td>REG</td>\n",
       "      <td>None</td>\n",
       "      <td>Mike</td>\n",
       "      <td>JEN421854</td>\n",
       "      <td>None</td>\n",
       "      <td>32004a45-4e42-1854-a332-1f8b24b65db4</td>\n",
       "      <td>NaN</td>\n",
       "      <td>NaN</td>\n",
       "      <td>None</td>\n",
       "      <td>NaN</td>\n",
       "    </tr>\n",
       "    <tr>\n",
       "      <th>1</th>\n",
       "      <td>2016</td>\n",
       "      <td>ARI</td>\n",
       "      <td>DB</td>\n",
       "      <td>SS</td>\n",
       "      <td>27.0</td>\n",
       "      <td>None</td>\n",
       "      <td>Tyvon Branch</td>\n",
       "      <td>tyvon</td>\n",
       "      <td>branch</td>\n",
       "      <td>1986-12-11</td>\n",
       "      <td>...</td>\n",
       "      <td>REG</td>\n",
       "      <td>None</td>\n",
       "      <td>Tyvon</td>\n",
       "      <td>BRA530779</td>\n",
       "      <td>None</td>\n",
       "      <td>32004252-4153-0779-8615-69f59ec1aef7</td>\n",
       "      <td>2008.0</td>\n",
       "      <td>2008.0</td>\n",
       "      <td>OAK</td>\n",
       "      <td>100.0</td>\n",
       "    </tr>\n",
       "    <tr>\n",
       "      <th>2</th>\n",
       "      <td>2016</td>\n",
       "      <td>ARI</td>\n",
       "      <td>DB</td>\n",
       "      <td>CB</td>\n",
       "      <td>21.0</td>\n",
       "      <td>None</td>\n",
       "      <td>Patrick Peterson</td>\n",
       "      <td>patrick</td>\n",
       "      <td>peterson</td>\n",
       "      <td>1990-07-11</td>\n",
       "      <td>...</td>\n",
       "      <td>REG</td>\n",
       "      <td>None</td>\n",
       "      <td>Patrick</td>\n",
       "      <td>PET415511</td>\n",
       "      <td>None</td>\n",
       "      <td>32005045-5441-5511-6ae6-059d8eb99a8d</td>\n",
       "      <td>NaN</td>\n",
       "      <td>NaN</td>\n",
       "      <td>None</td>\n",
       "      <td>NaN</td>\n",
       "    </tr>\n",
       "    <tr>\n",
       "      <th>3</th>\n",
       "      <td>2016</td>\n",
       "      <td>ARI</td>\n",
       "      <td>DB</td>\n",
       "      <td>CB</td>\n",
       "      <td>28.0</td>\n",
       "      <td>None</td>\n",
       "      <td>Justin Bethel</td>\n",
       "      <td>justin</td>\n",
       "      <td>bethel</td>\n",
       "      <td>1990-06-17</td>\n",
       "      <td>...</td>\n",
       "      <td>REG</td>\n",
       "      <td>None</td>\n",
       "      <td>Justin</td>\n",
       "      <td>BET201235</td>\n",
       "      <td>None</td>\n",
       "      <td>32004245-5420-1235-8b83-7aa6aa147af8</td>\n",
       "      <td>NaN</td>\n",
       "      <td>NaN</td>\n",
       "      <td>None</td>\n",
       "      <td>NaN</td>\n",
       "    </tr>\n",
       "    <tr>\n",
       "      <th>4</th>\n",
       "      <td>2016</td>\n",
       "      <td>ARI</td>\n",
       "      <td>DB</td>\n",
       "      <td>FS</td>\n",
       "      <td>36.0</td>\n",
       "      <td>None</td>\n",
       "      <td>D.J. Swearinger</td>\n",
       "      <td>d.j.</td>\n",
       "      <td>swearinger</td>\n",
       "      <td>1991-09-01</td>\n",
       "      <td>...</td>\n",
       "      <td>REG</td>\n",
       "      <td>None</td>\n",
       "      <td>D.J.</td>\n",
       "      <td>SWE023150</td>\n",
       "      <td>None</td>\n",
       "      <td>32005357-4502-3150-3be8-2dd57069939a</td>\n",
       "      <td>NaN</td>\n",
       "      <td>NaN</td>\n",
       "      <td>None</td>\n",
       "      <td>NaN</td>\n",
       "    </tr>\n",
       "  </tbody>\n",
       "</table>\n",
       "<p>5 rows × 36 columns</p>\n",
       "</div>"
      ],
      "text/plain": [
       "   season team position depth_chart_position  jersey_number status  \\\n",
       "0    2016  ARI       DB                   DB           43.0   None   \n",
       "1    2016  ARI       DB                   SS           27.0   None   \n",
       "2    2016  ARI       DB                   CB           21.0   None   \n",
       "3    2016  ARI       DB                   CB           28.0   None   \n",
       "4    2016  ARI       DB                   FS           36.0   None   \n",
       "\n",
       "        player_name first_name   last_name birth_date  ... game_type  \\\n",
       "0      Mike Jenkins       mike     jenkins 1985-03-22  ...       REG   \n",
       "1      Tyvon Branch      tyvon      branch 1986-12-11  ...       REG   \n",
       "2  Patrick Peterson    patrick    peterson 1990-07-11  ...       REG   \n",
       "3     Justin Bethel     justin      bethel 1990-06-17  ...       REG   \n",
       "4   D.J. Swearinger       d.j.  swearinger 1991-09-01  ...       REG   \n",
       "\n",
       "   status_description_abbr football_name     esb_id gsis_it_id  \\\n",
       "0                     None          Mike  JEN421854       None   \n",
       "1                     None         Tyvon  BRA530779       None   \n",
       "2                     None       Patrick  PET415511       None   \n",
       "3                     None        Justin  BET201235       None   \n",
       "4                     None          D.J.  SWE023150       None   \n",
       "\n",
       "                               smart_id entry_year rookie_year draft_club  \\\n",
       "0  32004a45-4e42-1854-a332-1f8b24b65db4        NaN         NaN       None   \n",
       "1  32004252-4153-0779-8615-69f59ec1aef7     2008.0      2008.0        OAK   \n",
       "2  32005045-5441-5511-6ae6-059d8eb99a8d        NaN         NaN       None   \n",
       "3  32004245-5420-1235-8b83-7aa6aa147af8        NaN         NaN       None   \n",
       "4  32005357-4502-3150-3be8-2dd57069939a        NaN         NaN       None   \n",
       "\n",
       "  draft_number  \n",
       "0          NaN  \n",
       "1        100.0  \n",
       "2          NaN  \n",
       "3          NaN  \n",
       "4          NaN  \n",
       "\n",
       "[5 rows x 36 columns]"
      ]
     },
     "execution_count": 1385,
     "metadata": {},
     "output_type": "execute_result"
    }
   ],
   "source": [
    "roster_df = nfl.import_rosters(years)\n",
    "roster_df['first_name'] = roster_df['first_name'].str.lower()\n",
    "roster_df['last_name'] = roster_df['last_name'].str.lower()\n",
    "roster_df.head()"
   ]
  },
  {
   "cell_type": "code",
   "execution_count": 1386,
   "id": "5217677a",
   "metadata": {},
   "outputs": [
    {
     "data": {
      "text/html": [
       "<div>\n",
       "<style scoped>\n",
       "    .dataframe tbody tr th:only-of-type {\n",
       "        vertical-align: middle;\n",
       "    }\n",
       "\n",
       "    .dataframe tbody tr th {\n",
       "        vertical-align: top;\n",
       "    }\n",
       "\n",
       "    .dataframe thead th {\n",
       "        text-align: right;\n",
       "    }\n",
       "</style>\n",
       "<table border=\"1\" class=\"dataframe\">\n",
       "  <thead>\n",
       "    <tr style=\"text-align: right;\">\n",
       "      <th></th>\n",
       "      <th>season</th>\n",
       "      <th>team</th>\n",
       "      <th>position</th>\n",
       "      <th>depth_chart_position</th>\n",
       "      <th>jersey_number</th>\n",
       "      <th>status</th>\n",
       "      <th>player_name</th>\n",
       "      <th>first_name</th>\n",
       "      <th>last_name</th>\n",
       "      <th>birth_date</th>\n",
       "      <th>...</th>\n",
       "      <th>game_type</th>\n",
       "      <th>status_description_abbr</th>\n",
       "      <th>football_name</th>\n",
       "      <th>esb_id</th>\n",
       "      <th>gsis_it_id</th>\n",
       "      <th>smart_id</th>\n",
       "      <th>entry_year</th>\n",
       "      <th>rookie_year</th>\n",
       "      <th>draft_club</th>\n",
       "      <th>draft_number</th>\n",
       "    </tr>\n",
       "  </thead>\n",
       "  <tbody>\n",
       "    <tr>\n",
       "      <th>407</th>\n",
       "      <td>2018</td>\n",
       "      <td>BUF</td>\n",
       "      <td>QB</td>\n",
       "      <td>QB</td>\n",
       "      <td>17.0</td>\n",
       "      <td>Active</td>\n",
       "      <td>Josh Allen</td>\n",
       "      <td>joshua</td>\n",
       "      <td>allen</td>\n",
       "      <td>1996-05-21</td>\n",
       "      <td>...</td>\n",
       "      <td>REG</td>\n",
       "      <td>A01</td>\n",
       "      <td>Josh</td>\n",
       "      <td>ALL529264</td>\n",
       "      <td>46076</td>\n",
       "      <td>3200414c-4c52-9264-bedc-c4ddaf201fe7</td>\n",
       "      <td>2018.0</td>\n",
       "      <td>2018.0</td>\n",
       "      <td>BUF</td>\n",
       "      <td>7.0</td>\n",
       "    </tr>\n",
       "    <tr>\n",
       "      <th>391</th>\n",
       "      <td>2019</td>\n",
       "      <td>BUF</td>\n",
       "      <td>QB</td>\n",
       "      <td>QB</td>\n",
       "      <td>17.0</td>\n",
       "      <td>Active</td>\n",
       "      <td>Josh Allen</td>\n",
       "      <td>joshua</td>\n",
       "      <td>allen</td>\n",
       "      <td>1996-05-21</td>\n",
       "      <td>...</td>\n",
       "      <td>WC</td>\n",
       "      <td>A01</td>\n",
       "      <td>Josh</td>\n",
       "      <td>ALL529264</td>\n",
       "      <td>46076</td>\n",
       "      <td>3200414c-4c52-9264-bedc-c4ddaf201fe7</td>\n",
       "      <td>2018.0</td>\n",
       "      <td>2018.0</td>\n",
       "      <td>BUF</td>\n",
       "      <td>7.0</td>\n",
       "    </tr>\n",
       "    <tr>\n",
       "      <th>1512</th>\n",
       "      <td>2019</td>\n",
       "      <td>JAX</td>\n",
       "      <td>DL</td>\n",
       "      <td>DE</td>\n",
       "      <td>41.0</td>\n",
       "      <td>Active</td>\n",
       "      <td>Josh Allen</td>\n",
       "      <td>joshua</td>\n",
       "      <td>allen</td>\n",
       "      <td>1997-07-13</td>\n",
       "      <td>...</td>\n",
       "      <td>REG</td>\n",
       "      <td>A01</td>\n",
       "      <td>Josh</td>\n",
       "      <td>ALL528759</td>\n",
       "      <td>47790</td>\n",
       "      <td>3200414c-4c52-8759-5d19-904fa0fc8823</td>\n",
       "      <td>2019.0</td>\n",
       "      <td>2019.0</td>\n",
       "      <td>JAX</td>\n",
       "      <td>7.0</td>\n",
       "    </tr>\n",
       "    <tr>\n",
       "      <th>314</th>\n",
       "      <td>2020</td>\n",
       "      <td>BUF</td>\n",
       "      <td>QB</td>\n",
       "      <td>QB</td>\n",
       "      <td>17.0</td>\n",
       "      <td>Active</td>\n",
       "      <td>Josh Allen</td>\n",
       "      <td>joshua</td>\n",
       "      <td>allen</td>\n",
       "      <td>1996-05-21</td>\n",
       "      <td>...</td>\n",
       "      <td>CON</td>\n",
       "      <td>A01</td>\n",
       "      <td>Josh</td>\n",
       "      <td>ALL529264</td>\n",
       "      <td>46076</td>\n",
       "      <td>3200414c-4c52-9264-bedc-c4ddaf201fe7</td>\n",
       "      <td>2018.0</td>\n",
       "      <td>2018.0</td>\n",
       "      <td>BUF</td>\n",
       "      <td>7.0</td>\n",
       "    </tr>\n",
       "    <tr>\n",
       "      <th>1311</th>\n",
       "      <td>2020</td>\n",
       "      <td>JAX</td>\n",
       "      <td>DL</td>\n",
       "      <td>DE</td>\n",
       "      <td>41.0</td>\n",
       "      <td>R/Injured</td>\n",
       "      <td>Josh Allen</td>\n",
       "      <td>joshua</td>\n",
       "      <td>allen</td>\n",
       "      <td>1997-07-13</td>\n",
       "      <td>...</td>\n",
       "      <td>REG</td>\n",
       "      <td>R01</td>\n",
       "      <td>Josh</td>\n",
       "      <td>ALL528759</td>\n",
       "      <td>47790</td>\n",
       "      <td>3200414c-4c52-8759-5d19-904fa0fc8823</td>\n",
       "      <td>2019.0</td>\n",
       "      <td>2019.0</td>\n",
       "      <td>JAX</td>\n",
       "      <td>7.0</td>\n",
       "    </tr>\n",
       "    <tr>\n",
       "      <th>340</th>\n",
       "      <td>2021</td>\n",
       "      <td>BUF</td>\n",
       "      <td>QB</td>\n",
       "      <td>QB</td>\n",
       "      <td>17.0</td>\n",
       "      <td>Active</td>\n",
       "      <td>Josh Allen</td>\n",
       "      <td>joshua</td>\n",
       "      <td>allen</td>\n",
       "      <td>1996-05-21</td>\n",
       "      <td>...</td>\n",
       "      <td>DIV</td>\n",
       "      <td>A01</td>\n",
       "      <td>Josh</td>\n",
       "      <td>ALL529264</td>\n",
       "      <td>46076</td>\n",
       "      <td>3200414c-4c52-9264-bedc-c4ddaf201fe7</td>\n",
       "      <td>2018.0</td>\n",
       "      <td>2018.0</td>\n",
       "      <td>BUF</td>\n",
       "      <td>7.0</td>\n",
       "    </tr>\n",
       "    <tr>\n",
       "      <th>1348</th>\n",
       "      <td>2021</td>\n",
       "      <td>JAX</td>\n",
       "      <td>LB</td>\n",
       "      <td>OLB</td>\n",
       "      <td>41.0</td>\n",
       "      <td>Active</td>\n",
       "      <td>Josh Allen</td>\n",
       "      <td>joshua</td>\n",
       "      <td>allen</td>\n",
       "      <td>1997-07-13</td>\n",
       "      <td>...</td>\n",
       "      <td>REG</td>\n",
       "      <td>A01</td>\n",
       "      <td>Josh</td>\n",
       "      <td>ALL528759</td>\n",
       "      <td>47790</td>\n",
       "      <td>3200414c-4c52-8759-5d19-904fa0fc8823</td>\n",
       "      <td>2019.0</td>\n",
       "      <td>2019.0</td>\n",
       "      <td>JAX</td>\n",
       "      <td>7.0</td>\n",
       "    </tr>\n",
       "  </tbody>\n",
       "</table>\n",
       "<p>7 rows × 36 columns</p>\n",
       "</div>"
      ],
      "text/plain": [
       "      season team position depth_chart_position  jersey_number     status  \\\n",
       "407     2018  BUF       QB                   QB           17.0     Active   \n",
       "391     2019  BUF       QB                   QB           17.0     Active   \n",
       "1512    2019  JAX       DL                   DE           41.0     Active   \n",
       "314     2020  BUF       QB                   QB           17.0     Active   \n",
       "1311    2020  JAX       DL                   DE           41.0  R/Injured   \n",
       "340     2021  BUF       QB                   QB           17.0     Active   \n",
       "1348    2021  JAX       LB                  OLB           41.0     Active   \n",
       "\n",
       "     player_name first_name last_name birth_date  ... game_type  \\\n",
       "407   Josh Allen     joshua     allen 1996-05-21  ...       REG   \n",
       "391   Josh Allen     joshua     allen 1996-05-21  ...        WC   \n",
       "1512  Josh Allen     joshua     allen 1997-07-13  ...       REG   \n",
       "314   Josh Allen     joshua     allen 1996-05-21  ...       CON   \n",
       "1311  Josh Allen     joshua     allen 1997-07-13  ...       REG   \n",
       "340   Josh Allen     joshua     allen 1996-05-21  ...       DIV   \n",
       "1348  Josh Allen     joshua     allen 1997-07-13  ...       REG   \n",
       "\n",
       "      status_description_abbr football_name     esb_id gsis_it_id  \\\n",
       "407                       A01          Josh  ALL529264      46076   \n",
       "391                       A01          Josh  ALL529264      46076   \n",
       "1512                      A01          Josh  ALL528759      47790   \n",
       "314                       A01          Josh  ALL529264      46076   \n",
       "1311                      R01          Josh  ALL528759      47790   \n",
       "340                       A01          Josh  ALL529264      46076   \n",
       "1348                      A01          Josh  ALL528759      47790   \n",
       "\n",
       "                                  smart_id entry_year rookie_year draft_club  \\\n",
       "407   3200414c-4c52-9264-bedc-c4ddaf201fe7     2018.0      2018.0        BUF   \n",
       "391   3200414c-4c52-9264-bedc-c4ddaf201fe7     2018.0      2018.0        BUF   \n",
       "1512  3200414c-4c52-8759-5d19-904fa0fc8823     2019.0      2019.0        JAX   \n",
       "314   3200414c-4c52-9264-bedc-c4ddaf201fe7     2018.0      2018.0        BUF   \n",
       "1311  3200414c-4c52-8759-5d19-904fa0fc8823     2019.0      2019.0        JAX   \n",
       "340   3200414c-4c52-9264-bedc-c4ddaf201fe7     2018.0      2018.0        BUF   \n",
       "1348  3200414c-4c52-8759-5d19-904fa0fc8823     2019.0      2019.0        JAX   \n",
       "\n",
       "     draft_number  \n",
       "407           7.0  \n",
       "391           7.0  \n",
       "1512          7.0  \n",
       "314           7.0  \n",
       "1311          7.0  \n",
       "340           7.0  \n",
       "1348          7.0  \n",
       "\n",
       "[7 rows x 36 columns]"
      ]
     },
     "execution_count": 1386,
     "metadata": {},
     "output_type": "execute_result"
    }
   ],
   "source": [
    "roster_df.loc[(roster_df['first_name'] == 'joshua') & (roster_df['last_name'] == 'allen')]"
   ]
  },
  {
   "cell_type": "code",
   "execution_count": 1387,
   "id": "6e8a8770",
   "metadata": {},
   "outputs": [
    {
     "name": "stdout",
     "output_type": "stream",
     "text": [
      "['season', 'team', 'position', 'depth_chart_position', 'jersey_number', 'status', 'player_name', 'first_name', 'last_name', 'birth_date', 'height', 'weight', 'college', 'player_id', 'espn_id', 'sportradar_id', 'yahoo_id', 'rotowire_id', 'pff_id', 'pfr_id', 'fantasy_data_id', 'sleeper_id', 'years_exp', 'headshot_url', 'ngs_position', 'week', 'game_type', 'status_description_abbr', 'football_name', 'esb_id', 'gsis_it_id', 'smart_id', 'entry_year', 'rookie_year', 'draft_club', 'draft_number']\n"
     ]
    }
   ],
   "source": [
    "print(list(roster_df.columns))"
   ]
  },
  {
   "cell_type": "code",
   "execution_count": 1388,
   "id": "88a3cf85",
   "metadata": {},
   "outputs": [
    {
     "data": {
      "text/html": [
       "<div>\n",
       "<style scoped>\n",
       "    .dataframe tbody tr th:only-of-type {\n",
       "        vertical-align: middle;\n",
       "    }\n",
       "\n",
       "    .dataframe tbody tr th {\n",
       "        vertical-align: top;\n",
       "    }\n",
       "\n",
       "    .dataframe thead th {\n",
       "        text-align: right;\n",
       "    }\n",
       "</style>\n",
       "<table border=\"1\" class=\"dataframe\">\n",
       "  <thead>\n",
       "    <tr style=\"text-align: right;\">\n",
       "      <th></th>\n",
       "      <th>position</th>\n",
       "      <th>count</th>\n",
       "    </tr>\n",
       "  </thead>\n",
       "  <tbody>\n",
       "    <tr>\n",
       "      <th>0</th>\n",
       "      <td>DB</td>\n",
       "      <td>3200</td>\n",
       "    </tr>\n",
       "    <tr>\n",
       "      <th>1</th>\n",
       "      <td>DL</td>\n",
       "      <td>2561</td>\n",
       "    </tr>\n",
       "    <tr>\n",
       "      <th>2</th>\n",
       "      <td>K</td>\n",
       "      <td>1</td>\n",
       "    </tr>\n",
       "    <tr>\n",
       "      <th>3</th>\n",
       "      <td>LB</td>\n",
       "      <td>2251</td>\n",
       "    </tr>\n",
       "    <tr>\n",
       "      <th>4</th>\n",
       "      <td>OL</td>\n",
       "      <td>2891</td>\n",
       "    </tr>\n",
       "    <tr>\n",
       "      <th>5</th>\n",
       "      <td>QB</td>\n",
       "      <td>722</td>\n",
       "    </tr>\n",
       "    <tr>\n",
       "      <th>6</th>\n",
       "      <td>RB</td>\n",
       "      <td>1403</td>\n",
       "    </tr>\n",
       "    <tr>\n",
       "      <th>7</th>\n",
       "      <td>SPEC</td>\n",
       "      <td>811</td>\n",
       "    </tr>\n",
       "    <tr>\n",
       "      <th>8</th>\n",
       "      <td>TE</td>\n",
       "      <td>1153</td>\n",
       "    </tr>\n",
       "    <tr>\n",
       "      <th>9</th>\n",
       "      <td>WR</td>\n",
       "      <td>2168</td>\n",
       "    </tr>\n",
       "  </tbody>\n",
       "</table>\n",
       "</div>"
      ],
      "text/plain": [
       "  position  count\n",
       "0       DB   3200\n",
       "1       DL   2561\n",
       "2        K      1\n",
       "3       LB   2251\n",
       "4       OL   2891\n",
       "5       QB    722\n",
       "6       RB   1403\n",
       "7     SPEC    811\n",
       "8       TE   1153\n",
       "9       WR   2168"
      ]
     },
     "execution_count": 1388,
     "metadata": {},
     "output_type": "execute_result"
    }
   ],
   "source": [
    "roster_df[[\"position\",\"player_id\"]].groupby([\"position\"])[\"player_id\"].count().reset_index(name=\"count\")"
   ]
  },
  {
   "cell_type": "code",
   "execution_count": 1389,
   "id": "7450cadf",
   "metadata": {},
   "outputs": [
    {
     "data": {
      "text/plain": [
       "(110660, 80)"
      ]
     },
     "execution_count": 1389,
     "metadata": {},
     "output_type": "execute_result"
    }
   ],
   "source": [
    "roster_df.drop(['player_name','season','week'], axis=1, inplace=True)\n",
    "weekly_roster_df = weekly_df.merge(roster_df, on='player_id', how='left')\n",
    "weekly_roster_df = weekly_roster_df[(weekly_roster_df['status']=='Active')]\n",
    "weekly_roster_df.shape"
   ]
  },
  {
   "cell_type": "code",
   "execution_count": 1390,
   "id": "ce70b387",
   "metadata": {},
   "outputs": [
    {
     "data": {
      "text/html": [
       "<div>\n",
       "<style scoped>\n",
       "    .dataframe tbody tr th:only-of-type {\n",
       "        vertical-align: middle;\n",
       "    }\n",
       "\n",
       "    .dataframe tbody tr th {\n",
       "        vertical-align: top;\n",
       "    }\n",
       "\n",
       "    .dataframe thead th {\n",
       "        text-align: right;\n",
       "    }\n",
       "</style>\n",
       "<table border=\"1\" class=\"dataframe\">\n",
       "  <thead>\n",
       "    <tr style=\"text-align: right;\">\n",
       "      <th></th>\n",
       "      <th>position</th>\n",
       "      <th>count</th>\n",
       "    </tr>\n",
       "  </thead>\n",
       "  <tbody>\n",
       "    <tr>\n",
       "      <th>0</th>\n",
       "      <td>DB</td>\n",
       "      <td>473</td>\n",
       "    </tr>\n",
       "    <tr>\n",
       "      <th>1</th>\n",
       "      <td>DL</td>\n",
       "      <td>63</td>\n",
       "    </tr>\n",
       "    <tr>\n",
       "      <th>2</th>\n",
       "      <td>LB</td>\n",
       "      <td>103</td>\n",
       "    </tr>\n",
       "    <tr>\n",
       "      <th>3</th>\n",
       "      <td>OL</td>\n",
       "      <td>188</td>\n",
       "    </tr>\n",
       "    <tr>\n",
       "      <th>4</th>\n",
       "      <td>QB</td>\n",
       "      <td>15442</td>\n",
       "    </tr>\n",
       "    <tr>\n",
       "      <th>5</th>\n",
       "      <td>RB</td>\n",
       "      <td>28866</td>\n",
       "    </tr>\n",
       "    <tr>\n",
       "      <th>6</th>\n",
       "      <td>SPEC</td>\n",
       "      <td>457</td>\n",
       "    </tr>\n",
       "    <tr>\n",
       "      <th>7</th>\n",
       "      <td>TE</td>\n",
       "      <td>22005</td>\n",
       "    </tr>\n",
       "    <tr>\n",
       "      <th>8</th>\n",
       "      <td>WR</td>\n",
       "      <td>43063</td>\n",
       "    </tr>\n",
       "  </tbody>\n",
       "</table>\n",
       "</div>"
      ],
      "text/plain": [
       "  position  count\n",
       "0       DB    473\n",
       "1       DL     63\n",
       "2       LB    103\n",
       "3       OL    188\n",
       "4       QB  15442\n",
       "5       RB  28866\n",
       "6     SPEC    457\n",
       "7       TE  22005\n",
       "8       WR  43063"
      ]
     },
     "execution_count": 1390,
     "metadata": {},
     "output_type": "execute_result"
    }
   ],
   "source": [
    "weekly_roster_df[[\"position\",\"player_id\"]].groupby([\"position\"])[\"player_id\"].count().reset_index(name=\"count\")"
   ]
  },
  {
   "cell_type": "code",
   "execution_count": 1391,
   "id": "4296eac7",
   "metadata": {},
   "outputs": [
    {
     "name": "stdout",
     "output_type": "stream",
     "text": [
      "['player_id', 'player_name', 'recent_team', 'season', 'week', 'season_type', 'completions', 'attempts', 'passing_yards', 'passing_tds', 'interceptions', 'sacks', 'sack_yards', 'sack_fumbles', 'sack_fumbles_lost', 'passing_air_yards', 'passing_yards_after_catch', 'passing_first_downs', 'passing_epa', 'passing_2pt_conversions', 'dakota', 'carries', 'rushing_yards', 'rushing_tds', 'rushing_fumbles', 'rushing_fumbles_lost', 'rushing_first_downs', 'rushing_epa', 'rushing_2pt_conversions', 'receptions', 'targets', 'receiving_yards', 'receiving_tds', 'receiving_fumbles', 'receiving_fumbles_lost', 'receiving_air_yards', 'receiving_yards_after_catch', 'receiving_first_downs', 'receiving_epa', 'receiving_2pt_conversions', 'special_teams_tds', 'fantasy_points', 'fantasy_points_ppr', 'pacr', 'racr', 'target_share', 'air_yards_share', 'wopr', 'team', 'position', 'depth_chart_position', 'jersey_number', 'status', 'first_name', 'last_name', 'birth_date', 'height', 'weight', 'college', 'espn_id', 'sportradar_id', 'yahoo_id', 'rotowire_id', 'pff_id', 'pfr_id', 'fantasy_data_id', 'sleeper_id', 'years_exp', 'headshot_url', 'ngs_position', 'game_type', 'status_description_abbr', 'football_name', 'esb_id', 'gsis_it_id', 'smart_id', 'entry_year', 'rookie_year', 'draft_club', 'draft_number']\n"
     ]
    }
   ],
   "source": [
    "print(list(weekly_roster_df.columns))"
   ]
  },
  {
   "cell_type": "code",
   "execution_count": 1392,
   "id": "90ba7a9c",
   "metadata": {},
   "outputs": [
    {
     "data": {
      "text/html": [
       "<div>\n",
       "<style scoped>\n",
       "    .dataframe tbody tr th:only-of-type {\n",
       "        vertical-align: middle;\n",
       "    }\n",
       "\n",
       "    .dataframe tbody tr th {\n",
       "        vertical-align: top;\n",
       "    }\n",
       "\n",
       "    .dataframe thead th {\n",
       "        text-align: right;\n",
       "    }\n",
       "</style>\n",
       "<table border=\"1\" class=\"dataframe\">\n",
       "  <thead>\n",
       "    <tr style=\"text-align: right;\">\n",
       "      <th></th>\n",
       "      <th>player_id</th>\n",
       "      <th>player_name</th>\n",
       "      <th>recent_team</th>\n",
       "      <th>season</th>\n",
       "      <th>week</th>\n",
       "      <th>season_type</th>\n",
       "      <th>completions</th>\n",
       "      <th>attempts</th>\n",
       "      <th>passing_yards</th>\n",
       "      <th>passing_tds</th>\n",
       "      <th>...</th>\n",
       "      <th>game_type</th>\n",
       "      <th>status_description_abbr</th>\n",
       "      <th>football_name</th>\n",
       "      <th>esb_id</th>\n",
       "      <th>gsis_it_id</th>\n",
       "      <th>smart_id</th>\n",
       "      <th>entry_year</th>\n",
       "      <th>rookie_year</th>\n",
       "      <th>draft_club</th>\n",
       "      <th>draft_number</th>\n",
       "    </tr>\n",
       "  </thead>\n",
       "  <tbody>\n",
       "    <tr>\n",
       "      <th>22929</th>\n",
       "      <td>00-0019596</td>\n",
       "      <td>T.Brady</td>\n",
       "      <td>NE</td>\n",
       "      <td>2017</td>\n",
       "      <td>1</td>\n",
       "      <td>REG</td>\n",
       "      <td>16</td>\n",
       "      <td>36</td>\n",
       "      <td>267.0</td>\n",
       "      <td>0</td>\n",
       "      <td>...</td>\n",
       "      <td>SB</td>\n",
       "      <td>A01</td>\n",
       "      <td>Tom</td>\n",
       "      <td>BRA371156</td>\n",
       "      <td>25511</td>\n",
       "      <td>32004252-4137-1156-7ed0-8b9e44948f13</td>\n",
       "      <td>2000.0</td>\n",
       "      <td>2000.0</td>\n",
       "      <td>NE</td>\n",
       "      <td>199.0</td>\n",
       "    </tr>\n",
       "    <tr>\n",
       "      <th>22930</th>\n",
       "      <td>00-0019596</td>\n",
       "      <td>T.Brady</td>\n",
       "      <td>NE</td>\n",
       "      <td>2017</td>\n",
       "      <td>1</td>\n",
       "      <td>REG</td>\n",
       "      <td>16</td>\n",
       "      <td>36</td>\n",
       "      <td>267.0</td>\n",
       "      <td>0</td>\n",
       "      <td>...</td>\n",
       "      <td>SB</td>\n",
       "      <td>A01</td>\n",
       "      <td>Tom</td>\n",
       "      <td>BRA371156</td>\n",
       "      <td>25511</td>\n",
       "      <td>32004252-4137-1156-7ed0-8b9e44948f13</td>\n",
       "      <td>2000.0</td>\n",
       "      <td>2000.0</td>\n",
       "      <td>NE</td>\n",
       "      <td>199.0</td>\n",
       "    </tr>\n",
       "    <tr>\n",
       "      <th>22931</th>\n",
       "      <td>00-0019596</td>\n",
       "      <td>T.Brady</td>\n",
       "      <td>NE</td>\n",
       "      <td>2017</td>\n",
       "      <td>1</td>\n",
       "      <td>REG</td>\n",
       "      <td>16</td>\n",
       "      <td>36</td>\n",
       "      <td>267.0</td>\n",
       "      <td>0</td>\n",
       "      <td>...</td>\n",
       "      <td>WC</td>\n",
       "      <td>A01</td>\n",
       "      <td>Tom</td>\n",
       "      <td>BRA371156</td>\n",
       "      <td>25511</td>\n",
       "      <td>32004252-4137-1156-7ed0-8b9e44948f13</td>\n",
       "      <td>2000.0</td>\n",
       "      <td>2000.0</td>\n",
       "      <td>NE</td>\n",
       "      <td>199.0</td>\n",
       "    </tr>\n",
       "    <tr>\n",
       "      <th>22932</th>\n",
       "      <td>00-0019596</td>\n",
       "      <td>T.Brady</td>\n",
       "      <td>NE</td>\n",
       "      <td>2017</td>\n",
       "      <td>1</td>\n",
       "      <td>REG</td>\n",
       "      <td>16</td>\n",
       "      <td>36</td>\n",
       "      <td>267.0</td>\n",
       "      <td>0</td>\n",
       "      <td>...</td>\n",
       "      <td>SB</td>\n",
       "      <td>A01</td>\n",
       "      <td>Tom</td>\n",
       "      <td>BRA371156</td>\n",
       "      <td>25511</td>\n",
       "      <td>32004252-4137-1156-7ed0-8b9e44948f13</td>\n",
       "      <td>2000.0</td>\n",
       "      <td>2000.0</td>\n",
       "      <td>NE</td>\n",
       "      <td>199.0</td>\n",
       "    </tr>\n",
       "    <tr>\n",
       "      <th>22933</th>\n",
       "      <td>00-0019596</td>\n",
       "      <td>T.Brady</td>\n",
       "      <td>NE</td>\n",
       "      <td>2017</td>\n",
       "      <td>1</td>\n",
       "      <td>REG</td>\n",
       "      <td>16</td>\n",
       "      <td>36</td>\n",
       "      <td>267.0</td>\n",
       "      <td>0</td>\n",
       "      <td>...</td>\n",
       "      <td>DIV</td>\n",
       "      <td>A01</td>\n",
       "      <td>Tom</td>\n",
       "      <td>BRA371156</td>\n",
       "      <td>25511</td>\n",
       "      <td>32004252-4137-1156-7ed0-8b9e44948f13</td>\n",
       "      <td>2000.0</td>\n",
       "      <td>2000.0</td>\n",
       "      <td>NE</td>\n",
       "      <td>199.0</td>\n",
       "    </tr>\n",
       "  </tbody>\n",
       "</table>\n",
       "<p>5 rows × 80 columns</p>\n",
       "</div>"
      ],
      "text/plain": [
       "        player_id player_name recent_team  season  week season_type  \\\n",
       "22929  00-0019596     T.Brady          NE    2017     1         REG   \n",
       "22930  00-0019596     T.Brady          NE    2017     1         REG   \n",
       "22931  00-0019596     T.Brady          NE    2017     1         REG   \n",
       "22932  00-0019596     T.Brady          NE    2017     1         REG   \n",
       "22933  00-0019596     T.Brady          NE    2017     1         REG   \n",
       "\n",
       "       completions  attempts  passing_yards  passing_tds  ...  game_type  \\\n",
       "22929           16        36          267.0            0  ...         SB   \n",
       "22930           16        36          267.0            0  ...         SB   \n",
       "22931           16        36          267.0            0  ...         WC   \n",
       "22932           16        36          267.0            0  ...         SB   \n",
       "22933           16        36          267.0            0  ...        DIV   \n",
       "\n",
       "       status_description_abbr  football_name     esb_id  gsis_it_id  \\\n",
       "22929                      A01            Tom  BRA371156       25511   \n",
       "22930                      A01            Tom  BRA371156       25511   \n",
       "22931                      A01            Tom  BRA371156       25511   \n",
       "22932                      A01            Tom  BRA371156       25511   \n",
       "22933                      A01            Tom  BRA371156       25511   \n",
       "\n",
       "                                   smart_id  entry_year  rookie_year  \\\n",
       "22929  32004252-4137-1156-7ed0-8b9e44948f13      2000.0       2000.0   \n",
       "22930  32004252-4137-1156-7ed0-8b9e44948f13      2000.0       2000.0   \n",
       "22931  32004252-4137-1156-7ed0-8b9e44948f13      2000.0       2000.0   \n",
       "22932  32004252-4137-1156-7ed0-8b9e44948f13      2000.0       2000.0   \n",
       "22933  32004252-4137-1156-7ed0-8b9e44948f13      2000.0       2000.0   \n",
       "\n",
       "       draft_club  draft_number  \n",
       "22929          NE         199.0  \n",
       "22930          NE         199.0  \n",
       "22931          NE         199.0  \n",
       "22932          NE         199.0  \n",
       "22933          NE         199.0  \n",
       "\n",
       "[5 rows x 80 columns]"
      ]
     },
     "execution_count": 1392,
     "metadata": {},
     "output_type": "execute_result"
    }
   ],
   "source": [
    "##Sort By Players & Week (Make Sure Weeks Go From 1 to 17 for ETL)\n",
    "weekly_roster_df.sort_values(['player_id', 'week'], ascending = [True, True], inplace = True)\n",
    "weekly_roster_df.head()"
   ]
  },
  {
   "cell_type": "code",
   "execution_count": 1393,
   "id": "48be85af",
   "metadata": {},
   "outputs": [
    {
     "data": {
      "text/plain": [
       "28866"
      ]
     },
     "execution_count": 1393,
     "metadata": {},
     "output_type": "execute_result"
    }
   ],
   "source": [
    "weekly_rb_df = weekly_roster_df[(weekly_roster_df['position']=='RB')].copy().reset_index(drop=True)\n",
    "len(weekly_rb_df)"
   ]
  },
  {
   "cell_type": "code",
   "execution_count": 1394,
   "id": "39f78ff7",
   "metadata": {},
   "outputs": [
    {
     "data": {
      "text/plain": [
       "15442"
      ]
     },
     "execution_count": 1394,
     "metadata": {},
     "output_type": "execute_result"
    }
   ],
   "source": [
    "weekly_qb_df = weekly_roster_df[(weekly_roster_df['position']=='QB')].copy().reset_index(drop=True)\n",
    "len(weekly_qb_df)"
   ]
  },
  {
   "cell_type": "code",
   "execution_count": 1395,
   "id": "3847d1b8",
   "metadata": {},
   "outputs": [
    {
     "data": {
      "text/plain": [
       "43063"
      ]
     },
     "execution_count": 1395,
     "metadata": {},
     "output_type": "execute_result"
    }
   ],
   "source": [
    " weekly_wr_df = weekly_roster_df[(weekly_roster_df['position']=='WR')].copy().reset_index(drop=True)\n",
    "len(weekly_wr_df)"
   ]
  },
  {
   "cell_type": "code",
   "execution_count": 1396,
   "id": "41dc74e2",
   "metadata": {},
   "outputs": [
    {
     "data": {
      "text/plain": [
       "22005"
      ]
     },
     "execution_count": 1396,
     "metadata": {},
     "output_type": "execute_result"
    }
   ],
   "source": [
    "weekly_te_df = weekly_roster_df[(weekly_roster_df['position']=='TE')].copy().reset_index(drop=True)\n",
    "len(weekly_te_df)"
   ]
  },
  {
   "cell_type": "markdown",
   "id": "ed297a5b",
   "metadata": {},
   "source": [
    "### RB model"
   ]
  },
  {
   "cell_type": "code",
   "execution_count": 1397,
   "id": "6a8ebb42",
   "metadata": {},
   "outputs": [
    {
     "data": {
      "text/html": [
       "<div>\n",
       "<style scoped>\n",
       "    .dataframe tbody tr th:only-of-type {\n",
       "        vertical-align: middle;\n",
       "    }\n",
       "\n",
       "    .dataframe tbody tr th {\n",
       "        vertical-align: top;\n",
       "    }\n",
       "\n",
       "    .dataframe thead th {\n",
       "        text-align: right;\n",
       "    }\n",
       "</style>\n",
       "<table border=\"1\" class=\"dataframe\">\n",
       "  <thead>\n",
       "    <tr style=\"text-align: right;\">\n",
       "      <th></th>\n",
       "      <th>player_id</th>\n",
       "      <th>player_name</th>\n",
       "      <th>recent_team</th>\n",
       "      <th>season</th>\n",
       "      <th>week</th>\n",
       "      <th>season_type</th>\n",
       "      <th>completions</th>\n",
       "      <th>attempts</th>\n",
       "      <th>passing_yards</th>\n",
       "      <th>passing_tds</th>\n",
       "      <th>...</th>\n",
       "      <th>game_type</th>\n",
       "      <th>status_description_abbr</th>\n",
       "      <th>football_name</th>\n",
       "      <th>esb_id</th>\n",
       "      <th>gsis_it_id</th>\n",
       "      <th>smart_id</th>\n",
       "      <th>entry_year</th>\n",
       "      <th>rookie_year</th>\n",
       "      <th>draft_club</th>\n",
       "      <th>draft_number</th>\n",
       "    </tr>\n",
       "  </thead>\n",
       "  <tbody>\n",
       "    <tr>\n",
       "      <th>0</th>\n",
       "      <td>00-0023500</td>\n",
       "      <td>F.Gore</td>\n",
       "      <td>IND</td>\n",
       "      <td>2016</td>\n",
       "      <td>1</td>\n",
       "      <td>REG</td>\n",
       "      <td>0</td>\n",
       "      <td>0</td>\n",
       "      <td>0.0</td>\n",
       "      <td>0</td>\n",
       "      <td>...</td>\n",
       "      <td>REG</td>\n",
       "      <td>A01</td>\n",
       "      <td>Frank</td>\n",
       "      <td>GOR411171</td>\n",
       "      <td>29892</td>\n",
       "      <td>3200474f-5241-1171-e932-18530d86ff0c</td>\n",
       "      <td>2005.0</td>\n",
       "      <td>2005.0</td>\n",
       "      <td>SF</td>\n",
       "      <td>65.0</td>\n",
       "    </tr>\n",
       "    <tr>\n",
       "      <th>1</th>\n",
       "      <td>00-0023500</td>\n",
       "      <td>F.Gore</td>\n",
       "      <td>IND</td>\n",
       "      <td>2016</td>\n",
       "      <td>1</td>\n",
       "      <td>REG</td>\n",
       "      <td>0</td>\n",
       "      <td>0</td>\n",
       "      <td>0.0</td>\n",
       "      <td>0</td>\n",
       "      <td>...</td>\n",
       "      <td>REG</td>\n",
       "      <td>A01</td>\n",
       "      <td>Frank</td>\n",
       "      <td>GOR411171</td>\n",
       "      <td>29892</td>\n",
       "      <td>3200474f-5241-1171-e932-18530d86ff0c</td>\n",
       "      <td>2005.0</td>\n",
       "      <td>2005.0</td>\n",
       "      <td>SF</td>\n",
       "      <td>65.0</td>\n",
       "    </tr>\n",
       "    <tr>\n",
       "      <th>2</th>\n",
       "      <td>00-0023500</td>\n",
       "      <td>F.Gore</td>\n",
       "      <td>IND</td>\n",
       "      <td>2016</td>\n",
       "      <td>1</td>\n",
       "      <td>REG</td>\n",
       "      <td>0</td>\n",
       "      <td>0</td>\n",
       "      <td>0.0</td>\n",
       "      <td>0</td>\n",
       "      <td>...</td>\n",
       "      <td>WC</td>\n",
       "      <td>A01</td>\n",
       "      <td>Frank</td>\n",
       "      <td>GOR411171</td>\n",
       "      <td>29892</td>\n",
       "      <td>3200474f-5241-1171-e932-18530d86ff0c</td>\n",
       "      <td>2005.0</td>\n",
       "      <td>2005.0</td>\n",
       "      <td>SF</td>\n",
       "      <td>65.0</td>\n",
       "    </tr>\n",
       "    <tr>\n",
       "      <th>3</th>\n",
       "      <td>00-0023500</td>\n",
       "      <td>F.Gore</td>\n",
       "      <td>IND</td>\n",
       "      <td>2017</td>\n",
       "      <td>1</td>\n",
       "      <td>REG</td>\n",
       "      <td>0</td>\n",
       "      <td>0</td>\n",
       "      <td>0.0</td>\n",
       "      <td>0</td>\n",
       "      <td>...</td>\n",
       "      <td>REG</td>\n",
       "      <td>A01</td>\n",
       "      <td>Frank</td>\n",
       "      <td>GOR411171</td>\n",
       "      <td>29892</td>\n",
       "      <td>3200474f-5241-1171-e932-18530d86ff0c</td>\n",
       "      <td>2005.0</td>\n",
       "      <td>2005.0</td>\n",
       "      <td>SF</td>\n",
       "      <td>65.0</td>\n",
       "    </tr>\n",
       "    <tr>\n",
       "      <th>4</th>\n",
       "      <td>00-0023500</td>\n",
       "      <td>F.Gore</td>\n",
       "      <td>IND</td>\n",
       "      <td>2017</td>\n",
       "      <td>1</td>\n",
       "      <td>REG</td>\n",
       "      <td>0</td>\n",
       "      <td>0</td>\n",
       "      <td>0.0</td>\n",
       "      <td>0</td>\n",
       "      <td>...</td>\n",
       "      <td>REG</td>\n",
       "      <td>A01</td>\n",
       "      <td>Frank</td>\n",
       "      <td>GOR411171</td>\n",
       "      <td>29892</td>\n",
       "      <td>3200474f-5241-1171-e932-18530d86ff0c</td>\n",
       "      <td>2005.0</td>\n",
       "      <td>2005.0</td>\n",
       "      <td>SF</td>\n",
       "      <td>65.0</td>\n",
       "    </tr>\n",
       "  </tbody>\n",
       "</table>\n",
       "<p>5 rows × 80 columns</p>\n",
       "</div>"
      ],
      "text/plain": [
       "    player_id player_name recent_team  season  week season_type  completions  \\\n",
       "0  00-0023500      F.Gore         IND    2016     1         REG            0   \n",
       "1  00-0023500      F.Gore         IND    2016     1         REG            0   \n",
       "2  00-0023500      F.Gore         IND    2016     1         REG            0   \n",
       "3  00-0023500      F.Gore         IND    2017     1         REG            0   \n",
       "4  00-0023500      F.Gore         IND    2017     1         REG            0   \n",
       "\n",
       "   attempts  passing_yards  passing_tds  ...  game_type  \\\n",
       "0         0            0.0            0  ...        REG   \n",
       "1         0            0.0            0  ...        REG   \n",
       "2         0            0.0            0  ...         WC   \n",
       "3         0            0.0            0  ...        REG   \n",
       "4         0            0.0            0  ...        REG   \n",
       "\n",
       "   status_description_abbr  football_name     esb_id  gsis_it_id  \\\n",
       "0                      A01          Frank  GOR411171       29892   \n",
       "1                      A01          Frank  GOR411171       29892   \n",
       "2                      A01          Frank  GOR411171       29892   \n",
       "3                      A01          Frank  GOR411171       29892   \n",
       "4                      A01          Frank  GOR411171       29892   \n",
       "\n",
       "                               smart_id  entry_year  rookie_year  draft_club  \\\n",
       "0  3200474f-5241-1171-e932-18530d86ff0c      2005.0       2005.0          SF   \n",
       "1  3200474f-5241-1171-e932-18530d86ff0c      2005.0       2005.0          SF   \n",
       "2  3200474f-5241-1171-e932-18530d86ff0c      2005.0       2005.0          SF   \n",
       "3  3200474f-5241-1171-e932-18530d86ff0c      2005.0       2005.0          SF   \n",
       "4  3200474f-5241-1171-e932-18530d86ff0c      2005.0       2005.0          SF   \n",
       "\n",
       "   draft_number  \n",
       "0          65.0  \n",
       "1          65.0  \n",
       "2          65.0  \n",
       "3          65.0  \n",
       "4          65.0  \n",
       "\n",
       "[5 rows x 80 columns]"
      ]
     },
     "execution_count": 1397,
     "metadata": {},
     "output_type": "execute_result"
    }
   ],
   "source": [
    "weekly_rb_df.head()"
   ]
  },
  {
   "cell_type": "code",
   "execution_count": 1398,
   "id": "1a93c0a1",
   "metadata": {},
   "outputs": [
    {
     "name": "stdout",
     "output_type": "stream",
     "text": [
      "['player_id', 'player_name', 'recent_team', 'season', 'week', 'season_type', 'completions', 'attempts', 'passing_yards', 'passing_tds', 'interceptions', 'sacks', 'sack_yards', 'sack_fumbles', 'sack_fumbles_lost', 'passing_air_yards', 'passing_yards_after_catch', 'passing_first_downs', 'passing_epa', 'passing_2pt_conversions', 'dakota', 'carries', 'rushing_yards', 'rushing_tds', 'rushing_fumbles', 'rushing_fumbles_lost', 'rushing_first_downs', 'rushing_epa', 'rushing_2pt_conversions', 'receptions', 'targets', 'receiving_yards', 'receiving_tds', 'receiving_fumbles', 'receiving_fumbles_lost', 'receiving_air_yards', 'receiving_yards_after_catch', 'receiving_first_downs', 'receiving_epa', 'receiving_2pt_conversions', 'special_teams_tds', 'fantasy_points', 'fantasy_points_ppr', 'pacr', 'racr', 'target_share', 'air_yards_share', 'wopr', 'team', 'position', 'depth_chart_position', 'jersey_number', 'status', 'first_name', 'last_name', 'birth_date', 'height', 'weight', 'college', 'espn_id', 'sportradar_id', 'yahoo_id', 'rotowire_id', 'pff_id', 'pfr_id', 'fantasy_data_id', 'sleeper_id', 'years_exp', 'headshot_url', 'ngs_position', 'game_type', 'status_description_abbr', 'football_name', 'esb_id', 'gsis_it_id', 'smart_id', 'entry_year', 'rookie_year', 'draft_club', 'draft_number']\n"
     ]
    }
   ],
   "source": [
    "print(list(weekly_rb_df.columns))"
   ]
  },
  {
   "cell_type": "code",
   "execution_count": 1399,
   "id": "600d0a65",
   "metadata": {},
   "outputs": [],
   "source": [
    "##CREATE 3 Week MA\n",
    "weekly_rb_df['rushing_3_week_sum'] = weekly_rb_df.groupby(['player_id'])['rushing_yards'].transform(lambda x: x.shift().rolling(3).sum())\n",
    "weekly_rb_df['rushing_3_week_mean'] = weekly_rb_df.groupby(['player_id'])['rushing_yards'].transform(lambda x: x.shift().rolling(3, min_periods = 1).mean())"
   ]
  },
  {
   "cell_type": "code",
   "execution_count": 1400,
   "id": "7f68791b",
   "metadata": {},
   "outputs": [],
   "source": [
    "# This will give us the running backs rank for rushing attempts over their last 3 weeks played.\n",
    "weekly_rb_df['rushing_3_week_rank'] = weekly_rb_df[['rushing_3_week_mean','week']].groupby(['week']).rank(method='min')"
   ]
  },
  {
   "cell_type": "code",
   "execution_count": 1401,
   "id": "062ca5d8",
   "metadata": {},
   "outputs": [
    {
     "name": "stdout",
     "output_type": "stream",
     "text": [
      "['player_id', 'player_name', 'recent_team', 'season', 'week', 'season_type', 'completions', 'attempts', 'passing_yards', 'passing_tds', 'interceptions', 'sacks', 'sack_yards', 'sack_fumbles', 'sack_fumbles_lost', 'passing_air_yards', 'passing_yards_after_catch', 'passing_first_downs', 'passing_epa', 'passing_2pt_conversions', 'dakota', 'carries', 'rushing_yards', 'rushing_tds', 'rushing_fumbles', 'rushing_fumbles_lost', 'rushing_first_downs', 'rushing_epa', 'rushing_2pt_conversions', 'receptions', 'targets', 'receiving_yards', 'receiving_tds', 'receiving_fumbles', 'receiving_fumbles_lost', 'receiving_air_yards', 'receiving_yards_after_catch', 'receiving_first_downs', 'receiving_epa', 'receiving_2pt_conversions', 'special_teams_tds', 'fantasy_points', 'fantasy_points_ppr', 'pacr', 'racr', 'target_share', 'air_yards_share', 'wopr', 'team', 'position', 'depth_chart_position', 'jersey_number', 'status', 'first_name', 'last_name', 'birth_date', 'height', 'weight', 'college', 'espn_id', 'sportradar_id', 'yahoo_id', 'rotowire_id', 'pff_id', 'pfr_id', 'fantasy_data_id', 'sleeper_id', 'years_exp', 'headshot_url', 'ngs_position', 'game_type', 'status_description_abbr', 'football_name', 'esb_id', 'gsis_it_id', 'smart_id', 'entry_year', 'rookie_year', 'draft_club', 'draft_number', 'rushing_3_week_sum', 'rushing_3_week_mean', 'rushing_3_week_rank']\n"
     ]
    }
   ],
   "source": [
    "print(list(weekly_rb_df.columns))"
   ]
  },
  {
   "cell_type": "code",
   "execution_count": 1402,
   "id": "8e3b3971",
   "metadata": {},
   "outputs": [],
   "source": [
    "# try to keep as much as possible\n",
    "rb_act_stats = weekly_rb_df[['player_id','first_name','last_name','team','position','season','week','completions', 'attempts', 'passing_yards', 'passing_tds', 'interceptions', 'sacks', 'sack_yards', 'sack_fumbles', 'sack_fumbles_lost', 'passing_air_yards', 'passing_yards_after_catch', 'passing_first_downs', 'passing_epa', 'passing_2pt_conversions', 'dakota', 'carries', 'rushing_yards', 'rushing_tds', 'rushing_fumbles', 'rushing_fumbles_lost', 'rushing_first_downs', 'rushing_epa', 'rushing_2pt_conversions', 'receptions', 'targets', 'receiving_yards', 'receiving_tds', 'receiving_fumbles', 'receiving_fumbles_lost', 'receiving_air_yards', 'receiving_yards_after_catch', 'receiving_first_downs', 'receiving_epa', 'receiving_2pt_conversions', 'special_teams_tds','fantasy_points_ppr', 'pacr', 'racr', 'target_share', 'air_yards_share', 'wopr', 'team', 'position',  'years_exp', 'rookie_year', 'draft_number', 'rushing_3_week_sum', 'rushing_3_week_mean', 'rushing_3_week_rank']].copy().reset_index(drop=True)"
   ]
  },
  {
   "cell_type": "code",
   "execution_count": 1403,
   "id": "8e99cc7d",
   "metadata": {},
   "outputs": [],
   "source": [
    "rb_act_stats = rb_act_stats.fillna(0)"
   ]
  },
  {
   "cell_type": "code",
   "execution_count": 1404,
   "id": "b2f3d2e0",
   "metadata": {},
   "outputs": [],
   "source": [
    "rb_act_stats = rb_act_stats.loc[:,~rb_act_stats.columns.duplicated()]\n",
    "rb_act_stats = rb_act_stats.replace([np.inf, -np.inf], np.nan)"
   ]
  },
  {
   "cell_type": "code",
   "execution_count": 1405,
   "id": "421c579b",
   "metadata": {},
   "outputs": [
    {
     "name": "stdout",
     "output_type": "stream",
     "text": [
      "3. Keep:  passing_yards_after_catch 0.10626068108833307  Remove:  passing_yards 0.12196193621135752\n",
      "3. Keep:  sack_yards 0.059174906461048574  Remove:  sacks 0.0685637841592315\n",
      "3. Keep:  sack_fumbles_lost 0.0636692757055032  Remove:  sack_fumbles 0.0636692757055032\n",
      "3. Keep:  completions 0.1323272491654866  Remove:  passing_first_downs 0.13624864936911196\n",
      "3. Keep:  carries 0.1798866854191232  Remove:  rushing_yards 0.18425993956348521\n",
      "3. Keep:  targets 0.17386085568068527  Remove:  receptions 0.17676636452959943\n",
      "3. Keep:  receiving_yards_after_catch 0.1761394201930026  Remove:  receiving_yards 0.1812191108074832\n",
      "3. Keep:  target_share 0.10383465469249382  Remove:  wopr 0.10633459357012957\n",
      "3. Keep:  rushing_3_week_rank 0.15619331968413203  Remove:  rushing_3_week_sum 0.16729805848126822\n",
      "3. Keep:  rushing_3_week_rank 0.15619331968413203  Remove:  rushing_3_week_mean 0.16777625970668325\n",
      "Dropping below:  ['sack_fumbles', 'rushing_3_week_mean', 'rushing_yards', 'sacks', 'wopr', 'rushing_3_week_sum', 'passing_first_downs', 'receiving_yards', 'receptions', 'passing_yards']\n",
      "(28866, 44)\n"
     ]
    }
   ],
   "source": [
    "# remove correlated\n",
    "rb_act_stats = _corr(rb_act_stats, threshold=0.85, impute=0, keep=['fantasy_points_ppr'])\n",
    "print(rb_act_stats.shape)"
   ]
  },
  {
   "cell_type": "code",
   "execution_count": 1406,
   "id": "1acc1e0a",
   "metadata": {},
   "outputs": [
    {
     "name": "stdout",
     "output_type": "stream",
     "text": [
      "(28866, 44)\n",
      "(28866, 80)\n"
     ]
    }
   ],
   "source": [
    "# permute the features for Wrapper feature selection\n",
    "\n",
    "print(rb_act_stats.shape)\n",
    "df = permute(rb_act_stats)\n",
    "print(df.shape)"
   ]
  },
  {
   "cell_type": "code",
   "execution_count": 1407,
   "id": "f3ad4194",
   "metadata": {},
   "outputs": [
    {
     "name": "stdout",
     "output_type": "stream",
     "text": [
      "14\n",
      "58\n"
     ]
    }
   ],
   "source": [
    "# separate features to binary and continuous features\n",
    "ids = [col for col in df.columns.tolist() if col not in ['player_id','first_name','last_name','team','position','season','week','fantasy_points_ppr']]\n",
    "features = df.loc[:, ids]\n",
    "bin_cols = [\n",
    "    col for col in features if features[col].value_counts().index.isin([0, 1]).all()\n",
    "]\n",
    "cont_cols = [col for col in features.columns.tolist() if col not in bin_cols]\n",
    "print(len(bin_cols))\n",
    "print(len(cont_cols))"
   ]
  },
  {
   "cell_type": "code",
   "execution_count": 1408,
   "id": "029e9923",
   "metadata": {},
   "outputs": [
    {
     "name": "stdout",
     "output_type": "stream",
     "text": [
      "(28866, 72)\n",
      "(28866,)\n"
     ]
    }
   ],
   "source": [
    "## create tes-train split\n",
    "X = df[bin_cols+cont_cols]\n",
    "y = df[\"fantasy_points_ppr\"]\n",
    "## print df shape\n",
    "print(X.shape)\n",
    "print(y.shape)"
   ]
  },
  {
   "cell_type": "code",
   "execution_count": 1409,
   "id": "53921396",
   "metadata": {},
   "outputs": [
    {
     "name": "stdout",
     "output_type": "stream",
     "text": [
      "[01:15:16] WARNING: C:/Users/administrator/workspace/xgboost-win64_release_1.6.0/src/learner.cc:627: \n",
      "Parameters: { \"params\" } might not be used.\n",
      "\n",
      "  This could be a false alarm, with some parameters getting used by language bindings but\n",
      "  then being mistakenly passed down to XGBoost core, or some parameter actually being used\n",
      "  but getting flagged wrongly here. Please open an issue if you find any such cases.\n",
      "\n",
      "\n",
      "['rushing_tds', 'rushing_first_downs', 'receiving_tds', 'receiving_yards_after_catch', 'receiving_first_downs', 'targets', 'carries', 'rushing_epa', 'special_teams_tds', 'rushing_2pt_conversions', 'receiving_epa', 'rushing_fumbles_lost', 'passing_tds', 'receiving_fumbles', 'receiving_2pt_conversions', 'receiving_air_yards', 'rushing_3_week_rank', 'receiving_fumbles_lost', 'passing_epa', 'target_share', 'air_yards_share', 'draft_number', 'rushing_fumbles', 'rookie_year', 'racr', 'attempts', 'passing_air_yards', 'random_racr', 'random_rushing_2pt_conversions', 'random_receiving_epa', 'passing_yards_after_catch', 'random_air_yards_share', 'random_rushing_epa', 'random_rushing_3_week_rank', 'random_rookie_year', 'random_receiving_yards_after_catch', 'random_receiving_fumbles_lost', 'random_receiving_fumbles', 'random_draft_number', 'random_receiving_first_downs', 'random_target_share', 'random_targets', 'random_years_exp', 'random_rushing_first_downs', 'years_exp', 'random_passing_yards_after_catch', 'random_carries', 'random_receiving_air_yards', 'random_rushing_fumbles', 'completions', 'random_rushing_tds', 'random_receiving_tds', 'random_special_teams_tds', 'interceptions', 'random_completions', 'pacr', 'random_pacr', 'sack_yards', 'random_sack_fumbles_lost', 'random_receiving_2pt_conversions', 'random_dakota', 'random_interceptions', 'random_rushing_fumbles_lost', 'random_passing_2pt_conversions', 'random_passing_air_yards', 'random_sack_yards', 'random_attempts', 'sack_fumbles_lost', 'passing_2pt_conversions', 'dakota', 'random_passing_tds', 'random_passing_epa']\n"
     ]
    }
   ],
   "source": [
    "from xgboost import XGBRegressor\n",
    "\n",
    "# create an xgboost regression model\n",
    "model = XGBRegressor(params=xgb_params)\n",
    "\n",
    "model.fit(X, y)\n",
    "dset = pd.DataFrame({'attr':X.columns.tolist(),'importance':model.feature_importances_}).sort_values(by='importance', ascending=False).reset_index(drop=True)\n",
    "attr = dset['attr'].tolist()\n",
    "print(attr)"
   ]
  },
  {
   "cell_type": "code",
   "execution_count": 1410,
   "id": "2d98cc14",
   "metadata": {},
   "outputs": [
    {
     "name": "stdout",
     "output_type": "stream",
     "text": [
      "random_racr\n"
     ]
    },
    {
     "data": {
      "text/plain": [
       "26"
      ]
     },
     "execution_count": 1410,
     "metadata": {},
     "output_type": "execute_result"
    }
   ],
   "source": [
    "permutated = [name for name in attr if \"random_\" in name]\n",
    "if len(permutated) == 0:\n",
    "    top_n = len(attr)\n",
    "else:\n",
    "    print(permutated[0])\n",
    "    top_n = attr.index(permutated[0])-1\n",
    "top_n"
   ]
  },
  {
   "cell_type": "code",
   "execution_count": 1411,
   "id": "e3e7ee7c",
   "metadata": {},
   "outputs": [
    {
     "name": "stdout",
     "output_type": "stream",
     "text": [
      "(28866, 26)\n",
      "(28866,)\n"
     ]
    }
   ],
   "source": [
    "## create tes-train split using top_n features\n",
    "X = df[attr[:top_n]]\n",
    "y = df[\"fantasy_points_ppr\"]\n",
    "## print df shape\n",
    "print(X.shape)\n",
    "print(y.shape)"
   ]
  },
  {
   "cell_type": "code",
   "execution_count": 1412,
   "id": "c12cc887",
   "metadata": {},
   "outputs": [
    {
     "name": "stdout",
     "output_type": "stream",
     "text": [
      "Fitting 5 folds for each of 27 candidates, totalling 135 fits\n",
      "[01:19:44] WARNING: C:/Users/administrator/workspace/xgboost-win64_release_1.6.0/src/objective/regression_obj.cu:203: reg:linear is now deprecated in favor of reg:squarederror.\n",
      "0.9721053872276565\n",
      "{'colsample_bytree': 0.8, 'eta': 0.1, 'learning_rate': 0.07, 'max_depth': 2, 'min_child_weight': 4, 'n_estimators': 1000, 'objective': 'reg:linear', 'subsample': 0.7}\n"
     ]
    }
   ],
   "source": [
    "import numpy as np\n",
    "import pandas as pd\n",
    "from sklearn import preprocessing\n",
    "import xgboost as xgb\n",
    "from xgboost.sklearn import XGBRegressor\n",
    "import datetime\n",
    "from sklearn.model_selection import GridSearchCV\n",
    "\n",
    "xgb1 = XGBRegressor()\n",
    "parameters = {\n",
    "              'objective':['reg:linear'],\n",
    "              'learning_rate': [.03, 0.05, .07], #so called `eta` value\n",
    "              'max_depth': [2, 3, 4],\n",
    "              'min_child_weight': [4],\n",
    "              'eta' : [0.1],\n",
    "              'subsample': [0.7],\n",
    "              'colsample_bytree': [0.8],\n",
    "              'n_estimators': [200, 500, 1000]}\n",
    "\n",
    "xgb_grid = GridSearchCV(xgb1,\n",
    "                        parameters,\n",
    "                        cv = 5,\n",
    "                        n_jobs = 5,\n",
    "                        verbose=True)\n",
    "\n",
    "xgb_grid.fit(X, y)\n",
    "\n",
    "print(xgb_grid.best_score_)\n",
    "print(xgb_grid.best_params_)"
   ]
  },
  {
   "cell_type": "code",
   "execution_count": 1413,
   "id": "f283f30b",
   "metadata": {},
   "outputs": [],
   "source": [
    "xgb_params = {}\n",
    "for key, val in xgb_grid.best_params_.items():\n",
    "        xgb_params[key] = val"
   ]
  },
  {
   "cell_type": "code",
   "execution_count": 1414,
   "id": "ce763b69",
   "metadata": {},
   "outputs": [
    {
     "name": "stdout",
     "output_type": "stream",
     "text": [
      "Mean MAE: 0.611 (0.015)\n"
     ]
    }
   ],
   "source": [
    "from numpy import absolute\n",
    "from sklearn.model_selection import cross_val_score\n",
    "from sklearn.model_selection import RepeatedKFold, KFold\n",
    "from xgboost import XGBRegressor\n",
    "\n",
    "# create an xgboost regression model\n",
    "model = XGBRegressor(params=xgb_params)\n",
    "\n",
    "\n",
    "# define model evaluation method\n",
    "cv = RepeatedKFold(n_splits=10, n_repeats=3, random_state=1)\n",
    "# evaluate model\n",
    "scores = cross_val_score(model, X, y, scoring='neg_mean_absolute_error', cv=cv, n_jobs=-1)\n",
    "# force scores to be positive\n",
    "scores = absolute(scores)\n",
    "print('Mean MAE: %.3f (%.3f)' % (scores.mean(), scores.std()) )\n",
    "\n",
    "# kfold = KFold(n_splits=10, shuffle=True)\n",
    "# kf_cv_scores = cross_val_score(model, X, y, cv=kfold )\n",
    "# print(\"K-fold CV average score: %.2f\" % kf_cv_scores.mean())"
   ]
  },
  {
   "cell_type": "code",
   "execution_count": 1415,
   "id": "3cf11fed",
   "metadata": {},
   "outputs": [
    {
     "name": "stdout",
     "output_type": "stream",
     "text": [
      "[01:20:23] WARNING: C:/Users/administrator/workspace/xgboost-win64_release_1.6.0/src/learner.cc:627: \n",
      "Parameters: { \"params\" } might not be used.\n",
      "\n",
      "  This could be a false alarm, with some parameters getting used by language bindings but\n",
      "  then being mistakenly passed down to XGBoost core, or some parameter actually being used\n",
      "  but getting flagged wrongly here. Please open an issue if you find any such cases.\n",
      "\n",
      "\n",
      "['rushing_tds', 'receiving_tds', 'rushing_first_downs', 'receiving_yards_after_catch', 'receiving_first_downs', 'carries', 'targets', 'special_teams_tds', 'rushing_epa', 'rushing_2pt_conversions', 'passing_tds', 'receiving_epa', 'rushing_fumbles_lost', 'attempts', 'receiving_fumbles', 'receiving_2pt_conversions', 'receiving_air_yards', 'passing_epa', 'receiving_fumbles_lost', 'rushing_3_week_rank', 'rushing_fumbles', 'target_share', 'draft_number', 'racr', 'air_yards_share', 'rookie_year']\n"
     ]
    }
   ],
   "source": [
    "model.fit(X, y)\n",
    "dset = pd.DataFrame({'attr':X.columns.tolist(),'importance':model.feature_importances_}).sort_values(by='importance', ascending=False).reset_index(drop=True)\n",
    "attr = dset['attr'].tolist()\n",
    "print(attr)"
   ]
  },
  {
   "cell_type": "code",
   "execution_count": 1416,
   "id": "78f82baf",
   "metadata": {},
   "outputs": [
    {
     "name": "stdout",
     "output_type": "stream",
     "text": [
      "(22256, 34)\n",
      "(4503, 34)\n"
     ]
    }
   ],
   "source": [
    "# Model validation\n",
    "# Use previous seasons data to predict 2021 season\n",
    "cols = ['player_id','first_name','last_name','team','position','season','week','fantasy_points_ppr'] + attr\n",
    "\n",
    "\n",
    "traindf = rb_act_stats[cols][(rb_act_stats['season']<=2020)].fillna(0).copy().drop_duplicates().reset_index(drop=True)\n",
    "print(traindf.shape)\n",
    "#Create Test Dataset\n",
    "testdf  = rb_act_stats[cols][rb_act_stats['season']>=2021].fillna(0).copy().drop_duplicates().reset_index(drop=True)\n",
    "print(testdf.shape)"
   ]
  },
  {
   "cell_type": "code",
   "execution_count": 1417,
   "id": "64ee621b",
   "metadata": {},
   "outputs": [],
   "source": [
    "#Columns We Can't Include In Our Features Datasets\n",
    "dcols = ['player_id','first_name','last_name','team','position','season','week','fantasy_points_ppr']\n",
    "#X = Features, Y = Target\n",
    "#train = training dataset, test = testing dataset\n",
    "X_train, Y_train = traindf.drop(dcols, axis = 1), traindf['fantasy_points_ppr']\n",
    "X_test, Y_test = testdf.drop(dcols, axis = 1), testdf['fantasy_points_ppr']\n",
    "#Use For Analysis After Model & Predictions Created\n",
    "pred_df = testdf.copy()"
   ]
  },
  {
   "cell_type": "code",
   "execution_count": 1418,
   "id": "d463650f",
   "metadata": {},
   "outputs": [
    {
     "name": "stdout",
     "output_type": "stream",
     "text": [
      "[01:20:24] WARNING: C:/Users/administrator/workspace/xgboost-win64_release_1.6.0/src/learner.cc:627: \n",
      "Parameters: { \"params\" } might not be used.\n",
      "\n",
      "  This could be a false alarm, with some parameters getting used by language bindings but\n",
      "  then being mistakenly passed down to XGBoost core, or some parameter actually being used\n",
      "  but getting flagged wrongly here. Please open an issue if you find any such cases.\n",
      "\n",
      "\n",
      "MAE: 4.66\n",
      "MAPE: 33688681185280.00\n"
     ]
    }
   ],
   "source": [
    "from sklearn.metrics import mean_absolute_error, mean_absolute_percentage_error\n",
    "\n",
    "model.fit(X_train, Y_train)\n",
    "Y_pred = model.predict(X_test)\n",
    "mae = mean_absolute_error(Y_test, Y_pred)\n",
    "print(\"MAE: %.2f\" % mse)\n",
    "mape = mean_absolute_percentage_error(Y_test, Y_pred)\n",
    "print(\"MAPE: %.2f\" % mape)"
   ]
  },
  {
   "cell_type": "code",
   "execution_count": 1419,
   "id": "ea532b6b",
   "metadata": {},
   "outputs": [
    {
     "data": {
      "image/png": "[encoded data removed]",
      "text/plain": [
       "<Figure size 432x288 with 1 Axes>"
      ]
     },
     "metadata": {
      "needs_background": "light"
     },
     "output_type": "display_data"
    }
   ],
   "source": [
    "import matplotlib.pyplot as plt \n",
    "\n",
    "x_ax = range(len(Y_test))\n",
    "plt.plot(x_ax, Y_test, label=\"original\")\n",
    "plt.plot(x_ax, Y_pred, label=\"predicted\")\n",
    "plt.title(\"test and predicted data\")\n",
    "plt.legend()\n",
    "plt.show()"
   ]
  },
  {
   "cell_type": "code",
   "execution_count": 1420,
   "id": "9ba56701",
   "metadata": {},
   "outputs": [],
   "source": [
    "testdf['Predicted_fantasy'] = Y_pred\n",
    "testdf['fantasy_points_ppr'] = Y_test"
   ]
  },
  {
   "cell_type": "code",
   "execution_count": 1421,
   "id": "a4a81843",
   "metadata": {},
   "outputs": [
    {
     "data": {
      "text/html": [
       "<div>\n",
       "<style scoped>\n",
       "    .dataframe tbody tr th:only-of-type {\n",
       "        vertical-align: middle;\n",
       "    }\n",
       "\n",
       "    .dataframe tbody tr th {\n",
       "        vertical-align: top;\n",
       "    }\n",
       "\n",
       "    .dataframe thead th {\n",
       "        text-align: right;\n",
       "    }\n",
       "</style>\n",
       "<table border=\"1\" class=\"dataframe\">\n",
       "  <thead>\n",
       "    <tr style=\"text-align: right;\">\n",
       "      <th></th>\n",
       "      <th>rank</th>\n",
       "      <th>first_name</th>\n",
       "      <th>last_name</th>\n",
       "      <th>team</th>\n",
       "      <th>position</th>\n",
       "    </tr>\n",
       "  </thead>\n",
       "  <tbody>\n",
       "    <tr>\n",
       "      <th>0</th>\n",
       "      <td>1</td>\n",
       "      <td>jonathan</td>\n",
       "      <td>taylor</td>\n",
       "      <td>IND</td>\n",
       "      <td>RB</td>\n",
       "    </tr>\n",
       "    <tr>\n",
       "      <th>1</th>\n",
       "      <td>2</td>\n",
       "      <td>christian</td>\n",
       "      <td>mccaffrey</td>\n",
       "      <td>CAR</td>\n",
       "      <td>RB</td>\n",
       "    </tr>\n",
       "    <tr>\n",
       "      <th>2</th>\n",
       "      <td>3</td>\n",
       "      <td>cooper</td>\n",
       "      <td>kupp</td>\n",
       "      <td>LAR</td>\n",
       "      <td>WR</td>\n",
       "    </tr>\n",
       "    <tr>\n",
       "      <th>3</th>\n",
       "      <td>4</td>\n",
       "      <td>austin</td>\n",
       "      <td>ekeler</td>\n",
       "      <td>LAC</td>\n",
       "      <td>RB</td>\n",
       "    </tr>\n",
       "    <tr>\n",
       "      <th>4</th>\n",
       "      <td>5</td>\n",
       "      <td>justin</td>\n",
       "      <td>jefferson</td>\n",
       "      <td>MIN</td>\n",
       "      <td>WR</td>\n",
       "    </tr>\n",
       "  </tbody>\n",
       "</table>\n",
       "</div>"
      ],
      "text/plain": [
       "   rank first_name  last_name team position\n",
       "0     1   jonathan     taylor  IND       RB\n",
       "1     2  christian  mccaffrey  CAR       RB\n",
       "2     3     cooper       kupp  LAR       WR\n",
       "3     4     austin     ekeler  LAC       RB\n",
       "4     5     justin  jefferson  MIN       WR"
      ]
     },
     "execution_count": 1421,
     "metadata": {},
     "output_type": "execute_result"
    }
   ],
   "source": [
    "player_df = pd.read_csv('2022_top_300_espn_ppr_projections.csv')\n",
    "player_df.head()"
   ]
  },
  {
   "cell_type": "code",
   "execution_count": 1422,
   "id": "a0365d75",
   "metadata": {},
   "outputs": [
    {
     "data": {
      "text/plain": [
       "(1320, 7)"
      ]
     },
     "execution_count": 1422,
     "metadata": {},
     "output_type": "execute_result"
    }
   ],
   "source": [
    "rb_player_df = player_df.merge(testdf[['first_name','last_name','team','position','fantasy_points_ppr','Predicted_fantasy']], on=['first_name','last_name','team','position'])\n",
    "rb_player_df.shape"
   ]
  },
  {
   "cell_type": "code",
   "execution_count": 1423,
   "id": "f17c19ab",
   "metadata": {},
   "outputs": [
    {
     "data": {
      "text/html": [
       "<div>\n",
       "<style scoped>\n",
       "    .dataframe tbody tr th:only-of-type {\n",
       "        vertical-align: middle;\n",
       "    }\n",
       "\n",
       "    .dataframe tbody tr th {\n",
       "        vertical-align: top;\n",
       "    }\n",
       "\n",
       "    .dataframe thead th {\n",
       "        text-align: right;\n",
       "    }\n",
       "</style>\n",
       "<table border=\"1\" class=\"dataframe\">\n",
       "  <thead>\n",
       "    <tr style=\"text-align: right;\">\n",
       "      <th></th>\n",
       "      <th>first_name</th>\n",
       "      <th>last_name</th>\n",
       "      <th>team</th>\n",
       "      <th>position</th>\n",
       "      <th>median</th>\n",
       "      <th>position_rank</th>\n",
       "    </tr>\n",
       "  </thead>\n",
       "  <tbody>\n",
       "    <tr>\n",
       "      <th>0</th>\n",
       "      <td>christian</td>\n",
       "      <td>mccaffrey</td>\n",
       "      <td>CAR</td>\n",
       "      <td>RB</td>\n",
       "      <td>20.413172</td>\n",
       "      <td>1.0</td>\n",
       "    </tr>\n",
       "    <tr>\n",
       "      <th>1</th>\n",
       "      <td>jonathan</td>\n",
       "      <td>taylor</td>\n",
       "      <td>IND</td>\n",
       "      <td>RB</td>\n",
       "      <td>19.657873</td>\n",
       "      <td>2.0</td>\n",
       "    </tr>\n",
       "    <tr>\n",
       "      <th>2</th>\n",
       "      <td>austin</td>\n",
       "      <td>ekeler</td>\n",
       "      <td>LAC</td>\n",
       "      <td>RB</td>\n",
       "      <td>19.529167</td>\n",
       "      <td>3.0</td>\n",
       "    </tr>\n",
       "    <tr>\n",
       "      <th>3</th>\n",
       "      <td>alvin</td>\n",
       "      <td>kamara</td>\n",
       "      <td>NO</td>\n",
       "      <td>RB</td>\n",
       "      <td>18.723549</td>\n",
       "      <td>4.0</td>\n",
       "    </tr>\n",
       "    <tr>\n",
       "      <th>4</th>\n",
       "      <td>najee</td>\n",
       "      <td>harris</td>\n",
       "      <td>PIT</td>\n",
       "      <td>RB</td>\n",
       "      <td>17.960222</td>\n",
       "      <td>5.0</td>\n",
       "    </tr>\n",
       "  </tbody>\n",
       "</table>\n",
       "</div>"
      ],
      "text/plain": [
       "  first_name  last_name team position     median  position_rank\n",
       "0  christian  mccaffrey  CAR       RB  20.413172            1.0\n",
       "1   jonathan     taylor  IND       RB  19.657873            2.0\n",
       "2     austin     ekeler  LAC       RB  19.529167            3.0\n",
       "3      alvin     kamara   NO       RB  18.723549            4.0\n",
       "4      najee     harris  PIT       RB  17.960222            5.0"
      ]
     },
     "execution_count": 1423,
     "metadata": {},
     "output_type": "execute_result"
    }
   ],
   "source": [
    "rb_player_df['median'] = rb_player_df.groupby(['first_name','last_name'])['Predicted_fantasy'].transform('median')\n",
    "rb_player_df = rb_player_df.drop_duplicates(['first_name','last_name'])\n",
    "\n",
    "rb_player_df = rb_player_df.loc[rb_player_df['median'].sort_values(ascending=False).index]\n",
    "rb_player_df['position_rank'] = rb_player_df['median'].rank(ascending=False) \n",
    "rb_player_df.drop(['rank','fantasy_points_ppr','Predicted_fantasy'], axis=1, inplace=True)\n",
    "rb_player_df.reset_index(drop=True, inplace=True)\n",
    "rb_player_df.head()"
   ]
  },
  {
   "cell_type": "code",
   "execution_count": 1424,
   "id": "0a12c191",
   "metadata": {},
   "outputs": [],
   "source": [
    "rb_player_df.to_csv('rb_ranked.csv')"
   ]
  },
  {
   "cell_type": "markdown",
   "id": "be0b75fe",
   "metadata": {},
   "source": [
    "### QB model"
   ]
  },
  {
   "cell_type": "code",
   "execution_count": 1425,
   "id": "5ce94a32",
   "metadata": {},
   "outputs": [
    {
     "data": {
      "text/html": [
       "<div>\n",
       "<style scoped>\n",
       "    .dataframe tbody tr th:only-of-type {\n",
       "        vertical-align: middle;\n",
       "    }\n",
       "\n",
       "    .dataframe tbody tr th {\n",
       "        vertical-align: top;\n",
       "    }\n",
       "\n",
       "    .dataframe thead th {\n",
       "        text-align: right;\n",
       "    }\n",
       "</style>\n",
       "<table border=\"1\" class=\"dataframe\">\n",
       "  <thead>\n",
       "    <tr style=\"text-align: right;\">\n",
       "      <th></th>\n",
       "      <th>player_id</th>\n",
       "      <th>player_name</th>\n",
       "      <th>recent_team</th>\n",
       "      <th>season</th>\n",
       "      <th>week</th>\n",
       "      <th>season_type</th>\n",
       "      <th>completions</th>\n",
       "      <th>attempts</th>\n",
       "      <th>passing_yards</th>\n",
       "      <th>passing_tds</th>\n",
       "      <th>...</th>\n",
       "      <th>game_type</th>\n",
       "      <th>status_description_abbr</th>\n",
       "      <th>football_name</th>\n",
       "      <th>esb_id</th>\n",
       "      <th>gsis_it_id</th>\n",
       "      <th>smart_id</th>\n",
       "      <th>entry_year</th>\n",
       "      <th>rookie_year</th>\n",
       "      <th>draft_club</th>\n",
       "      <th>draft_number</th>\n",
       "    </tr>\n",
       "  </thead>\n",
       "  <tbody>\n",
       "    <tr>\n",
       "      <th>0</th>\n",
       "      <td>00-0019596</td>\n",
       "      <td>T.Brady</td>\n",
       "      <td>NE</td>\n",
       "      <td>2017</td>\n",
       "      <td>1</td>\n",
       "      <td>REG</td>\n",
       "      <td>16</td>\n",
       "      <td>36</td>\n",
       "      <td>267.0</td>\n",
       "      <td>0</td>\n",
       "      <td>...</td>\n",
       "      <td>SB</td>\n",
       "      <td>A01</td>\n",
       "      <td>Tom</td>\n",
       "      <td>BRA371156</td>\n",
       "      <td>25511</td>\n",
       "      <td>32004252-4137-1156-7ed0-8b9e44948f13</td>\n",
       "      <td>2000.0</td>\n",
       "      <td>2000.0</td>\n",
       "      <td>NE</td>\n",
       "      <td>199.0</td>\n",
       "    </tr>\n",
       "    <tr>\n",
       "      <th>1</th>\n",
       "      <td>00-0019596</td>\n",
       "      <td>T.Brady</td>\n",
       "      <td>NE</td>\n",
       "      <td>2017</td>\n",
       "      <td>1</td>\n",
       "      <td>REG</td>\n",
       "      <td>16</td>\n",
       "      <td>36</td>\n",
       "      <td>267.0</td>\n",
       "      <td>0</td>\n",
       "      <td>...</td>\n",
       "      <td>SB</td>\n",
       "      <td>A01</td>\n",
       "      <td>Tom</td>\n",
       "      <td>BRA371156</td>\n",
       "      <td>25511</td>\n",
       "      <td>32004252-4137-1156-7ed0-8b9e44948f13</td>\n",
       "      <td>2000.0</td>\n",
       "      <td>2000.0</td>\n",
       "      <td>NE</td>\n",
       "      <td>199.0</td>\n",
       "    </tr>\n",
       "    <tr>\n",
       "      <th>2</th>\n",
       "      <td>00-0019596</td>\n",
       "      <td>T.Brady</td>\n",
       "      <td>NE</td>\n",
       "      <td>2017</td>\n",
       "      <td>1</td>\n",
       "      <td>REG</td>\n",
       "      <td>16</td>\n",
       "      <td>36</td>\n",
       "      <td>267.0</td>\n",
       "      <td>0</td>\n",
       "      <td>...</td>\n",
       "      <td>WC</td>\n",
       "      <td>A01</td>\n",
       "      <td>Tom</td>\n",
       "      <td>BRA371156</td>\n",
       "      <td>25511</td>\n",
       "      <td>32004252-4137-1156-7ed0-8b9e44948f13</td>\n",
       "      <td>2000.0</td>\n",
       "      <td>2000.0</td>\n",
       "      <td>NE</td>\n",
       "      <td>199.0</td>\n",
       "    </tr>\n",
       "    <tr>\n",
       "      <th>3</th>\n",
       "      <td>00-0019596</td>\n",
       "      <td>T.Brady</td>\n",
       "      <td>NE</td>\n",
       "      <td>2017</td>\n",
       "      <td>1</td>\n",
       "      <td>REG</td>\n",
       "      <td>16</td>\n",
       "      <td>36</td>\n",
       "      <td>267.0</td>\n",
       "      <td>0</td>\n",
       "      <td>...</td>\n",
       "      <td>SB</td>\n",
       "      <td>A01</td>\n",
       "      <td>Tom</td>\n",
       "      <td>BRA371156</td>\n",
       "      <td>25511</td>\n",
       "      <td>32004252-4137-1156-7ed0-8b9e44948f13</td>\n",
       "      <td>2000.0</td>\n",
       "      <td>2000.0</td>\n",
       "      <td>NE</td>\n",
       "      <td>199.0</td>\n",
       "    </tr>\n",
       "    <tr>\n",
       "      <th>4</th>\n",
       "      <td>00-0019596</td>\n",
       "      <td>T.Brady</td>\n",
       "      <td>NE</td>\n",
       "      <td>2017</td>\n",
       "      <td>1</td>\n",
       "      <td>REG</td>\n",
       "      <td>16</td>\n",
       "      <td>36</td>\n",
       "      <td>267.0</td>\n",
       "      <td>0</td>\n",
       "      <td>...</td>\n",
       "      <td>DIV</td>\n",
       "      <td>A01</td>\n",
       "      <td>Tom</td>\n",
       "      <td>BRA371156</td>\n",
       "      <td>25511</td>\n",
       "      <td>32004252-4137-1156-7ed0-8b9e44948f13</td>\n",
       "      <td>2000.0</td>\n",
       "      <td>2000.0</td>\n",
       "      <td>NE</td>\n",
       "      <td>199.0</td>\n",
       "    </tr>\n",
       "  </tbody>\n",
       "</table>\n",
       "<p>5 rows × 80 columns</p>\n",
       "</div>"
      ],
      "text/plain": [
       "    player_id player_name recent_team  season  week season_type  completions  \\\n",
       "0  00-0019596     T.Brady          NE    2017     1         REG           16   \n",
       "1  00-0019596     T.Brady          NE    2017     1         REG           16   \n",
       "2  00-0019596     T.Brady          NE    2017     1         REG           16   \n",
       "3  00-0019596     T.Brady          NE    2017     1         REG           16   \n",
       "4  00-0019596     T.Brady          NE    2017     1         REG           16   \n",
       "\n",
       "   attempts  passing_yards  passing_tds  ...  game_type  \\\n",
       "0        36          267.0            0  ...         SB   \n",
       "1        36          267.0            0  ...         SB   \n",
       "2        36          267.0            0  ...         WC   \n",
       "3        36          267.0            0  ...         SB   \n",
       "4        36          267.0            0  ...        DIV   \n",
       "\n",
       "   status_description_abbr  football_name     esb_id  gsis_it_id  \\\n",
       "0                      A01            Tom  BRA371156       25511   \n",
       "1                      A01            Tom  BRA371156       25511   \n",
       "2                      A01            Tom  BRA371156       25511   \n",
       "3                      A01            Tom  BRA371156       25511   \n",
       "4                      A01            Tom  BRA371156       25511   \n",
       "\n",
       "                               smart_id  entry_year  rookie_year  draft_club  \\\n",
       "0  32004252-4137-1156-7ed0-8b9e44948f13      2000.0       2000.0          NE   \n",
       "1  32004252-4137-1156-7ed0-8b9e44948f13      2000.0       2000.0          NE   \n",
       "2  32004252-4137-1156-7ed0-8b9e44948f13      2000.0       2000.0          NE   \n",
       "3  32004252-4137-1156-7ed0-8b9e44948f13      2000.0       2000.0          NE   \n",
       "4  32004252-4137-1156-7ed0-8b9e44948f13      2000.0       2000.0          NE   \n",
       "\n",
       "   draft_number  \n",
       "0         199.0  \n",
       "1         199.0  \n",
       "2         199.0  \n",
       "3         199.0  \n",
       "4         199.0  \n",
       "\n",
       "[5 rows x 80 columns]"
      ]
     },
     "execution_count": 1425,
     "metadata": {},
     "output_type": "execute_result"
    }
   ],
   "source": [
    "weekly_qb_df.head()"
   ]
  },
  {
   "cell_type": "code",
   "execution_count": 1426,
   "id": "86ec79a7",
   "metadata": {},
   "outputs": [
    {
     "name": "stdout",
     "output_type": "stream",
     "text": [
      "['player_id', 'player_name', 'recent_team', 'season', 'week', 'season_type', 'completions', 'attempts', 'passing_yards', 'passing_tds', 'interceptions', 'sacks', 'sack_yards', 'sack_fumbles', 'sack_fumbles_lost', 'passing_air_yards', 'passing_yards_after_catch', 'passing_first_downs', 'passing_epa', 'passing_2pt_conversions', 'dakota', 'carries', 'rushing_yards', 'rushing_tds', 'rushing_fumbles', 'rushing_fumbles_lost', 'rushing_first_downs', 'rushing_epa', 'rushing_2pt_conversions', 'receptions', 'targets', 'receiving_yards', 'receiving_tds', 'receiving_fumbles', 'receiving_fumbles_lost', 'receiving_air_yards', 'receiving_yards_after_catch', 'receiving_first_downs', 'receiving_epa', 'receiving_2pt_conversions', 'special_teams_tds', 'fantasy_points', 'fantasy_points_ppr', 'pacr', 'racr', 'target_share', 'air_yards_share', 'wopr', 'team', 'position', 'depth_chart_position', 'jersey_number', 'status', 'first_name', 'last_name', 'birth_date', 'height', 'weight', 'college', 'espn_id', 'sportradar_id', 'yahoo_id', 'rotowire_id', 'pff_id', 'pfr_id', 'fantasy_data_id', 'sleeper_id', 'years_exp', 'headshot_url', 'ngs_position', 'game_type', 'status_description_abbr', 'football_name', 'esb_id', 'gsis_it_id', 'smart_id', 'entry_year', 'rookie_year', 'draft_club', 'draft_number']\n"
     ]
    }
   ],
   "source": [
    "print(list(weekly_qb_df.columns))"
   ]
  },
  {
   "cell_type": "code",
   "execution_count": 1427,
   "id": "0c78db09",
   "metadata": {},
   "outputs": [],
   "source": [
    "# try to keep as much as possible\n",
    "qb_act_stats = weekly_qb_df[['player_id','first_name','last_name','team','position','season','week','completions', 'attempts', 'passing_yards', 'passing_tds', 'interceptions', 'sacks', 'sack_yards', 'sack_fumbles', 'sack_fumbles_lost', 'passing_air_yards', 'passing_yards_after_catch', 'passing_first_downs', 'passing_epa', 'passing_2pt_conversions', 'dakota', 'carries', 'rushing_yards', 'rushing_tds', 'rushing_fumbles', 'rushing_fumbles_lost', 'rushing_first_downs', 'rushing_epa', 'rushing_2pt_conversions', 'receptions', 'targets', 'receiving_yards', 'receiving_tds', 'receiving_fumbles', 'receiving_fumbles_lost', 'receiving_air_yards', 'receiving_yards_after_catch', 'receiving_first_downs', 'receiving_epa', 'receiving_2pt_conversions', 'special_teams_tds', 'fantasy_points_ppr', 'pacr', 'racr', 'target_share', 'air_yards_share', 'wopr', 'years_exp']].copy().reset_index(drop=True)"
   ]
  },
  {
   "cell_type": "code",
   "execution_count": 1428,
   "id": "1f3c3162",
   "metadata": {},
   "outputs": [],
   "source": [
    "qb_act_stats = qb_act_stats.fillna(0)"
   ]
  },
  {
   "cell_type": "code",
   "execution_count": 1429,
   "id": "d3aeb3d8",
   "metadata": {},
   "outputs": [],
   "source": [
    "qb_act_stats['complete_attempts_pct'] = qb_act_stats['completions']/qb_act_stats['attempts']"
   ]
  },
  {
   "cell_type": "code",
   "execution_count": 1430,
   "id": "9078029f",
   "metadata": {},
   "outputs": [],
   "source": [
    "#Calculate The Draftkings Points\n",
    "# qb_act_stats['Act_QB_DKPts'] = (qb_act_stats['rushing_yards'] * .1 + qb_act_stats['rushing_tds'] * 6 +\\\n",
    "#                             qb_act_stats['passing_yards'] * .04 + qb_act_stats['passing_tds'] * 4 +\\\n",
    "#                             qb_act_stats['interceptions'] * -1 + qb_act_stats['sack_fumbles_lost'] * -1)"
   ]
  },
  {
   "cell_type": "code",
   "execution_count": 1431,
   "id": "ac8c0708",
   "metadata": {},
   "outputs": [],
   "source": [
    "#QB DK PTS Rank For The Given Season & Week Pair\n",
    "# qb_act_stats['Act_QB_DKPtsRank'] = qb_act_stats.groupby(['season','week'])['Act_QB_DKPts'].rank(method='min', ascending = False)"
   ]
  },
  {
   "cell_type": "code",
   "execution_count": 1432,
   "id": "e22c8aab",
   "metadata": {},
   "outputs": [],
   "source": [
    "qb_act_stats = qb_act_stats.loc[:,~qb_act_stats.columns.duplicated()]\n",
    "qb_act_stats = qb_act_stats.replace([np.inf, -np.inf], np.nan)"
   ]
  },
  {
   "cell_type": "code",
   "execution_count": 1433,
   "id": "fde77f6c",
   "metadata": {},
   "outputs": [
    {
     "name": "stdout",
     "output_type": "stream",
     "text": [
      "3. Keep:  attempts 0.23633633323480255  Remove:  completions 0.24768936964108637\n",
      "3. Keep:  passing_air_yards 0.21792866106391623  Remove:  attempts 0.23633633323480255\n",
      "3. Keep:  passing_yards_after_catch 0.2189018877879614  Remove:  passing_yards 0.25447910466442775\n",
      "3. Keep:  sack_yards 0.13771657817585448  Remove:  sacks 0.14841862811805884\n",
      "3. Keep:  receptions 0.17162433707629746  Remove:  targets 0.1787137855422004\n",
      "3. Keep:  target_share 0.12218198575813682  Remove:  wopr 0.12893664449103673\n",
      "Dropping below:  ['targets', 'attempts', 'wopr', 'sacks', 'completions', 'passing_yards']\n",
      "(15442, 44)\n"
     ]
    }
   ],
   "source": [
    "# remove correlated\n",
    "qb_vs_act = _corr(qb_act_stats, threshold=0.85, impute=0, keep=['fantasy_points_ppr'])\n",
    "print(qb_vs_act.shape)"
   ]
  },
  {
   "cell_type": "code",
   "execution_count": 1434,
   "id": "9b6b2f7b",
   "metadata": {},
   "outputs": [
    {
     "data": {
      "text/plain": [
       "(15442, 80)"
      ]
     },
     "execution_count": 1434,
     "metadata": {},
     "output_type": "execute_result"
    }
   ],
   "source": [
    "# permute the features for Wrapper feature selection\n",
    "\n",
    "qb_vs_act.shape\n",
    "df = permute(qb_vs_act)\n",
    "df.shape"
   ]
  },
  {
   "cell_type": "code",
   "execution_count": 1435,
   "id": "9a763777",
   "metadata": {},
   "outputs": [
    {
     "name": "stdout",
     "output_type": "stream",
     "text": [
      "12\n",
      "60\n"
     ]
    }
   ],
   "source": [
    "# separate features to binary and continuous features\n",
    "ids = [col for col in df.columns.tolist() if col not in ['player_id','first_name','last_name','team','position','season','week','fantasy_points_ppr']]\n",
    "features = df.loc[:, ids]\n",
    "bin_cols = [\n",
    "    col for col in features if features[col].value_counts().index.isin([0, 1]).all()\n",
    "]\n",
    "cont_cols = [col for col in features.columns.tolist() if col not in bin_cols]\n",
    "print(len(bin_cols))\n",
    "print(len(cont_cols))"
   ]
  },
  {
   "cell_type": "code",
   "execution_count": 1436,
   "id": "b26bbc73",
   "metadata": {},
   "outputs": [
    {
     "name": "stdout",
     "output_type": "stream",
     "text": [
      "(15442, 72)\n",
      "(15442,)\n"
     ]
    }
   ],
   "source": [
    "## create tes-train split\n",
    "X = df[bin_cols+cont_cols]\n",
    "y = df[\"fantasy_points_ppr\"]\n",
    "## print df shape\n",
    "print(X.shape)\n",
    "print(y.shape)"
   ]
  },
  {
   "cell_type": "code",
   "execution_count": 1437,
   "id": "3dcb4ec6",
   "metadata": {},
   "outputs": [
    {
     "name": "stdout",
     "output_type": "stream",
     "text": [
      "[01:20:26] WARNING: C:/Users/administrator/workspace/xgboost-win64_release_1.6.0/src/learner.cc:627: \n",
      "Parameters: { \"params\" } might not be used.\n",
      "\n",
      "  This could be a false alarm, with some parameters getting used by language bindings but\n",
      "  then being mistakenly passed down to XGBoost core, or some parameter actually being used\n",
      "  but getting flagged wrongly here. Please open an issue if you find any such cases.\n",
      "\n",
      "\n",
      "['passing_tds', 'rushing_tds', 'passing_first_downs', 'receiving_tds', 'rushing_first_downs', 'rushing_yards', 'passing_epa', 'receiving_epa', 'passing_yards_after_catch', 'interceptions', 'passing_2pt_conversions', 'receiving_yards', 'dakota', 'receiving_yards_after_catch', 'rushing_fumbles_lost', 'passing_air_yards', 'sack_fumbles_lost', 'rushing_2pt_conversions', 'receptions', 'rushing_epa', 'sack_fumbles', 'sack_yards', 'pacr', 'complete_attempts_pct', 'carries', 'rushing_fumbles', 'receiving_2pt_conversions', 'receiving_air_yards', 'random_rushing_tds', 'random_receiving_tds', 'years_exp', 'random_receiving_yards', 'random_receiving_air_yards', 'random_sack_fumbles_lost', 'random_passing_first_downs', 'random_passing_epa', 'random_rushing_first_downs', 'random_complete_attempts_pct', 'random_dakota', 'random_rushing_epa', 'random_rushing_yards', 'random_rushing_fumbles', 'random_pacr', 'random_passing_yards_after_catch', 'random_sack_yards', 'random_receiving_yards_after_catch', 'random_years_exp', 'receiving_first_downs', 'random_passing_air_yards', 'random_passing_tds', 'random_interceptions', 'random_carries', 'random_sack_fumbles', 'random_racr', 'random_receiving_fumbles_lost', 'random_target_share', 'random_receiving_epa', 'random_receiving_first_downs', 'random_air_yards_share', 'random_receiving_2pt_conversions', 'target_share', 'random_receptions', 'random_receiving_fumbles', 'random_rushing_fumbles_lost', 'air_yards_share', 'random_passing_2pt_conversions', 'special_teams_tds', 'random_special_teams_tds', 'receiving_fumbles_lost', 'receiving_fumbles', 'racr', 'random_rushing_2pt_conversions']\n"
     ]
    }
   ],
   "source": [
    "from xgboost import XGBRegressor\n",
    "\n",
    "# create an xgboost regression model\n",
    "model = XGBRegressor(params=xgb_params)\n",
    "\n",
    "model.fit(X, y)\n",
    "dset = pd.DataFrame({'attr':X.columns.tolist(),'importance':model.feature_importances_}).sort_values(by='importance', ascending=False).reset_index(drop=True)\n",
    "attr = dset['attr'].tolist()\n",
    "print(attr)"
   ]
  },
  {
   "cell_type": "code",
   "execution_count": 1438,
   "id": "d3ba11c9",
   "metadata": {},
   "outputs": [
    {
     "name": "stdout",
     "output_type": "stream",
     "text": [
      "random_rushing_tds\n"
     ]
    },
    {
     "data": {
      "text/plain": [
       "27"
      ]
     },
     "execution_count": 1438,
     "metadata": {},
     "output_type": "execute_result"
    }
   ],
   "source": [
    "permutated = [name for name in attr if \"random_\" in name]\n",
    "if len(permutated) == 0:\n",
    "    top_n = len(attr)\n",
    "else:\n",
    "    print(permutated[0])\n",
    "    top_n = attr.index(permutated[0])-1\n",
    "top_n"
   ]
  },
  {
   "cell_type": "code",
   "execution_count": 1439,
   "id": "8d7b0288",
   "metadata": {},
   "outputs": [
    {
     "name": "stdout",
     "output_type": "stream",
     "text": [
      "(15442, 27)\n",
      "(15442,)\n"
     ]
    }
   ],
   "source": [
    "## create tes-train split\n",
    "X = df[attr[:top_n]]\n",
    "y = df[\"fantasy_points_ppr\"]\n",
    "## print df shape\n",
    "print(X.shape)\n",
    "print(y.shape)"
   ]
  },
  {
   "cell_type": "code",
   "execution_count": 1440,
   "id": "ba0ce220",
   "metadata": {},
   "outputs": [
    {
     "name": "stdout",
     "output_type": "stream",
     "text": [
      "Fitting 5 folds for each of 27 candidates, totalling 135 fits\n",
      "[01:23:16] WARNING: C:/Users/administrator/workspace/xgboost-win64_release_1.6.0/src/objective/regression_obj.cu:203: reg:linear is now deprecated in favor of reg:squarederror.\n",
      "0.9851311475094693\n",
      "{'colsample_bytree': 0.8, 'eta': 0.1, 'learning_rate': 0.07, 'max_depth': 2, 'min_child_weight': 4, 'n_estimators': 1000, 'objective': 'reg:linear', 'subsample': 0.7}\n"
     ]
    }
   ],
   "source": [
    "import numpy as np\n",
    "import pandas as pd\n",
    "from sklearn import preprocessing\n",
    "import xgboost as xgb\n",
    "from xgboost.sklearn import XGBRegressor\n",
    "import datetime\n",
    "from sklearn.model_selection import GridSearchCV\n",
    "\n",
    "xgb1 = XGBRegressor()\n",
    "parameters = {\n",
    "              'objective':['reg:linear'],\n",
    "              'learning_rate': [.03, 0.05, .07], #so called `eta` value\n",
    "              'max_depth': [2, 3, 4],\n",
    "              'min_child_weight': [4],\n",
    "              'eta' : [0.1],\n",
    "              'subsample': [0.7],\n",
    "              'colsample_bytree': [0.8],\n",
    "              'n_estimators': [200, 500, 1000]}\n",
    "\n",
    "xgb_grid = GridSearchCV(xgb1,\n",
    "                        parameters,\n",
    "                        cv = 5,\n",
    "                        n_jobs = 5,\n",
    "                        verbose=True)\n",
    "\n",
    "xgb_grid.fit(X, y)\n",
    "\n",
    "print(xgb_grid.best_score_)\n",
    "print(xgb_grid.best_params_)"
   ]
  },
  {
   "cell_type": "code",
   "execution_count": 1441,
   "id": "3906950b",
   "metadata": {},
   "outputs": [],
   "source": [
    "xgb_params = {}\n",
    "for key, val in xgb_grid.best_params_.items():\n",
    "        xgb_params[key] = val"
   ]
  },
  {
   "cell_type": "code",
   "execution_count": 1442,
   "id": "de8c768c",
   "metadata": {},
   "outputs": [
    {
     "name": "stdout",
     "output_type": "stream",
     "text": [
      "Mean MAE: 0.323 (0.012)\n"
     ]
    }
   ],
   "source": [
    "from numpy import absolute\n",
    "from sklearn.model_selection import cross_val_score\n",
    "from sklearn.model_selection import RepeatedKFold, KFold\n",
    "from xgboost import XGBRegressor\n",
    "\n",
    "# create an xgboost regression model\n",
    "model = XGBRegressor(params=xgb_params)\n",
    "\n",
    "\n",
    "# define model evaluation method\n",
    "cv = RepeatedKFold(n_splits=10, n_repeats=3, random_state=1)\n",
    "# evaluate model\n",
    "scores = cross_val_score(model, X, y, scoring='neg_mean_absolute_error', cv=cv, n_jobs=-1)\n",
    "# force scores to be positive\n",
    "scores = absolute(scores)\n",
    "print('Mean MAE: %.3f (%.3f)' % (scores.mean(), scores.std()) )\n",
    "\n",
    "# kfold = KFold(n_splits=10, shuffle=True)\n",
    "# kf_cv_scores = cross_val_score(model, X, y, cv=kfold )\n",
    "# print(\"K-fold CV average score: %.2f\" % kf_cv_scores.mean())"
   ]
  },
  {
   "cell_type": "code",
   "execution_count": 1443,
   "id": "565bf74f",
   "metadata": {},
   "outputs": [
    {
     "name": "stdout",
     "output_type": "stream",
     "text": [
      "[01:23:39] WARNING: C:/Users/administrator/workspace/xgboost-win64_release_1.6.0/src/learner.cc:627: \n",
      "Parameters: { \"params\" } might not be used.\n",
      "\n",
      "  This could be a false alarm, with some parameters getting used by language bindings but\n",
      "  then being mistakenly passed down to XGBoost core, or some parameter actually being used\n",
      "  but getting flagged wrongly here. Please open an issue if you find any such cases.\n",
      "\n",
      "\n",
      "['passing_tds', 'rushing_tds', 'passing_first_downs', 'receiving_tds', 'rushing_yards', 'interceptions', 'passing_yards_after_catch', 'passing_epa', 'receiving_yards', 'receiving_epa', 'passing_2pt_conversions', 'rushing_first_downs', 'dakota', 'passing_air_yards', 'rushing_fumbles_lost', 'sack_fumbles_lost', 'rushing_2pt_conversions', 'receiving_yards_after_catch', 'receptions', 'rushing_epa', 'sack_fumbles', 'sack_yards', 'complete_attempts_pct', 'carries', 'pacr', 'rushing_fumbles', 'receiving_2pt_conversions']\n"
     ]
    }
   ],
   "source": [
    "model.fit(X, y)\n",
    "dset = pd.DataFrame({'attr':X.columns.tolist(),'importance':model.feature_importances_}).sort_values(by='importance', ascending=False).reset_index(drop=True)\n",
    "attr = dset['attr'].tolist()\n",
    "print(attr)"
   ]
  },
  {
   "cell_type": "code",
   "execution_count": 1444,
   "id": "93f43ac9",
   "metadata": {},
   "outputs": [
    {
     "data": {
      "text/plain": [
       "Index(['player_id', 'first_name', 'last_name', 'team', 'position', 'season',\n",
       "       'week', 'passing_tds', 'interceptions', 'sack_yards', 'sack_fumbles',\n",
       "       'sack_fumbles_lost', 'passing_air_yards', 'passing_yards_after_catch',\n",
       "       'passing_first_downs', 'passing_epa', 'passing_2pt_conversions',\n",
       "       'dakota', 'carries', 'rushing_yards', 'rushing_tds', 'rushing_fumbles',\n",
       "       'rushing_fumbles_lost', 'rushing_first_downs', 'rushing_epa',\n",
       "       'rushing_2pt_conversions', 'receptions', 'receiving_yards',\n",
       "       'receiving_tds', 'receiving_fumbles', 'receiving_fumbles_lost',\n",
       "       'receiving_air_yards', 'receiving_yards_after_catch',\n",
       "       'receiving_first_downs', 'receiving_epa', 'receiving_2pt_conversions',\n",
       "       'special_teams_tds', 'fantasy_points_ppr', 'pacr', 'racr',\n",
       "       'target_share', 'air_yards_share', 'years_exp',\n",
       "       'complete_attempts_pct'],\n",
       "      dtype='object')"
      ]
     },
     "execution_count": 1444,
     "metadata": {},
     "output_type": "execute_result"
    }
   ],
   "source": [
    "qb_vs_act.columns"
   ]
  },
  {
   "cell_type": "code",
   "execution_count": 1445,
   "id": "cf60e2b0",
   "metadata": {},
   "outputs": [
    {
     "name": "stdout",
     "output_type": "stream",
     "text": [
      "(5846, 35)\n",
      "(1123, 35)\n"
     ]
    }
   ],
   "source": [
    "# Model validation\n",
    "# Use previous seasons data to predict 2021 season\n",
    "cols = ['player_id','first_name','last_name','team','position','season','week','fantasy_points_ppr'] + attr\n",
    "\n",
    "\n",
    "traindf = qb_vs_act[cols][(qb_vs_act['season']<=2020)].fillna(0).copy().drop_duplicates().reset_index(drop=True)\n",
    "print(traindf.shape)\n",
    "#Create Test Dataset\n",
    "testdf  = qb_vs_act[cols][qb_vs_act['season']>=2021].fillna(0).copy().drop_duplicates().reset_index(drop=True)\n",
    "print(testdf.shape)"
   ]
  },
  {
   "cell_type": "code",
   "execution_count": 1446,
   "id": "d0e57a34",
   "metadata": {},
   "outputs": [],
   "source": [
    "#Columns We Can't Include In Our Features Datasets\n",
    "dcols = ['player_id','first_name','last_name','team','position','season','week','fantasy_points_ppr']\n",
    "#X = Features, Y = Target\n",
    "#train = training dataset, test = testing dataset\n",
    "X_train, Y_train = traindf.drop(dcols, axis = 1), traindf['fantasy_points_ppr']\n",
    "X_test, Y_test = testdf.drop(dcols, axis = 1), testdf['fantasy_points_ppr']\n",
    "#Use For Analysis After Model & Predictions Created\n",
    "pred_df = testdf.copy()"
   ]
  },
  {
   "cell_type": "code",
   "execution_count": 1447,
   "id": "5a52aa8b",
   "metadata": {},
   "outputs": [
    {
     "name": "stdout",
     "output_type": "stream",
     "text": [
      "[01:23:40] WARNING: C:/Users/administrator/workspace/xgboost-win64_release_1.6.0/src/learner.cc:627: \n",
      "Parameters: { \"params\" } might not be used.\n",
      "\n",
      "  This could be a false alarm, with some parameters getting used by language bindings but\n",
      "  then being mistakenly passed down to XGBoost core, or some parameter actually being used\n",
      "  but getting flagged wrongly here. Please open an issue if you find any such cases.\n",
      "\n",
      "\n",
      "MAE: 4.66\n",
      "MAPE: 8876027019264.00\n"
     ]
    }
   ],
   "source": [
    "from sklearn.metrics import mean_absolute_error, mean_absolute_percentage_error\n",
    "\n",
    "model.fit(X_train, Y_train)\n",
    "Y_pred = model.predict(X_test)\n",
    "mae = mean_absolute_error(Y_test, Y_pred)\n",
    "print(\"MAE: %.2f\" % mse)\n",
    "mape = mean_absolute_percentage_error(Y_test, Y_pred)\n",
    "print(\"MAPE: %.2f\" % mape)"
   ]
  },
  {
   "cell_type": "code",
   "execution_count": 1448,
   "id": "bb245632",
   "metadata": {},
   "outputs": [
    {
     "data": {
      "image/png": "[encoded data removed]",
      "text/plain": [
       "<Figure size 432x288 with 1 Axes>"
      ]
     },
     "metadata": {
      "needs_background": "light"
     },
     "output_type": "display_data"
    }
   ],
   "source": [
    "import matplotlib.pyplot as plt \n",
    "\n",
    "x_ax = range(len(Y_test))\n",
    "plt.plot(x_ax, Y_test, label=\"original\")\n",
    "plt.plot(x_ax, Y_pred, label=\"predicted\")\n",
    "plt.title(\"test and predicted data\")\n",
    "plt.legend()\n",
    "plt.show()"
   ]
  },
  {
   "cell_type": "code",
   "execution_count": 1449,
   "id": "817f7661",
   "metadata": {},
   "outputs": [],
   "source": [
    "testdf['Predicted_fantasy'] = Y_pred\n",
    "testdf['fantasy_points_ppr'] = Y_test"
   ]
  },
  {
   "cell_type": "code",
   "execution_count": 1450,
   "id": "4f85367d",
   "metadata": {},
   "outputs": [
    {
     "data": {
      "text/html": [
       "<div>\n",
       "<style scoped>\n",
       "    .dataframe tbody tr th:only-of-type {\n",
       "        vertical-align: middle;\n",
       "    }\n",
       "\n",
       "    .dataframe tbody tr th {\n",
       "        vertical-align: top;\n",
       "    }\n",
       "\n",
       "    .dataframe thead th {\n",
       "        text-align: right;\n",
       "    }\n",
       "</style>\n",
       "<table border=\"1\" class=\"dataframe\">\n",
       "  <thead>\n",
       "    <tr style=\"text-align: right;\">\n",
       "      <th></th>\n",
       "      <th>rank</th>\n",
       "      <th>first_name</th>\n",
       "      <th>last_name</th>\n",
       "      <th>team</th>\n",
       "      <th>position</th>\n",
       "    </tr>\n",
       "  </thead>\n",
       "  <tbody>\n",
       "    <tr>\n",
       "      <th>0</th>\n",
       "      <td>1</td>\n",
       "      <td>jonathan</td>\n",
       "      <td>taylor</td>\n",
       "      <td>IND</td>\n",
       "      <td>RB</td>\n",
       "    </tr>\n",
       "    <tr>\n",
       "      <th>1</th>\n",
       "      <td>2</td>\n",
       "      <td>christian</td>\n",
       "      <td>mccaffrey</td>\n",
       "      <td>CAR</td>\n",
       "      <td>RB</td>\n",
       "    </tr>\n",
       "    <tr>\n",
       "      <th>2</th>\n",
       "      <td>3</td>\n",
       "      <td>cooper</td>\n",
       "      <td>kupp</td>\n",
       "      <td>LAR</td>\n",
       "      <td>WR</td>\n",
       "    </tr>\n",
       "    <tr>\n",
       "      <th>3</th>\n",
       "      <td>4</td>\n",
       "      <td>austin</td>\n",
       "      <td>ekeler</td>\n",
       "      <td>LAC</td>\n",
       "      <td>RB</td>\n",
       "    </tr>\n",
       "    <tr>\n",
       "      <th>4</th>\n",
       "      <td>5</td>\n",
       "      <td>justin</td>\n",
       "      <td>jefferson</td>\n",
       "      <td>MIN</td>\n",
       "      <td>WR</td>\n",
       "    </tr>\n",
       "  </tbody>\n",
       "</table>\n",
       "</div>"
      ],
      "text/plain": [
       "   rank first_name  last_name team position\n",
       "0     1   jonathan     taylor  IND       RB\n",
       "1     2  christian  mccaffrey  CAR       RB\n",
       "2     3     cooper       kupp  LAR       WR\n",
       "3     4     austin     ekeler  LAC       RB\n",
       "4     5     justin  jefferson  MIN       WR"
      ]
     },
     "execution_count": 1450,
     "metadata": {},
     "output_type": "execute_result"
    }
   ],
   "source": [
    "player_df = pd.read_csv('2022_top_300_espn_ppr_projections.csv')\n",
    "player_df.head()"
   ]
  },
  {
   "cell_type": "code",
   "execution_count": 1451,
   "id": "db4881e3",
   "metadata": {},
   "outputs": [
    {
     "data": {
      "text/plain": [
       "(271, 7)"
      ]
     },
     "execution_count": 1451,
     "metadata": {},
     "output_type": "execute_result"
    }
   ],
   "source": [
    "qb_player_df = player_df.merge(testdf[['first_name','last_name','team','position','fantasy_points_ppr','Predicted_fantasy']], on=['first_name','last_name','team','position'])\n",
    "qb_player_df.shape"
   ]
  },
  {
   "cell_type": "code",
   "execution_count": 1452,
   "id": "b41c5e08",
   "metadata": {},
   "outputs": [
    {
     "data": {
      "text/html": [
       "<div>\n",
       "<style scoped>\n",
       "    .dataframe tbody tr th:only-of-type {\n",
       "        vertical-align: middle;\n",
       "    }\n",
       "\n",
       "    .dataframe tbody tr th {\n",
       "        vertical-align: top;\n",
       "    }\n",
       "\n",
       "    .dataframe thead th {\n",
       "        text-align: right;\n",
       "    }\n",
       "</style>\n",
       "<table border=\"1\" class=\"dataframe\">\n",
       "  <thead>\n",
       "    <tr style=\"text-align: right;\">\n",
       "      <th></th>\n",
       "      <th>first_name</th>\n",
       "      <th>last_name</th>\n",
       "      <th>team</th>\n",
       "      <th>position</th>\n",
       "      <th>median</th>\n",
       "      <th>position_rank</th>\n",
       "    </tr>\n",
       "  </thead>\n",
       "  <tbody>\n",
       "    <tr>\n",
       "      <th>0</th>\n",
       "      <td>joshua</td>\n",
       "      <td>allen</td>\n",
       "      <td>BUF</td>\n",
       "      <td>QB</td>\n",
       "      <td>25.287130</td>\n",
       "      <td>1.0</td>\n",
       "    </tr>\n",
       "    <tr>\n",
       "      <th>1</th>\n",
       "      <td>tom</td>\n",
       "      <td>brady</td>\n",
       "      <td>TB</td>\n",
       "      <td>QB</td>\n",
       "      <td>24.054415</td>\n",
       "      <td>2.0</td>\n",
       "    </tr>\n",
       "    <tr>\n",
       "      <th>2</th>\n",
       "      <td>patrick</td>\n",
       "      <td>mahomes</td>\n",
       "      <td>KC</td>\n",
       "      <td>QB</td>\n",
       "      <td>23.072563</td>\n",
       "      <td>3.0</td>\n",
       "    </tr>\n",
       "    <tr>\n",
       "      <th>3</th>\n",
       "      <td>justin</td>\n",
       "      <td>herbert</td>\n",
       "      <td>LAC</td>\n",
       "      <td>QB</td>\n",
       "      <td>19.722849</td>\n",
       "      <td>4.0</td>\n",
       "    </tr>\n",
       "    <tr>\n",
       "      <th>4</th>\n",
       "      <td>aaron</td>\n",
       "      <td>rodgers</td>\n",
       "      <td>GB</td>\n",
       "      <td>QB</td>\n",
       "      <td>19.447746</td>\n",
       "      <td>5.0</td>\n",
       "    </tr>\n",
       "  </tbody>\n",
       "</table>\n",
       "</div>"
      ],
      "text/plain": [
       "  first_name last_name team position     median  position_rank\n",
       "0     joshua     allen  BUF       QB  25.287130            1.0\n",
       "1        tom     brady   TB       QB  24.054415            2.0\n",
       "2    patrick   mahomes   KC       QB  23.072563            3.0\n",
       "3     justin   herbert  LAC       QB  19.722849            4.0\n",
       "4      aaron   rodgers   GB       QB  19.447746            5.0"
      ]
     },
     "execution_count": 1452,
     "metadata": {},
     "output_type": "execute_result"
    }
   ],
   "source": [
    "qb_player_df['median'] = qb_player_df.groupby(['first_name','last_name'])['Predicted_fantasy'].transform('median')\n",
    "qb_player_df = qb_player_df.drop_duplicates(['first_name','last_name'])\n",
    "\n",
    "qb_player_df = qb_player_df.loc[qb_player_df['median'].sort_values(ascending=False).index]\n",
    "qb_player_df['position_rank'] = qb_player_df['median'].rank(ascending=False) \n",
    "qb_player_df.drop(['rank','fantasy_points_ppr','Predicted_fantasy'], axis=1, inplace=True)\n",
    "qb_player_df.reset_index(drop=True, inplace=True)\n",
    "qb_player_df.head()"
   ]
  },
  {
   "cell_type": "code",
   "execution_count": 1453,
   "id": "c52bc451",
   "metadata": {},
   "outputs": [],
   "source": [
    "\n",
    "qb_player_df.to_csv('qb_ranked.csv')"
   ]
  },
  {
   "cell_type": "markdown",
   "id": "86df41cb",
   "metadata": {},
   "source": [
    "### WR model"
   ]
  },
  {
   "cell_type": "code",
   "execution_count": 1454,
   "id": "9d810a7f",
   "metadata": {},
   "outputs": [
    {
     "data": {
      "text/html": [
       "<div>\n",
       "<style scoped>\n",
       "    .dataframe tbody tr th:only-of-type {\n",
       "        vertical-align: middle;\n",
       "    }\n",
       "\n",
       "    .dataframe tbody tr th {\n",
       "        vertical-align: top;\n",
       "    }\n",
       "\n",
       "    .dataframe thead th {\n",
       "        text-align: right;\n",
       "    }\n",
       "</style>\n",
       "<table border=\"1\" class=\"dataframe\">\n",
       "  <thead>\n",
       "    <tr style=\"text-align: right;\">\n",
       "      <th></th>\n",
       "      <th>player_id</th>\n",
       "      <th>player_name</th>\n",
       "      <th>recent_team</th>\n",
       "      <th>season</th>\n",
       "      <th>week</th>\n",
       "      <th>season_type</th>\n",
       "      <th>completions</th>\n",
       "      <th>attempts</th>\n",
       "      <th>passing_yards</th>\n",
       "      <th>passing_tds</th>\n",
       "      <th>...</th>\n",
       "      <th>game_type</th>\n",
       "      <th>status_description_abbr</th>\n",
       "      <th>football_name</th>\n",
       "      <th>esb_id</th>\n",
       "      <th>gsis_it_id</th>\n",
       "      <th>smart_id</th>\n",
       "      <th>entry_year</th>\n",
       "      <th>rookie_year</th>\n",
       "      <th>draft_club</th>\n",
       "      <th>draft_number</th>\n",
       "    </tr>\n",
       "  </thead>\n",
       "  <tbody>\n",
       "    <tr>\n",
       "      <th>0</th>\n",
       "      <td>00-0022921</td>\n",
       "      <td>L.Fitzgerald</td>\n",
       "      <td>ARI</td>\n",
       "      <td>2016</td>\n",
       "      <td>1</td>\n",
       "      <td>REG</td>\n",
       "      <td>0</td>\n",
       "      <td>0</td>\n",
       "      <td>0.0</td>\n",
       "      <td>0</td>\n",
       "      <td>...</td>\n",
       "      <td>REG</td>\n",
       "      <td>A01</td>\n",
       "      <td>Larry</td>\n",
       "      <td>FIT437493</td>\n",
       "      <td>28955</td>\n",
       "      <td>32004649-5443-7493-c0df-1747b7d5c143</td>\n",
       "      <td>2004.0</td>\n",
       "      <td>2004.0</td>\n",
       "      <td>ARI</td>\n",
       "      <td>3.0</td>\n",
       "    </tr>\n",
       "    <tr>\n",
       "      <th>1</th>\n",
       "      <td>00-0022921</td>\n",
       "      <td>L.Fitzgerald</td>\n",
       "      <td>ARI</td>\n",
       "      <td>2016</td>\n",
       "      <td>1</td>\n",
       "      <td>REG</td>\n",
       "      <td>0</td>\n",
       "      <td>0</td>\n",
       "      <td>0.0</td>\n",
       "      <td>0</td>\n",
       "      <td>...</td>\n",
       "      <td>REG</td>\n",
       "      <td>A01</td>\n",
       "      <td>Larry</td>\n",
       "      <td>FIT437493</td>\n",
       "      <td>28955</td>\n",
       "      <td>32004649-5443-7493-c0df-1747b7d5c143</td>\n",
       "      <td>2004.0</td>\n",
       "      <td>2004.0</td>\n",
       "      <td>ARI</td>\n",
       "      <td>3.0</td>\n",
       "    </tr>\n",
       "    <tr>\n",
       "      <th>2</th>\n",
       "      <td>00-0022921</td>\n",
       "      <td>L.Fitzgerald</td>\n",
       "      <td>ARI</td>\n",
       "      <td>2016</td>\n",
       "      <td>1</td>\n",
       "      <td>REG</td>\n",
       "      <td>0</td>\n",
       "      <td>0</td>\n",
       "      <td>0.0</td>\n",
       "      <td>0</td>\n",
       "      <td>...</td>\n",
       "      <td>REG</td>\n",
       "      <td>A01</td>\n",
       "      <td>Larry</td>\n",
       "      <td>FIT437493</td>\n",
       "      <td>28955</td>\n",
       "      <td>32004649-5443-7493-c0df-1747b7d5c143</td>\n",
       "      <td>2004.0</td>\n",
       "      <td>2004.0</td>\n",
       "      <td>ARI</td>\n",
       "      <td>3.0</td>\n",
       "    </tr>\n",
       "    <tr>\n",
       "      <th>3</th>\n",
       "      <td>00-0022921</td>\n",
       "      <td>L.Fitzgerald</td>\n",
       "      <td>ARI</td>\n",
       "      <td>2016</td>\n",
       "      <td>1</td>\n",
       "      <td>REG</td>\n",
       "      <td>0</td>\n",
       "      <td>0</td>\n",
       "      <td>0.0</td>\n",
       "      <td>0</td>\n",
       "      <td>...</td>\n",
       "      <td>REG</td>\n",
       "      <td>A01</td>\n",
       "      <td>Larry</td>\n",
       "      <td>FIT437493</td>\n",
       "      <td>28955</td>\n",
       "      <td>32004649-5443-7493-c0df-1747b7d5c143</td>\n",
       "      <td>2004.0</td>\n",
       "      <td>2004.0</td>\n",
       "      <td>ARI</td>\n",
       "      <td>3.0</td>\n",
       "    </tr>\n",
       "    <tr>\n",
       "      <th>4</th>\n",
       "      <td>00-0022921</td>\n",
       "      <td>L.Fitzgerald</td>\n",
       "      <td>ARI</td>\n",
       "      <td>2017</td>\n",
       "      <td>1</td>\n",
       "      <td>REG</td>\n",
       "      <td>0</td>\n",
       "      <td>0</td>\n",
       "      <td>0.0</td>\n",
       "      <td>0</td>\n",
       "      <td>...</td>\n",
       "      <td>REG</td>\n",
       "      <td>A01</td>\n",
       "      <td>Larry</td>\n",
       "      <td>FIT437493</td>\n",
       "      <td>28955</td>\n",
       "      <td>32004649-5443-7493-c0df-1747b7d5c143</td>\n",
       "      <td>2004.0</td>\n",
       "      <td>2004.0</td>\n",
       "      <td>ARI</td>\n",
       "      <td>3.0</td>\n",
       "    </tr>\n",
       "  </tbody>\n",
       "</table>\n",
       "<p>5 rows × 80 columns</p>\n",
       "</div>"
      ],
      "text/plain": [
       "    player_id   player_name recent_team  season  week season_type  \\\n",
       "0  00-0022921  L.Fitzgerald         ARI    2016     1         REG   \n",
       "1  00-0022921  L.Fitzgerald         ARI    2016     1         REG   \n",
       "2  00-0022921  L.Fitzgerald         ARI    2016     1         REG   \n",
       "3  00-0022921  L.Fitzgerald         ARI    2016     1         REG   \n",
       "4  00-0022921  L.Fitzgerald         ARI    2017     1         REG   \n",
       "\n",
       "   completions  attempts  passing_yards  passing_tds  ...  game_type  \\\n",
       "0            0         0            0.0            0  ...        REG   \n",
       "1            0         0            0.0            0  ...        REG   \n",
       "2            0         0            0.0            0  ...        REG   \n",
       "3            0         0            0.0            0  ...        REG   \n",
       "4            0         0            0.0            0  ...        REG   \n",
       "\n",
       "   status_description_abbr  football_name     esb_id  gsis_it_id  \\\n",
       "0                      A01          Larry  FIT437493       28955   \n",
       "1                      A01          Larry  FIT437493       28955   \n",
       "2                      A01          Larry  FIT437493       28955   \n",
       "3                      A01          Larry  FIT437493       28955   \n",
       "4                      A01          Larry  FIT437493       28955   \n",
       "\n",
       "                               smart_id  entry_year  rookie_year  draft_club  \\\n",
       "0  32004649-5443-7493-c0df-1747b7d5c143      2004.0       2004.0         ARI   \n",
       "1  32004649-5443-7493-c0df-1747b7d5c143      2004.0       2004.0         ARI   \n",
       "2  32004649-5443-7493-c0df-1747b7d5c143      2004.0       2004.0         ARI   \n",
       "3  32004649-5443-7493-c0df-1747b7d5c143      2004.0       2004.0         ARI   \n",
       "4  32004649-5443-7493-c0df-1747b7d5c143      2004.0       2004.0         ARI   \n",
       "\n",
       "   draft_number  \n",
       "0           3.0  \n",
       "1           3.0  \n",
       "2           3.0  \n",
       "3           3.0  \n",
       "4           3.0  \n",
       "\n",
       "[5 rows x 80 columns]"
      ]
     },
     "execution_count": 1454,
     "metadata": {},
     "output_type": "execute_result"
    }
   ],
   "source": [
    "weekly_wr_df.head()"
   ]
  },
  {
   "cell_type": "code",
   "execution_count": 1455,
   "id": "08d3e46d",
   "metadata": {},
   "outputs": [
    {
     "name": "stdout",
     "output_type": "stream",
     "text": [
      "['player_id', 'player_name', 'recent_team', 'season', 'week', 'season_type', 'completions', 'attempts', 'passing_yards', 'passing_tds', 'interceptions', 'sacks', 'sack_yards', 'sack_fumbles', 'sack_fumbles_lost', 'passing_air_yards', 'passing_yards_after_catch', 'passing_first_downs', 'passing_epa', 'passing_2pt_conversions', 'dakota', 'carries', 'rushing_yards', 'rushing_tds', 'rushing_fumbles', 'rushing_fumbles_lost', 'rushing_first_downs', 'rushing_epa', 'rushing_2pt_conversions', 'receptions', 'targets', 'receiving_yards', 'receiving_tds', 'receiving_fumbles', 'receiving_fumbles_lost', 'receiving_air_yards', 'receiving_yards_after_catch', 'receiving_first_downs', 'receiving_epa', 'receiving_2pt_conversions', 'special_teams_tds', 'fantasy_points', 'fantasy_points_ppr', 'pacr', 'racr', 'target_share', 'air_yards_share', 'wopr', 'team', 'position', 'depth_chart_position', 'jersey_number', 'status', 'first_name', 'last_name', 'birth_date', 'height', 'weight', 'college', 'espn_id', 'sportradar_id', 'yahoo_id', 'rotowire_id', 'pff_id', 'pfr_id', 'fantasy_data_id', 'sleeper_id', 'years_exp', 'headshot_url', 'ngs_position', 'game_type', 'status_description_abbr', 'football_name', 'esb_id', 'gsis_it_id', 'smart_id', 'entry_year', 'rookie_year', 'draft_club', 'draft_number']\n"
     ]
    }
   ],
   "source": [
    "print(list(weekly_wr_df.columns))"
   ]
  },
  {
   "cell_type": "code",
   "execution_count": 1456,
   "id": "9c43929e",
   "metadata": {},
   "outputs": [],
   "source": [
    "weekly_wr_df['complete_attempts_pct'] = weekly_wr_df['completions']/weekly_wr_df['attempts']"
   ]
  },
  {
   "cell_type": "code",
   "execution_count": 1457,
   "id": "bcf57ccb",
   "metadata": {},
   "outputs": [],
   "source": [
    "# try to keep as much as possible\n",
    "wr_act_stats = weekly_wr_df[['player_id','first_name','last_name','team','position','season','week', 'passing_yards', 'passing_tds', 'interceptions', 'sacks', 'sack_yards', 'sack_fumbles', 'sack_fumbles_lost', 'passing_air_yards', 'passing_yards_after_catch', 'passing_first_downs', 'passing_epa', 'passing_2pt_conversions', 'dakota', 'carries', 'rushing_yards', 'rushing_tds', 'rushing_fumbles', 'rushing_fumbles_lost', 'rushing_first_downs', 'rushing_epa', 'rushing_2pt_conversions', 'receptions', 'targets', 'receiving_yards', 'receiving_tds', 'receiving_fumbles', 'receiving_fumbles_lost', 'receiving_air_yards', 'receiving_yards_after_catch', 'receiving_first_downs', 'receiving_epa', 'receiving_2pt_conversions', 'special_teams_tds', 'fantasy_points', 'fantasy_points_ppr', 'pacr', 'racr', 'target_share', 'air_yards_share', 'wopr', 'team', 'position', 'years_exp', 'entry_year', 'rookie_year',  'draft_number', 'complete_attempts_pct']].copy().reset_index(drop=True)"
   ]
  },
  {
   "cell_type": "code",
   "execution_count": 1458,
   "id": "6c008040",
   "metadata": {},
   "outputs": [],
   "source": [
    "wr_act_stats = wr_act_stats.fillna(0)"
   ]
  },
  {
   "cell_type": "code",
   "execution_count": 1459,
   "id": "618d7fc9",
   "metadata": {},
   "outputs": [],
   "source": [
    "wr_act_stats = wr_act_stats.loc[:,~wr_act_stats.columns.duplicated()]\n",
    "wr_act_stats = wr_act_stats.replace([np.inf, -np.inf], np.nan)"
   ]
  },
  {
   "cell_type": "code",
   "execution_count": 1460,
   "id": "5d304ca6",
   "metadata": {},
   "outputs": [
    {
     "name": "stdout",
     "output_type": "stream",
     "text": [
      "3. Keep:  passing_first_downs 0.13356978626782867  Remove:  passing_yards 0.13463480079354734\n",
      "3. Keep:  sack_fumbles_lost 0.060067984102072404  Remove:  sack_fumbles 0.060067984102072404\n",
      "3. Keep:  complete_attempts_pct 0.13172709259147702  Remove:  passing_first_downs 0.13356978626782867\n",
      "3. Keep:  targets 0.175743173333122  Remove:  receptions 0.18596682340706053\n",
      "3. Keep:  receiving_first_downs 0.18541925372365625  Remove:  receiving_yards 0.192917565005925\n",
      "1. Keep:  fantasy_points_ppr  Remove:  receiving_first_downs\n",
      "1. Keep:  fantasy_points_ppr  Remove:  fantasy_points\n",
      "3. Keep:  air_yards_share 0.11509367797592245  Remove:  target_share 0.12338216402536116\n",
      "3. Keep:  air_yards_share 0.11509367797592245  Remove:  wopr 0.12206969574798548\n",
      "3. Keep:  rookie_year 0.04790972680226377  Remove:  entry_year 0.04790972680226377\n",
      "Dropping below:  ['target_share', 'sack_fumbles', 'wopr', 'fantasy_points', 'receiving_first_downs', 'passing_first_downs', 'receiving_yards', 'entry_year', 'receptions', 'passing_yards']\n",
      "(43063, 42)\n"
     ]
    }
   ],
   "source": [
    "# remove correlated\n",
    "wr_act_stats = _corr(wr_act_stats, threshold=0.85, impute=0, keep=['fantasy_points_ppr'])\n",
    "print(wr_act_stats.shape)"
   ]
  },
  {
   "cell_type": "code",
   "execution_count": 1461,
   "id": "baf7eed3",
   "metadata": {},
   "outputs": [
    {
     "name": "stdout",
     "output_type": "stream",
     "text": [
      "(43063, 42)\n",
      "(43063, 76)\n"
     ]
    }
   ],
   "source": [
    "# permute the features for Wrapper feature selection\n",
    "print(wr_act_stats.shape)\n",
    "df = permute(wr_act_stats)\n",
    "print(df.shape)"
   ]
  },
  {
   "cell_type": "code",
   "execution_count": 1462,
   "id": "d939e817",
   "metadata": {},
   "outputs": [
    {
     "name": "stdout",
     "output_type": "stream",
     "text": [
      "18\n",
      "50\n"
     ]
    }
   ],
   "source": [
    "# separate features to binary and continuous features\n",
    "ids = [col for col in df.columns.tolist() if col not in ['player_id','first_name','last_name','team','position','season','week','fantasy_points_ppr']]\n",
    "features = df.loc[:, ids]\n",
    "bin_cols = [\n",
    "    col for col in features if features[col].value_counts().index.isin([0, 1]).all()\n",
    "]\n",
    "cont_cols = [col for col in features.columns.tolist() if col not in bin_cols]\n",
    "print(len(bin_cols))\n",
    "print(len(cont_cols))"
   ]
  },
  {
   "cell_type": "code",
   "execution_count": 1463,
   "id": "db29de6d",
   "metadata": {},
   "outputs": [
    {
     "name": "stdout",
     "output_type": "stream",
     "text": [
      "(43063, 68)\n",
      "(43063,)\n"
     ]
    }
   ],
   "source": [
    "## create tes-train split\n",
    "X = df[bin_cols+cont_cols]\n",
    "y = df[\"fantasy_points_ppr\"]\n",
    "## print df shape\n",
    "print(X.shape)\n",
    "print(y.shape)"
   ]
  },
  {
   "cell_type": "code",
   "execution_count": 1464,
   "id": "d7c17f54",
   "metadata": {},
   "outputs": [
    {
     "name": "stdout",
     "output_type": "stream",
     "text": [
      "Fitting 5 folds for each of 27 candidates, totalling 135 fits\n",
      "[01:37:04] WARNING: C:/Users/administrator/workspace/xgboost-win64_release_1.6.0/src/objective/regression_obj.cu:203: reg:linear is now deprecated in favor of reg:squarederror.\n",
      "0.9606554207590362\n",
      "{'colsample_bytree': 0.8, 'eta': 0.1, 'learning_rate': 0.03, 'max_depth': 4, 'min_child_weight': 4, 'n_estimators': 1000, 'objective': 'reg:linear', 'subsample': 0.7}\n"
     ]
    }
   ],
   "source": [
    "import numpy as np\n",
    "import pandas as pd\n",
    "from sklearn import preprocessing\n",
    "import xgboost as xgb\n",
    "from xgboost.sklearn import XGBRegressor\n",
    "import datetime\n",
    "from sklearn.model_selection import GridSearchCV\n",
    "\n",
    "xgb1 = XGBRegressor()\n",
    "parameters = {\n",
    "              'objective':['reg:linear'],\n",
    "              'learning_rate': [.03, 0.05, .07], #so called `eta` value\n",
    "              'max_depth': [2, 3, 4],\n",
    "              'min_child_weight': [4],\n",
    "              'eta' : [0.1],\n",
    "              'subsample': [0.7],\n",
    "              'colsample_bytree': [0.8],\n",
    "              'n_estimators': [200, 500, 1000]}\n",
    "\n",
    "xgb_grid = GridSearchCV(xgb1,\n",
    "                        parameters,\n",
    "                        cv = 5,\n",
    "                        n_jobs = 5,\n",
    "                        verbose=True)\n",
    "\n",
    "xgb_grid.fit(X, y)\n",
    "\n",
    "print(xgb_grid.best_score_)\n",
    "print(xgb_grid.best_params_)"
   ]
  },
  {
   "cell_type": "code",
   "execution_count": 1465,
   "id": "a39693af",
   "metadata": {},
   "outputs": [
    {
     "name": "stdout",
     "output_type": "stream",
     "text": [
      "[01:37:32] WARNING: C:/Users/administrator/workspace/xgboost-win64_release_1.6.0/src/learner.cc:627: \n",
      "Parameters: { \"params\" } might not be used.\n",
      "\n",
      "  This could be a false alarm, with some parameters getting used by language bindings but\n",
      "  then being mistakenly passed down to XGBoost core, or some parameter actually being used\n",
      "  but getting flagged wrongly here. Please open an issue if you find any such cases.\n",
      "\n",
      "\n",
      "['receiving_tds', 'targets', 'receiving_epa', 'rushing_tds', 'receiving_yards_after_catch', 'special_teams_tds', 'passing_tds', 'rushing_yards', 'rushing_first_downs', 'receiving_2pt_conversions', 'receiving_air_yards', 'rushing_epa', 'racr', 'passing_epa', 'receiving_fumbles_lost', 'receiving_fumbles', 'air_yards_share', 'carries', 'interceptions', 'rushing_fumbles_lost', 'rookie_year', 'draft_number', 'passing_2pt_conversions', 'passing_yards_after_catch', 'random_rookie_year', 'random_rushing_epa', 'random_rushing_yards', 'random_air_yards_share', 'random_receiving_epa', 'random_racr', 'random_receiving_fumbles_lost', 'random_receiving_air_yards', 'random_interceptions', 'random_passing_air_yards', 'random_receiving_yards_after_catch', 'random_sack_yards', 'random_receiving_tds', 'passing_air_yards', 'random_draft_number', 'random_years_exp', 'random_passing_tds', 'random_passing_epa', 'years_exp', 'random_rushing_fumbles', 'random_targets', 'sack_yards', 'random_pacr', 'sacks', 'random_passing_yards_after_catch', 'sack_fumbles_lost', 'random_carries', 'rushing_fumbles', 'random_receiving_2pt_conversions', 'random_receiving_fumbles', 'random_sack_fumbles_lost', 'random_rushing_2pt_conversions', 'random_special_teams_tds', 'dakota', 'random_passing_2pt_conversions', 'complete_attempts_pct', 'random_sacks', 'random_rushing_fumbles_lost', 'random_rushing_first_downs', 'random_rushing_tds', 'pacr', 'random_dakota', 'rushing_2pt_conversions', 'random_complete_attempts_pct']\n"
     ]
    }
   ],
   "source": [
    "model.fit(X, y)\n",
    "dset = pd.DataFrame({'attr':X.columns.tolist(),'importance':model.feature_importances_}).sort_values(by='importance', ascending=False).reset_index(drop=True)\n",
    "attr = dset['attr'].tolist()\n",
    "print(attr)"
   ]
  },
  {
   "cell_type": "code",
   "execution_count": 1466,
   "id": "d4777282",
   "metadata": {},
   "outputs": [
    {
     "name": "stdout",
     "output_type": "stream",
     "text": [
      "random_rookie_year\n"
     ]
    },
    {
     "data": {
      "text/plain": [
       "23"
      ]
     },
     "execution_count": 1466,
     "metadata": {},
     "output_type": "execute_result"
    }
   ],
   "source": [
    "permutated = [name for name in attr if \"random_\" in name]\n",
    "if len(permutated) == 0:\n",
    "    top_n = len(attr)\n",
    "else:\n",
    "    print(permutated[0])\n",
    "    top_n = attr.index(permutated[0])-1\n",
    "top_n"
   ]
  },
  {
   "cell_type": "code",
   "execution_count": 1467,
   "id": "5b309f81",
   "metadata": {},
   "outputs": [
    {
     "name": "stdout",
     "output_type": "stream",
     "text": [
      "(43063, 23)\n",
      "(43063,)\n"
     ]
    }
   ],
   "source": [
    "## create tes-train split\n",
    "X = df[attr[:top_n]]\n",
    "y = df[\"fantasy_points_ppr\"]\n",
    "## print df shape\n",
    "print(X.shape)\n",
    "print(y.shape)"
   ]
  },
  {
   "cell_type": "code",
   "execution_count": 1468,
   "id": "960d5399",
   "metadata": {},
   "outputs": [
    {
     "name": "stdout",
     "output_type": "stream",
     "text": [
      "Fitting 5 folds for each of 27 candidates, totalling 135 fits\n",
      "[01:43:36] WARNING: C:/Users/administrator/workspace/xgboost-win64_release_1.6.0/src/objective/regression_obj.cu:203: reg:linear is now deprecated in favor of reg:squarederror.\n",
      "0.9607492852841153\n",
      "{'colsample_bytree': 0.8, 'eta': 0.1, 'learning_rate': 0.03, 'max_depth': 4, 'min_child_weight': 4, 'n_estimators': 1000, 'objective': 'reg:linear', 'subsample': 0.7}\n"
     ]
    }
   ],
   "source": [
    "import numpy as np\n",
    "import pandas as pd\n",
    "from sklearn import preprocessing\n",
    "import xgboost as xgb\n",
    "from xgboost.sklearn import XGBRegressor\n",
    "import datetime\n",
    "from sklearn.model_selection import GridSearchCV\n",
    "\n",
    "xgb1 = XGBRegressor()\n",
    "parameters = {\n",
    "              'objective':['reg:linear'],\n",
    "              'learning_rate': [.03, 0.05, .07], #so called `eta` value\n",
    "              'max_depth': [2, 3, 4],\n",
    "              'min_child_weight': [4],\n",
    "              'eta' : [0.1],\n",
    "              'subsample': [0.7],\n",
    "              'colsample_bytree': [0.8],\n",
    "              'n_estimators': [200, 500, 1000]}\n",
    "\n",
    "xgb_grid = GridSearchCV(xgb1,\n",
    "                        parameters,\n",
    "                        cv = 5,\n",
    "                        n_jobs = 5,\n",
    "                        verbose=True)\n",
    "\n",
    "xgb_grid.fit(X, y)\n",
    "\n",
    "print(xgb_grid.best_score_)\n",
    "print(xgb_grid.best_params_)"
   ]
  },
  {
   "cell_type": "code",
   "execution_count": 1469,
   "id": "da2c8bce",
   "metadata": {},
   "outputs": [],
   "source": [
    "xgb_params = {}\n",
    "for key, val in xgb_grid.best_params_.items():\n",
    "        xgb_params[key] = val"
   ]
  },
  {
   "cell_type": "code",
   "execution_count": 1470,
   "id": "cbbcaa67",
   "metadata": {},
   "outputs": [
    {
     "name": "stdout",
     "output_type": "stream",
     "text": [
      "Mean MAE: 0.802 (0.012)\n"
     ]
    }
   ],
   "source": [
    "from numpy import absolute\n",
    "from sklearn.model_selection import cross_val_score\n",
    "from sklearn.model_selection import RepeatedKFold, KFold\n",
    "from xgboost import XGBRegressor\n",
    "\n",
    "# create an xgboost regression model\n",
    "model = XGBRegressor(params=xgb_params)\n",
    "\n",
    "\n",
    "# define model evaluation method\n",
    "cv = RepeatedKFold(n_splits=10, n_repeats=3, random_state=1)\n",
    "# evaluate model\n",
    "scores = cross_val_score(model, X, y, scoring='neg_mean_absolute_error', cv=cv, n_jobs=-1)\n",
    "# force scores to be positive\n",
    "scores = absolute(scores)\n",
    "print('Mean MAE: %.3f (%.3f)' % (scores.mean(), scores.std()) )\n",
    "\n",
    "# kfold = KFold(n_splits=10, shuffle=True)\n",
    "# kf_cv_scores = cross_val_score(model, X, y, cv=kfold )\n",
    "# print(\"K-fold CV average score: %.2f\" % kf_cv_scores.mean())"
   ]
  },
  {
   "cell_type": "code",
   "execution_count": 1471,
   "id": "a161f1cc",
   "metadata": {},
   "outputs": [
    {
     "name": "stdout",
     "output_type": "stream",
     "text": [
      "[01:44:28] WARNING: C:/Users/administrator/workspace/xgboost-win64_release_1.6.0/src/learner.cc:627: \n",
      "Parameters: { \"params\" } might not be used.\n",
      "\n",
      "  This could be a false alarm, with some parameters getting used by language bindings but\n",
      "  then being mistakenly passed down to XGBoost core, or some parameter actually being used\n",
      "  but getting flagged wrongly here. Please open an issue if you find any such cases.\n",
      "\n",
      "\n",
      "['receiving_tds', 'targets', 'receiving_epa', 'rushing_tds', 'receiving_yards_after_catch', 'special_teams_tds', 'passing_tds', 'rushing_yards', 'receiving_2pt_conversions', 'rushing_first_downs', 'carries', 'receiving_air_yards', 'rushing_epa', 'racr', 'passing_epa', 'receiving_fumbles', 'receiving_fumbles_lost', 'rushing_fumbles_lost', 'interceptions', 'rookie_year', 'draft_number', 'air_yards_share', 'passing_2pt_conversions']\n"
     ]
    }
   ],
   "source": [
    "model.fit(X, y)\n",
    "dset = pd.DataFrame({'attr':X.columns.tolist(),'importance':model.feature_importances_}).sort_values(by='importance', ascending=False).reset_index(drop=True)\n",
    "attr = dset['attr'].tolist()\n",
    "print(attr)"
   ]
  },
  {
   "cell_type": "code",
   "execution_count": 1472,
   "id": "1de88f88",
   "metadata": {},
   "outputs": [
    {
     "name": "stdout",
     "output_type": "stream",
     "text": [
      "(17770, 31)\n",
      "(3437, 31)\n"
     ]
    }
   ],
   "source": [
    "# Model validation\n",
    "# Use previous seasons data to predict 2021 season\n",
    "cols = ['player_id','first_name','last_name','team','position','season','week','fantasy_points_ppr'] + attr\n",
    "\n",
    "\n",
    "traindf = wr_act_stats[cols][(wr_act_stats['season']<=2020)].fillna(0).copy().drop_duplicates().reset_index(drop=True)\n",
    "print(traindf.shape)\n",
    "#Create Test Dataset\n",
    "testdf  = wr_act_stats[cols][wr_act_stats['season']>=2021].fillna(0).copy().drop_duplicates().reset_index(drop=True)\n",
    "print(testdf.shape)"
   ]
  },
  {
   "cell_type": "code",
   "execution_count": 1473,
   "id": "c05b8379",
   "metadata": {},
   "outputs": [],
   "source": [
    "#Columns We Can't Include In Our Features Datasets\n",
    "dcols = ['player_id','first_name','last_name','team','position','season','week','fantasy_points_ppr']\n",
    "#X = Features, Y = Target\n",
    "#train = training dataset, test = testing dataset\n",
    "X_train, Y_train = traindf.drop(dcols, axis = 1), traindf['fantasy_points_ppr']\n",
    "X_test, Y_test = testdf.drop(dcols, axis = 1), testdf['fantasy_points_ppr']\n",
    "#Use For Analysis After Model & Predictions Created\n",
    "pred_df = testdf.copy()"
   ]
  },
  {
   "cell_type": "code",
   "execution_count": 1474,
   "id": "441ace5b",
   "metadata": {},
   "outputs": [
    {
     "name": "stdout",
     "output_type": "stream",
     "text": [
      "[01:44:30] WARNING: C:/Users/administrator/workspace/xgboost-win64_release_1.6.0/src/learner.cc:627: \n",
      "Parameters: { \"params\" } might not be used.\n",
      "\n",
      "  This could be a false alarm, with some parameters getting used by language bindings but\n",
      "  then being mistakenly passed down to XGBoost core, or some parameter actually being used\n",
      "  but getting flagged wrongly here. Please open an issue if you find any such cases.\n",
      "\n",
      "\n",
      "MAE: 4.66\n",
      "MAPE: 160237294190592.00\n"
     ]
    }
   ],
   "source": [
    "from sklearn.metrics import mean_absolute_error, mean_absolute_percentage_error\n",
    "\n",
    "model.fit(X_train, Y_train)\n",
    "Y_pred = model.predict(X_test)\n",
    "mae = mean_absolute_error(Y_test, Y_pred)\n",
    "print(\"MAE: %.2f\" % mse)\n",
    "mape = mean_absolute_percentage_error(Y_test, Y_pred)\n",
    "print(\"MAPE: %.2f\" % mape)"
   ]
  },
  {
   "cell_type": "code",
   "execution_count": 1475,
   "id": "537b54af",
   "metadata": {},
   "outputs": [
    {
     "data": {
      "image/png": "[encoded data removed]",
      "text/plain": [
       "<Figure size 432x288 with 1 Axes>"
      ]
     },
     "metadata": {
      "needs_background": "light"
     },
     "output_type": "display_data"
    }
   ],
   "source": [
    "import matplotlib.pyplot as plt \n",
    "\n",
    "x_ax = range(len(Y_test))\n",
    "plt.plot(x_ax, Y_test, label=\"original\")\n",
    "plt.plot(x_ax, Y_pred, label=\"predicted\")\n",
    "plt.title(\"test and predicted data\")\n",
    "plt.legend()\n",
    "plt.show()"
   ]
  },
  {
   "cell_type": "code",
   "execution_count": 1476,
   "id": "61824b69",
   "metadata": {},
   "outputs": [],
   "source": [
    "testdf['Predicted_fantasy'] = Y_pred\n",
    "testdf['fantasy_points_ppr'] = Y_test"
   ]
  },
  {
   "cell_type": "code",
   "execution_count": 1477,
   "id": "cd170d48",
   "metadata": {},
   "outputs": [
    {
     "data": {
      "text/html": [
       "<div>\n",
       "<style scoped>\n",
       "    .dataframe tbody tr th:only-of-type {\n",
       "        vertical-align: middle;\n",
       "    }\n",
       "\n",
       "    .dataframe tbody tr th {\n",
       "        vertical-align: top;\n",
       "    }\n",
       "\n",
       "    .dataframe thead th {\n",
       "        text-align: right;\n",
       "    }\n",
       "</style>\n",
       "<table border=\"1\" class=\"dataframe\">\n",
       "  <thead>\n",
       "    <tr style=\"text-align: right;\">\n",
       "      <th></th>\n",
       "      <th>rank</th>\n",
       "      <th>first_name</th>\n",
       "      <th>last_name</th>\n",
       "      <th>team</th>\n",
       "      <th>position</th>\n",
       "    </tr>\n",
       "  </thead>\n",
       "  <tbody>\n",
       "    <tr>\n",
       "      <th>0</th>\n",
       "      <td>1</td>\n",
       "      <td>jonathan</td>\n",
       "      <td>taylor</td>\n",
       "      <td>IND</td>\n",
       "      <td>RB</td>\n",
       "    </tr>\n",
       "    <tr>\n",
       "      <th>1</th>\n",
       "      <td>2</td>\n",
       "      <td>christian</td>\n",
       "      <td>mccaffrey</td>\n",
       "      <td>CAR</td>\n",
       "      <td>RB</td>\n",
       "    </tr>\n",
       "    <tr>\n",
       "      <th>2</th>\n",
       "      <td>3</td>\n",
       "      <td>cooper</td>\n",
       "      <td>kupp</td>\n",
       "      <td>LAR</td>\n",
       "      <td>WR</td>\n",
       "    </tr>\n",
       "    <tr>\n",
       "      <th>3</th>\n",
       "      <td>4</td>\n",
       "      <td>austin</td>\n",
       "      <td>ekeler</td>\n",
       "      <td>LAC</td>\n",
       "      <td>RB</td>\n",
       "    </tr>\n",
       "    <tr>\n",
       "      <th>4</th>\n",
       "      <td>5</td>\n",
       "      <td>justin</td>\n",
       "      <td>jefferson</td>\n",
       "      <td>MIN</td>\n",
       "      <td>WR</td>\n",
       "    </tr>\n",
       "  </tbody>\n",
       "</table>\n",
       "</div>"
      ],
      "text/plain": [
       "   rank first_name  last_name team position\n",
       "0     1   jonathan     taylor  IND       RB\n",
       "1     2  christian  mccaffrey  CAR       RB\n",
       "2     3     cooper       kupp  LAR       WR\n",
       "3     4     austin     ekeler  LAC       RB\n",
       "4     5     justin  jefferson  MIN       WR"
      ]
     },
     "execution_count": 1477,
     "metadata": {},
     "output_type": "execute_result"
    }
   ],
   "source": [
    "player_df = pd.read_csv('2022_top_300_espn_ppr_projections.csv')\n",
    "player_df.head()"
   ]
  },
  {
   "cell_type": "code",
   "execution_count": 1478,
   "id": "4cd7556b",
   "metadata": {},
   "outputs": [
    {
     "data": {
      "text/plain": [
       "(560, 7)"
      ]
     },
     "execution_count": 1478,
     "metadata": {},
     "output_type": "execute_result"
    }
   ],
   "source": [
    "wr_player_df = player_df.merge(testdf[['first_name','last_name','team','position','fantasy_points_ppr','Predicted_fantasy']], on=['first_name','last_name','team','position'])\n",
    "wr_player_df.shape"
   ]
  },
  {
   "cell_type": "code",
   "execution_count": 1479,
   "id": "e0c8d0e5",
   "metadata": {},
   "outputs": [
    {
     "data": {
      "text/html": [
       "<div>\n",
       "<style scoped>\n",
       "    .dataframe tbody tr th:only-of-type {\n",
       "        vertical-align: middle;\n",
       "    }\n",
       "\n",
       "    .dataframe tbody tr th {\n",
       "        vertical-align: top;\n",
       "    }\n",
       "\n",
       "    .dataframe thead th {\n",
       "        text-align: right;\n",
       "    }\n",
       "</style>\n",
       "<table border=\"1\" class=\"dataframe\">\n",
       "  <thead>\n",
       "    <tr style=\"text-align: right;\">\n",
       "      <th></th>\n",
       "      <th>first_name</th>\n",
       "      <th>last_name</th>\n",
       "      <th>team</th>\n",
       "      <th>position</th>\n",
       "      <th>median</th>\n",
       "      <th>position_rank</th>\n",
       "    </tr>\n",
       "  </thead>\n",
       "  <tbody>\n",
       "    <tr>\n",
       "      <th>0</th>\n",
       "      <td>justin</td>\n",
       "      <td>jefferson</td>\n",
       "      <td>MIN</td>\n",
       "      <td>WR</td>\n",
       "      <td>19.829103</td>\n",
       "      <td>1.0</td>\n",
       "    </tr>\n",
       "    <tr>\n",
       "      <th>1</th>\n",
       "      <td>mike</td>\n",
       "      <td>evans</td>\n",
       "      <td>TB</td>\n",
       "      <td>WR</td>\n",
       "      <td>18.626549</td>\n",
       "      <td>2.0</td>\n",
       "    </tr>\n",
       "    <tr>\n",
       "      <th>2</th>\n",
       "      <td>diontae</td>\n",
       "      <td>johnson</td>\n",
       "      <td>PIT</td>\n",
       "      <td>WR</td>\n",
       "      <td>17.788610</td>\n",
       "      <td>3.0</td>\n",
       "    </tr>\n",
       "    <tr>\n",
       "      <th>3</th>\n",
       "      <td>adam</td>\n",
       "      <td>thielen</td>\n",
       "      <td>MIN</td>\n",
       "      <td>WR</td>\n",
       "      <td>15.872649</td>\n",
       "      <td>4.0</td>\n",
       "    </tr>\n",
       "    <tr>\n",
       "      <th>4</th>\n",
       "      <td>brandin</td>\n",
       "      <td>cooks</td>\n",
       "      <td>HOU</td>\n",
       "      <td>WR</td>\n",
       "      <td>15.185743</td>\n",
       "      <td>5.0</td>\n",
       "    </tr>\n",
       "  </tbody>\n",
       "</table>\n",
       "</div>"
      ],
      "text/plain": [
       "  first_name  last_name team position     median  position_rank\n",
       "0     justin  jefferson  MIN       WR  19.829103            1.0\n",
       "1       mike      evans   TB       WR  18.626549            2.0\n",
       "2    diontae    johnson  PIT       WR  17.788610            3.0\n",
       "3       adam    thielen  MIN       WR  15.872649            4.0\n",
       "4    brandin      cooks  HOU       WR  15.185743            5.0"
      ]
     },
     "execution_count": 1479,
     "metadata": {},
     "output_type": "execute_result"
    }
   ],
   "source": [
    "wr_player_df['median'] = wr_player_df.groupby(['first_name','last_name'])['Predicted_fantasy'].transform('median')\n",
    "wr_player_df = wr_player_df.drop_duplicates(['first_name','last_name'])\n",
    "\n",
    "wr_player_df = wr_player_df.loc[wr_player_df['median'].sort_values(ascending=False).index]\n",
    "wr_player_df['position_rank'] = wr_player_df['median'].rank(ascending=False) \n",
    "wr_player_df.drop(['rank','fantasy_points_ppr','Predicted_fantasy'], axis=1, inplace=True)\n",
    "wr_player_df.reset_index(drop=True, inplace=True)\n",
    "wr_player_df.head()"
   ]
  },
  {
   "cell_type": "code",
   "execution_count": 1480,
   "id": "d69aae6a",
   "metadata": {},
   "outputs": [],
   "source": [
    "\n",
    "wr_player_df.to_csv('wr_ranked.csv')"
   ]
  },
  {
   "cell_type": "markdown",
   "id": "5bbb6451",
   "metadata": {},
   "source": [
    "### TE model"
   ]
  },
  {
   "cell_type": "code",
   "execution_count": 1481,
   "id": "39475fd3",
   "metadata": {},
   "outputs": [
    {
     "data": {
      "text/html": [
       "<div>\n",
       "<style scoped>\n",
       "    .dataframe tbody tr th:only-of-type {\n",
       "        vertical-align: middle;\n",
       "    }\n",
       "\n",
       "    .dataframe tbody tr th {\n",
       "        vertical-align: top;\n",
       "    }\n",
       "\n",
       "    .dataframe thead th {\n",
       "        text-align: right;\n",
       "    }\n",
       "</style>\n",
       "<table border=\"1\" class=\"dataframe\">\n",
       "  <thead>\n",
       "    <tr style=\"text-align: right;\">\n",
       "      <th></th>\n",
       "      <th>player_id</th>\n",
       "      <th>player_name</th>\n",
       "      <th>recent_team</th>\n",
       "      <th>season</th>\n",
       "      <th>week</th>\n",
       "      <th>season_type</th>\n",
       "      <th>completions</th>\n",
       "      <th>attempts</th>\n",
       "      <th>passing_yards</th>\n",
       "      <th>passing_tds</th>\n",
       "      <th>...</th>\n",
       "      <th>game_type</th>\n",
       "      <th>status_description_abbr</th>\n",
       "      <th>football_name</th>\n",
       "      <th>esb_id</th>\n",
       "      <th>gsis_it_id</th>\n",
       "      <th>smart_id</th>\n",
       "      <th>entry_year</th>\n",
       "      <th>rookie_year</th>\n",
       "      <th>draft_club</th>\n",
       "      <th>draft_number</th>\n",
       "    </tr>\n",
       "  </thead>\n",
       "  <tbody>\n",
       "    <tr>\n",
       "      <th>0</th>\n",
       "      <td>00-0021547</td>\n",
       "      <td>A.Gates</td>\n",
       "      <td>LAC</td>\n",
       "      <td>2016</td>\n",
       "      <td>1</td>\n",
       "      <td>REG</td>\n",
       "      <td>0</td>\n",
       "      <td>0</td>\n",
       "      <td>0.0</td>\n",
       "      <td>0</td>\n",
       "      <td>...</td>\n",
       "      <td>REG</td>\n",
       "      <td>A01</td>\n",
       "      <td>Antonio</td>\n",
       "      <td>GAT194627</td>\n",
       "      <td>28495</td>\n",
       "      <td>32004741-5419-4627-d7b9-c6962c8e21f2</td>\n",
       "      <td>2003.0</td>\n",
       "      <td>2003.0</td>\n",
       "      <td>None</td>\n",
       "      <td>NaN</td>\n",
       "    </tr>\n",
       "    <tr>\n",
       "      <th>1</th>\n",
       "      <td>00-0021547</td>\n",
       "      <td>A.Gates</td>\n",
       "      <td>LAC</td>\n",
       "      <td>2016</td>\n",
       "      <td>1</td>\n",
       "      <td>REG</td>\n",
       "      <td>0</td>\n",
       "      <td>0</td>\n",
       "      <td>0.0</td>\n",
       "      <td>0</td>\n",
       "      <td>...</td>\n",
       "      <td>REG</td>\n",
       "      <td>A01</td>\n",
       "      <td>Antonio</td>\n",
       "      <td>GAT194627</td>\n",
       "      <td>28495</td>\n",
       "      <td>32004741-5419-4627-d7b9-c6962c8e21f2</td>\n",
       "      <td>2003.0</td>\n",
       "      <td>2003.0</td>\n",
       "      <td>None</td>\n",
       "      <td>NaN</td>\n",
       "    </tr>\n",
       "    <tr>\n",
       "      <th>2</th>\n",
       "      <td>00-0021547</td>\n",
       "      <td>A.Gates</td>\n",
       "      <td>LAC</td>\n",
       "      <td>2016</td>\n",
       "      <td>1</td>\n",
       "      <td>REG</td>\n",
       "      <td>0</td>\n",
       "      <td>0</td>\n",
       "      <td>0.0</td>\n",
       "      <td>0</td>\n",
       "      <td>...</td>\n",
       "      <td>DIV</td>\n",
       "      <td>A01</td>\n",
       "      <td>Antonio</td>\n",
       "      <td>GAT194627</td>\n",
       "      <td>28495</td>\n",
       "      <td>32004741-5419-4627-d7b9-c6962c8e21f2</td>\n",
       "      <td>2003.0</td>\n",
       "      <td>2003.0</td>\n",
       "      <td>None</td>\n",
       "      <td>NaN</td>\n",
       "    </tr>\n",
       "    <tr>\n",
       "      <th>3</th>\n",
       "      <td>00-0021547</td>\n",
       "      <td>A.Gates</td>\n",
       "      <td>LAC</td>\n",
       "      <td>2017</td>\n",
       "      <td>1</td>\n",
       "      <td>REG</td>\n",
       "      <td>0</td>\n",
       "      <td>0</td>\n",
       "      <td>0.0</td>\n",
       "      <td>0</td>\n",
       "      <td>...</td>\n",
       "      <td>REG</td>\n",
       "      <td>A01</td>\n",
       "      <td>Antonio</td>\n",
       "      <td>GAT194627</td>\n",
       "      <td>28495</td>\n",
       "      <td>32004741-5419-4627-d7b9-c6962c8e21f2</td>\n",
       "      <td>2003.0</td>\n",
       "      <td>2003.0</td>\n",
       "      <td>None</td>\n",
       "      <td>NaN</td>\n",
       "    </tr>\n",
       "    <tr>\n",
       "      <th>4</th>\n",
       "      <td>00-0021547</td>\n",
       "      <td>A.Gates</td>\n",
       "      <td>LAC</td>\n",
       "      <td>2017</td>\n",
       "      <td>1</td>\n",
       "      <td>REG</td>\n",
       "      <td>0</td>\n",
       "      <td>0</td>\n",
       "      <td>0.0</td>\n",
       "      <td>0</td>\n",
       "      <td>...</td>\n",
       "      <td>REG</td>\n",
       "      <td>A01</td>\n",
       "      <td>Antonio</td>\n",
       "      <td>GAT194627</td>\n",
       "      <td>28495</td>\n",
       "      <td>32004741-5419-4627-d7b9-c6962c8e21f2</td>\n",
       "      <td>2003.0</td>\n",
       "      <td>2003.0</td>\n",
       "      <td>None</td>\n",
       "      <td>NaN</td>\n",
       "    </tr>\n",
       "  </tbody>\n",
       "</table>\n",
       "<p>5 rows × 80 columns</p>\n",
       "</div>"
      ],
      "text/plain": [
       "    player_id player_name recent_team  season  week season_type  completions  \\\n",
       "0  00-0021547     A.Gates         LAC    2016     1         REG            0   \n",
       "1  00-0021547     A.Gates         LAC    2016     1         REG            0   \n",
       "2  00-0021547     A.Gates         LAC    2016     1         REG            0   \n",
       "3  00-0021547     A.Gates         LAC    2017     1         REG            0   \n",
       "4  00-0021547     A.Gates         LAC    2017     1         REG            0   \n",
       "\n",
       "   attempts  passing_yards  passing_tds  ...  game_type  \\\n",
       "0         0            0.0            0  ...        REG   \n",
       "1         0            0.0            0  ...        REG   \n",
       "2         0            0.0            0  ...        DIV   \n",
       "3         0            0.0            0  ...        REG   \n",
       "4         0            0.0            0  ...        REG   \n",
       "\n",
       "   status_description_abbr  football_name     esb_id  gsis_it_id  \\\n",
       "0                      A01        Antonio  GAT194627       28495   \n",
       "1                      A01        Antonio  GAT194627       28495   \n",
       "2                      A01        Antonio  GAT194627       28495   \n",
       "3                      A01        Antonio  GAT194627       28495   \n",
       "4                      A01        Antonio  GAT194627       28495   \n",
       "\n",
       "                               smart_id  entry_year  rookie_year  draft_club  \\\n",
       "0  32004741-5419-4627-d7b9-c6962c8e21f2      2003.0       2003.0        None   \n",
       "1  32004741-5419-4627-d7b9-c6962c8e21f2      2003.0       2003.0        None   \n",
       "2  32004741-5419-4627-d7b9-c6962c8e21f2      2003.0       2003.0        None   \n",
       "3  32004741-5419-4627-d7b9-c6962c8e21f2      2003.0       2003.0        None   \n",
       "4  32004741-5419-4627-d7b9-c6962c8e21f2      2003.0       2003.0        None   \n",
       "\n",
       "   draft_number  \n",
       "0           NaN  \n",
       "1           NaN  \n",
       "2           NaN  \n",
       "3           NaN  \n",
       "4           NaN  \n",
       "\n",
       "[5 rows x 80 columns]"
      ]
     },
     "execution_count": 1481,
     "metadata": {},
     "output_type": "execute_result"
    }
   ],
   "source": [
    "weekly_te_df.head()"
   ]
  },
  {
   "cell_type": "code",
   "execution_count": 1482,
   "id": "c675cde9",
   "metadata": {},
   "outputs": [
    {
     "name": "stdout",
     "output_type": "stream",
     "text": [
      "['player_id', 'player_name', 'recent_team', 'season', 'week', 'season_type', 'completions', 'attempts', 'passing_yards', 'passing_tds', 'interceptions', 'sacks', 'sack_yards', 'sack_fumbles', 'sack_fumbles_lost', 'passing_air_yards', 'passing_yards_after_catch', 'passing_first_downs', 'passing_epa', 'passing_2pt_conversions', 'dakota', 'carries', 'rushing_yards', 'rushing_tds', 'rushing_fumbles', 'rushing_fumbles_lost', 'rushing_first_downs', 'rushing_epa', 'rushing_2pt_conversions', 'receptions', 'targets', 'receiving_yards', 'receiving_tds', 'receiving_fumbles', 'receiving_fumbles_lost', 'receiving_air_yards', 'receiving_yards_after_catch', 'receiving_first_downs', 'receiving_epa', 'receiving_2pt_conversions', 'special_teams_tds', 'fantasy_points', 'fantasy_points_ppr', 'pacr', 'racr', 'target_share', 'air_yards_share', 'wopr', 'team', 'position', 'depth_chart_position', 'jersey_number', 'status', 'first_name', 'last_name', 'birth_date', 'height', 'weight', 'college', 'espn_id', 'sportradar_id', 'yahoo_id', 'rotowire_id', 'pff_id', 'pfr_id', 'fantasy_data_id', 'sleeper_id', 'years_exp', 'headshot_url', 'ngs_position', 'game_type', 'status_description_abbr', 'football_name', 'esb_id', 'gsis_it_id', 'smart_id', 'entry_year', 'rookie_year', 'draft_club', 'draft_number']\n"
     ]
    }
   ],
   "source": [
    "print(list(weekly_te_df.columns))"
   ]
  },
  {
   "cell_type": "code",
   "execution_count": 1483,
   "id": "88679948",
   "metadata": {},
   "outputs": [],
   "source": [
    "weekly_te_df['complete_attempts_pct'] = weekly_te_df['completions']/weekly_te_df['attempts']"
   ]
  },
  {
   "cell_type": "code",
   "execution_count": 1484,
   "id": "d1b2e39a",
   "metadata": {},
   "outputs": [],
   "source": [
    "# try to keep as much as possible\n",
    "te_act_stats = weekly_te_df[['player_id','first_name','last_name','team','position','season','week', 'complete_attempts_pct', 'passing_yards', 'passing_tds', 'interceptions', 'sacks', 'sack_yards', 'sack_fumbles', 'sack_fumbles_lost', 'passing_air_yards', 'passing_yards_after_catch', 'passing_first_downs', 'passing_epa', 'passing_2pt_conversions', 'dakota', 'carries', 'rushing_yards', 'rushing_tds', 'rushing_fumbles', 'rushing_fumbles_lost', 'rushing_first_downs', 'rushing_epa', 'rushing_2pt_conversions', 'receptions', 'targets', 'receiving_yards', 'receiving_tds', 'receiving_fumbles', 'receiving_fumbles_lost', 'receiving_air_yards', 'receiving_yards_after_catch', 'receiving_first_downs', 'receiving_epa', 'receiving_2pt_conversions', 'special_teams_tds', 'fantasy_points', 'fantasy_points_ppr', 'pacr', 'racr', 'target_share', 'air_yards_share', 'wopr', 'years_exp', 'entry_year', 'rookie_year', 'draft_number']].copy().reset_index(drop=True)"
   ]
  },
  {
   "cell_type": "code",
   "execution_count": 1485,
   "id": "d55347dc",
   "metadata": {},
   "outputs": [],
   "source": [
    "te_act_stats = te_act_stats.fillna(0)"
   ]
  },
  {
   "cell_type": "code",
   "execution_count": 1486,
   "id": "b0074989",
   "metadata": {},
   "outputs": [],
   "source": [
    "te_act_stats = te_act_stats.loc[:,~te_act_stats.columns.duplicated()]\n",
    "te_act_stats = te_act_stats.replace([np.inf, -np.inf], np.nan)"
   ]
  },
  {
   "cell_type": "code",
   "execution_count": 1487,
   "id": "4aca1045",
   "metadata": {},
   "outputs": [
    {
     "name": "stdout",
     "output_type": "stream",
     "text": [
      "3. Keep:  passing_first_downs 0.14159621247610604  Remove:  complete_attempts_pct 0.14159621247610604\n",
      "3. Keep:  rushing_fumbles_lost 0.06455486356240599  Remove:  rushing_fumbles 0.06455486356240599\n",
      "3. Keep:  targets 0.20345511089252313  Remove:  receptions 0.2144010981267109\n",
      "3. Keep:  receiving_first_downs 0.21309918164364924  Remove:  receiving_yards 0.22234548581163388\n",
      "1. Keep:  fantasy_points_ppr  Remove:  receiving_first_downs\n",
      "1. Keep:  fantasy_points_ppr  Remove:  fantasy_points\n",
      "3. Keep:  air_yards_share 0.1436824373239636  Remove:  target_share 0.14886267493096123\n",
      "3. Keep:  air_yards_share 0.1436824373239636  Remove:  wopr 0.15100590203517186\n",
      "3. Keep:  entry_year 0.11246831673687599  Remove:  rookie_year 0.11250163174486098\n",
      "Dropping below:  ['target_share', 'wopr', 'complete_attempts_pct', 'fantasy_points', 'rookie_year', 'receiving_first_downs', 'rushing_fumbles', 'receiving_yards', 'receptions']\n",
      "(22005, 43)\n"
     ]
    }
   ],
   "source": [
    "# remove correlated\n",
    "te_act_stats = _corr(te_act_stats, threshold=0.85, impute=0, keep=['fantasy_points_ppr'])\n",
    "print(te_act_stats.shape)"
   ]
  },
  {
   "cell_type": "code",
   "execution_count": 1488,
   "id": "bda58e6d",
   "metadata": {},
   "outputs": [
    {
     "name": "stdout",
     "output_type": "stream",
     "text": [
      "(22005, 43)\n",
      "(22005, 78)\n"
     ]
    }
   ],
   "source": [
    "# permute the features for Wrapper feature selection\n",
    "print(te_act_stats.shape)\n",
    "df = permute(te_act_stats)\n",
    "print(df.shape)"
   ]
  },
  {
   "cell_type": "code",
   "execution_count": 1489,
   "id": "8606b36c",
   "metadata": {},
   "outputs": [
    {
     "name": "stdout",
     "output_type": "stream",
     "text": [
      "28\n",
      "42\n"
     ]
    }
   ],
   "source": [
    "# separate features to binary and continuous features\n",
    "ids = [col for col in df.columns.tolist() if col not in ['player_id','first_name','last_name','team','position','season','week','fantasy_points_ppr']]\n",
    "features = df.loc[:, ids]\n",
    "bin_cols = [\n",
    "    col for col in features if features[col].value_counts().index.isin([0, 1]).all()\n",
    "]\n",
    "cont_cols = [col for col in features.columns.tolist() if col not in bin_cols]\n",
    "print(len(bin_cols))\n",
    "print(len(cont_cols))"
   ]
  },
  {
   "cell_type": "code",
   "execution_count": 1490,
   "id": "101e3c1e",
   "metadata": {},
   "outputs": [
    {
     "name": "stdout",
     "output_type": "stream",
     "text": [
      "(22005, 70)\n",
      "(22005,)\n"
     ]
    }
   ],
   "source": [
    "## create tes-train split\n",
    "X = df[bin_cols+cont_cols]\n",
    "y = df[\"fantasy_points_ppr\"]\n",
    "## print df shape\n",
    "print(X.shape)\n",
    "print(y.shape)"
   ]
  },
  {
   "cell_type": "code",
   "execution_count": 1491,
   "id": "4da7c655",
   "metadata": {},
   "outputs": [
    {
     "name": "stdout",
     "output_type": "stream",
     "text": [
      "Fitting 5 folds for each of 27 candidates, totalling 135 fits\n",
      "[01:51:37] WARNING: C:/Users/administrator/workspace/xgboost-win64_release_1.6.0/src/objective/regression_obj.cu:203: reg:linear is now deprecated in favor of reg:squarederror.\n",
      "0.9650034424990231\n",
      "{'colsample_bytree': 0.8, 'eta': 0.1, 'learning_rate': 0.05, 'max_depth': 3, 'min_child_weight': 4, 'n_estimators': 1000, 'objective': 'reg:linear', 'subsample': 0.7}\n"
     ]
    }
   ],
   "source": [
    "import numpy as np\n",
    "import pandas as pd\n",
    "from sklearn import preprocessing\n",
    "import xgboost as xgb\n",
    "from xgboost.sklearn import XGBRegressor\n",
    "import datetime\n",
    "from sklearn.model_selection import GridSearchCV\n",
    "\n",
    "xgb1 = XGBRegressor()\n",
    "parameters = {\n",
    "              'objective':['reg:linear'],\n",
    "              'learning_rate': [.03, 0.05, .07], #so called `eta` value\n",
    "              'max_depth': [2, 3, 4],\n",
    "              'min_child_weight': [4],\n",
    "              'eta' : [0.1],\n",
    "              'subsample': [0.7],\n",
    "              'colsample_bytree': [0.8],\n",
    "              'n_estimators': [200, 500, 1000]}\n",
    "\n",
    "xgb_grid = GridSearchCV(xgb1,\n",
    "                        parameters,\n",
    "                        cv = 5,\n",
    "                        n_jobs = 5,\n",
    "                        verbose=True)\n",
    "\n",
    "xgb_grid.fit(X, y)\n",
    "\n",
    "print(xgb_grid.best_score_)\n",
    "print(xgb_grid.best_params_)"
   ]
  },
  {
   "cell_type": "code",
   "execution_count": 1492,
   "id": "76d25553",
   "metadata": {},
   "outputs": [
    {
     "name": "stdout",
     "output_type": "stream",
     "text": [
      "[01:51:50] WARNING: C:/Users/administrator/workspace/xgboost-win64_release_1.6.0/src/learner.cc:627: \n",
      "Parameters: { \"params\" } might not be used.\n",
      "\n",
      "  This could be a false alarm, with some parameters getting used by language bindings but\n",
      "  then being mistakenly passed down to XGBoost core, or some parameter actually being used\n",
      "  but getting flagged wrongly here. Please open an issue if you find any such cases.\n",
      "\n",
      "\n",
      "['receiving_tds', 'targets', 'receiving_epa', 'receiving_yards_after_catch', 'rushing_tds', 'receiving_2pt_conversions', 'rushing_fumbles_lost', 'receiving_fumbles_lost', 'special_teams_tds', 'passing_tds', 'receiving_air_yards', 'rushing_epa', 'racr', 'passing_first_downs', 'air_yards_share', 'rushing_yards', 'draft_number', 'entry_year', 'receiving_fumbles', 'passing_2pt_conversions', 'passing_yards_after_catch', 'passing_air_yards', 'carries', 'random_draft_number', 'random_air_yards_share', 'random_receiving_epa', 'random_rushing_tds', 'random_receiving_fumbles_lost', 'random_rushing_epa', 'random_entry_year', 'random_passing_epa', 'random_receiving_yards_after_catch', 'random_racr', 'random_receiving_2pt_conversions', 'random_receiving_air_yards', 'random_rushing_yards', 'random_years_exp', 'random_passing_2pt_conversions', 'years_exp', 'random_receiving_fumbles', 'random_receiving_tds', 'random_targets', 'random_interceptions', 'passing_epa', 'passing_yards', 'random_carries', 'rushing_2pt_conversions', 'pacr', 'sacks', 'random_special_teams_tds', 'random_passing_tds', 'random_sacks', 'random_sack_yards', 'random_sack_fumbles', 'random_sack_fumbles_lost', 'random_passing_first_downs', 'random_dakota', 'random_rushing_fumbles_lost', 'random_rushing_2pt_conversions', 'random_pacr', 'sack_yards', 'rushing_first_downs', 'interceptions', 'random_rushing_first_downs', 'dakota', 'sack_fumbles_lost', 'random_passing_yards_after_catch', 'random_passing_air_yards', 'random_passing_yards', 'sack_fumbles']\n"
     ]
    }
   ],
   "source": [
    "model.fit(X, y)\n",
    "dset = pd.DataFrame({'attr':X.columns.tolist(),'importance':model.feature_importances_}).sort_values(by='importance', ascending=False).reset_index(drop=True)\n",
    "attr = dset['attr'].tolist()\n",
    "print(attr)"
   ]
  },
  {
   "cell_type": "code",
   "execution_count": 1493,
   "id": "eb6c7685",
   "metadata": {},
   "outputs": [
    {
     "name": "stdout",
     "output_type": "stream",
     "text": [
      "random_draft_number\n"
     ]
    },
    {
     "data": {
      "text/plain": [
       "22"
      ]
     },
     "execution_count": 1493,
     "metadata": {},
     "output_type": "execute_result"
    }
   ],
   "source": [
    "permutated = [name for name in attr if \"random_\" in name]\n",
    "if len(permutated) == 0:\n",
    "    top_n = len(attr)\n",
    "else:\n",
    "    print(permutated[0])\n",
    "    top_n = attr.index(permutated[0])-1\n",
    "top_n"
   ]
  },
  {
   "cell_type": "code",
   "execution_count": 1494,
   "id": "d9de1472",
   "metadata": {},
   "outputs": [
    {
     "name": "stdout",
     "output_type": "stream",
     "text": [
      "(22005, 22)\n",
      "(22005,)\n"
     ]
    }
   ],
   "source": [
    "## create tes-train split\n",
    "X = df[attr[:top_n]]\n",
    "y = df[\"fantasy_points_ppr\"]\n",
    "## print df shape\n",
    "print(X.shape)\n",
    "print(y.shape)"
   ]
  },
  {
   "cell_type": "code",
   "execution_count": 1495,
   "id": "8241bc67",
   "metadata": {},
   "outputs": [
    {
     "name": "stdout",
     "output_type": "stream",
     "text": [
      "Fitting 5 folds for each of 27 candidates, totalling 135 fits\n",
      "[01:54:59] WARNING: C:/Users/administrator/workspace/xgboost-win64_release_1.6.0/src/objective/regression_obj.cu:203: reg:linear is now deprecated in favor of reg:squarederror.\n",
      "0.9650460926817745\n",
      "{'colsample_bytree': 0.8, 'eta': 0.1, 'learning_rate': 0.05, 'max_depth': 3, 'min_child_weight': 4, 'n_estimators': 1000, 'objective': 'reg:linear', 'subsample': 0.7}\n"
     ]
    }
   ],
   "source": [
    "import numpy as np\n",
    "import pandas as pd\n",
    "from sklearn import preprocessing\n",
    "import xgboost as xgb\n",
    "from xgboost.sklearn import XGBRegressor\n",
    "import datetime\n",
    "from sklearn.model_selection import GridSearchCV\n",
    "\n",
    "xgb1 = XGBRegressor()\n",
    "parameters = {\n",
    "              'objective':['reg:linear'],\n",
    "              'learning_rate': [.03, 0.05, .07], #so called `eta` value\n",
    "              'max_depth': [2, 3, 4],\n",
    "              'min_child_weight': [4],\n",
    "              'eta' : [0.1],\n",
    "              'subsample': [0.7],\n",
    "              'colsample_bytree': [0.8],\n",
    "              'n_estimators': [200, 500, 1000]}\n",
    "\n",
    "xgb_grid = GridSearchCV(xgb1,\n",
    "                        parameters,\n",
    "                        cv = 5,\n",
    "                        n_jobs = 5,\n",
    "                        verbose=True)\n",
    "\n",
    "xgb_grid.fit(X, y)\n",
    "\n",
    "print(xgb_grid.best_score_)\n",
    "print(xgb_grid.best_params_)"
   ]
  },
  {
   "cell_type": "code",
   "execution_count": 1496,
   "id": "4038e309",
   "metadata": {},
   "outputs": [],
   "source": [
    "xgb_params = {}\n",
    "for key, val in xgb_grid.best_params_.items():\n",
    "        xgb_params[key] = val"
   ]
  },
  {
   "cell_type": "code",
   "execution_count": 1497,
   "id": "c099006a",
   "metadata": {},
   "outputs": [
    {
     "name": "stdout",
     "output_type": "stream",
     "text": [
      "Mean MAE: 0.424 (0.013)\n"
     ]
    }
   ],
   "source": [
    "from numpy import absolute\n",
    "from sklearn.model_selection import cross_val_score\n",
    "from sklearn.model_selection import RepeatedKFold, KFold\n",
    "from xgboost import XGBRegressor\n",
    "\n",
    "# create an xgboost regression model\n",
    "model = XGBRegressor(params=xgb_params)\n",
    "\n",
    "\n",
    "# define model evaluation method\n",
    "cv = RepeatedKFold(n_splits=10, n_repeats=3, random_state=1)\n",
    "# evaluate model\n",
    "scores = cross_val_score(model, X, y, scoring='neg_mean_absolute_error', cv=cv, n_jobs=-1)\n",
    "# force scores to be positive\n",
    "scores = absolute(scores)\n",
    "print('Mean MAE: %.3f (%.3f)' % (scores.mean(), scores.std()) )\n",
    "\n",
    "# kfold = KFold(n_splits=10, shuffle=True)\n",
    "# kf_cv_scores = cross_val_score(model, X, y, cv=kfold )\n",
    "# print(\"K-fold CV average score: %.2f\" % kf_cv_scores.mean())"
   ]
  },
  {
   "cell_type": "code",
   "execution_count": 1498,
   "id": "678dfbb2",
   "metadata": {},
   "outputs": [
    {
     "name": "stdout",
     "output_type": "stream",
     "text": [
      "[01:55:29] WARNING: C:/Users/administrator/workspace/xgboost-win64_release_1.6.0/src/learner.cc:627: \n",
      "Parameters: { \"params\" } might not be used.\n",
      "\n",
      "  This could be a false alarm, with some parameters getting used by language bindings but\n",
      "  then being mistakenly passed down to XGBoost core, or some parameter actually being used\n",
      "  but getting flagged wrongly here. Please open an issue if you find any such cases.\n",
      "\n",
      "\n",
      "['receiving_tds', 'targets', 'receiving_epa', 'receiving_yards_after_catch', 'rushing_tds', 'receiving_2pt_conversions', 'rushing_fumbles_lost', 'special_teams_tds', 'passing_tds', 'receiving_air_yards', 'rushing_epa', 'receiving_fumbles_lost', 'passing_first_downs', 'racr', 'air_yards_share', 'draft_number', 'rushing_yards', 'entry_year', 'receiving_fumbles', 'passing_2pt_conversions', 'passing_air_yards', 'passing_yards_after_catch']\n"
     ]
    }
   ],
   "source": [
    "model.fit(X, y)\n",
    "dset = pd.DataFrame({'attr':X.columns.tolist(),'importance':model.feature_importances_}).sort_values(by='importance', ascending=False).reset_index(drop=True)\n",
    "attr = dset['attr'].tolist()\n",
    "print(attr)"
   ]
  },
  {
   "cell_type": "code",
   "execution_count": 1499,
   "id": "91b598a1",
   "metadata": {},
   "outputs": [
    {
     "name": "stdout",
     "output_type": "stream",
     "text": [
      "(9274, 30)\n",
      "(1632, 30)\n"
     ]
    }
   ],
   "source": [
    "# Model validation\n",
    "# Use previous seasons data to predict 2021 season\n",
    "cols = ['player_id','first_name','last_name','team','position','season','week','fantasy_points_ppr'] + attr\n",
    "\n",
    "\n",
    "traindf = te_act_stats[cols][(te_act_stats['season']<=2020)].fillna(0).copy().drop_duplicates().reset_index(drop=True)\n",
    "print(traindf.shape)\n",
    "#Create Test Dataset\n",
    "testdf  = te_act_stats[cols][te_act_stats['season']>=2021].fillna(0).copy().drop_duplicates().reset_index(drop=True)\n",
    "print(testdf.shape)"
   ]
  },
  {
   "cell_type": "code",
   "execution_count": 1500,
   "id": "af2be4da",
   "metadata": {},
   "outputs": [],
   "source": [
    "#Columns We Can't Include In Our Features Datasets\n",
    "dcols = ['player_id','first_name','last_name','team','position','season','week','fantasy_points_ppr']\n",
    "#X = Features, Y = Target\n",
    "#train = training dataset, test = testing dataset\n",
    "X_train, Y_train = traindf.drop(dcols, axis = 1), traindf['fantasy_points_ppr']\n",
    "X_test, Y_test = testdf.drop(dcols, axis = 1), testdf['fantasy_points_ppr']\n",
    "#Use For Analysis After Model & Predictions Created\n",
    "pred_df = testdf.copy()"
   ]
  },
  {
   "cell_type": "code",
   "execution_count": 1501,
   "id": "ef38f80e",
   "metadata": {},
   "outputs": [
    {
     "name": "stdout",
     "output_type": "stream",
     "text": [
      "[01:55:30] WARNING: C:/Users/administrator/workspace/xgboost-win64_release_1.6.0/src/learner.cc:627: \n",
      "Parameters: { \"params\" } might not be used.\n",
      "\n",
      "  This could be a false alarm, with some parameters getting used by language bindings but\n",
      "  then being mistakenly passed down to XGBoost core, or some parameter actually being used\n",
      "  but getting flagged wrongly here. Please open an issue if you find any such cases.\n",
      "\n",
      "\n",
      "MAE: 4.66\n",
      "MAPE: 116590083309568.00\n"
     ]
    }
   ],
   "source": [
    "from sklearn.metrics import mean_absolute_error, mean_absolute_percentage_error\n",
    "\n",
    "model.fit(X_train, Y_train)\n",
    "Y_pred = model.predict(X_test)\n",
    "mae = mean_absolute_error(Y_test, Y_pred)\n",
    "print(\"MAE: %.2f\" % mse)\n",
    "mape = mean_absolute_percentage_error(Y_test, Y_pred)\n",
    "print(\"MAPE: %.2f\" % mape)"
   ]
  },
  {
   "cell_type": "code",
   "execution_count": 1502,
   "id": "cff62b8d",
   "metadata": {},
   "outputs": [
    {
     "data": {
      "image/png": "[encoded data removed]",
      "text/plain": [
       "<Figure size 432x288 with 1 Axes>"
      ]
     },
     "metadata": {
      "needs_background": "light"
     },
     "output_type": "display_data"
    }
   ],
   "source": [
    "import matplotlib.pyplot as plt \n",
    "\n",
    "x_ax = range(len(Y_test))\n",
    "plt.plot(x_ax, Y_test, label=\"original\")\n",
    "plt.plot(x_ax, Y_pred, label=\"predicted\")\n",
    "plt.title(\"test and predicted data\")\n",
    "plt.legend()\n",
    "plt.show()"
   ]
  },
  {
   "cell_type": "code",
   "execution_count": 1503,
   "id": "53c02891",
   "metadata": {},
   "outputs": [],
   "source": [
    "testdf['Predicted_fantasy'] = Y_pred\n",
    "testdf['fantasy_points_ppr'] = Y_test"
   ]
  },
  {
   "cell_type": "code",
   "execution_count": 1504,
   "id": "c9e21b46",
   "metadata": {},
   "outputs": [
    {
     "data": {
      "text/html": [
       "<div>\n",
       "<style scoped>\n",
       "    .dataframe tbody tr th:only-of-type {\n",
       "        vertical-align: middle;\n",
       "    }\n",
       "\n",
       "    .dataframe tbody tr th {\n",
       "        vertical-align: top;\n",
       "    }\n",
       "\n",
       "    .dataframe thead th {\n",
       "        text-align: right;\n",
       "    }\n",
       "</style>\n",
       "<table border=\"1\" class=\"dataframe\">\n",
       "  <thead>\n",
       "    <tr style=\"text-align: right;\">\n",
       "      <th></th>\n",
       "      <th>rank</th>\n",
       "      <th>first_name</th>\n",
       "      <th>last_name</th>\n",
       "      <th>team</th>\n",
       "      <th>position</th>\n",
       "    </tr>\n",
       "  </thead>\n",
       "  <tbody>\n",
       "    <tr>\n",
       "      <th>0</th>\n",
       "      <td>1</td>\n",
       "      <td>jonathan</td>\n",
       "      <td>taylor</td>\n",
       "      <td>IND</td>\n",
       "      <td>RB</td>\n",
       "    </tr>\n",
       "    <tr>\n",
       "      <th>1</th>\n",
       "      <td>2</td>\n",
       "      <td>christian</td>\n",
       "      <td>mccaffrey</td>\n",
       "      <td>CAR</td>\n",
       "      <td>RB</td>\n",
       "    </tr>\n",
       "    <tr>\n",
       "      <th>2</th>\n",
       "      <td>3</td>\n",
       "      <td>cooper</td>\n",
       "      <td>kupp</td>\n",
       "      <td>LAR</td>\n",
       "      <td>WR</td>\n",
       "    </tr>\n",
       "    <tr>\n",
       "      <th>3</th>\n",
       "      <td>4</td>\n",
       "      <td>austin</td>\n",
       "      <td>ekeler</td>\n",
       "      <td>LAC</td>\n",
       "      <td>RB</td>\n",
       "    </tr>\n",
       "    <tr>\n",
       "      <th>4</th>\n",
       "      <td>5</td>\n",
       "      <td>justin</td>\n",
       "      <td>jefferson</td>\n",
       "      <td>MIN</td>\n",
       "      <td>WR</td>\n",
       "    </tr>\n",
       "  </tbody>\n",
       "</table>\n",
       "</div>"
      ],
      "text/plain": [
       "   rank first_name  last_name team position\n",
       "0     1   jonathan     taylor  IND       RB\n",
       "1     2  christian  mccaffrey  CAR       RB\n",
       "2     3     cooper       kupp  LAR       WR\n",
       "3     4     austin     ekeler  LAC       RB\n",
       "4     5     justin  jefferson  MIN       WR"
      ]
     },
     "execution_count": 1504,
     "metadata": {},
     "output_type": "execute_result"
    }
   ],
   "source": [
    "player_df = pd.read_csv('2022_top_300_espn_ppr_projections.csv')\n",
    "player_df.head()"
   ]
  },
  {
   "cell_type": "code",
   "execution_count": 1505,
   "id": "63e68fd0",
   "metadata": {},
   "outputs": [
    {
     "data": {
      "text/plain": [
       "(280, 7)"
      ]
     },
     "execution_count": 1505,
     "metadata": {},
     "output_type": "execute_result"
    }
   ],
   "source": [
    "te_player_df = player_df.merge(testdf[['first_name','last_name','team','position','fantasy_points_ppr','Predicted_fantasy']], on=['first_name','last_name','team','position'])\n",
    "te_player_df.shape"
   ]
  },
  {
   "cell_type": "code",
   "execution_count": 1506,
   "id": "f92fd21b",
   "metadata": {},
   "outputs": [
    {
     "data": {
      "text/html": [
       "<div>\n",
       "<style scoped>\n",
       "    .dataframe tbody tr th:only-of-type {\n",
       "        vertical-align: middle;\n",
       "    }\n",
       "\n",
       "    .dataframe tbody tr th {\n",
       "        vertical-align: top;\n",
       "    }\n",
       "\n",
       "    .dataframe thead th {\n",
       "        text-align: right;\n",
       "    }\n",
       "</style>\n",
       "<table border=\"1\" class=\"dataframe\">\n",
       "  <thead>\n",
       "    <tr style=\"text-align: right;\">\n",
       "      <th></th>\n",
       "      <th>first_name</th>\n",
       "      <th>last_name</th>\n",
       "      <th>team</th>\n",
       "      <th>position</th>\n",
       "      <th>median</th>\n",
       "      <th>position_rank</th>\n",
       "    </tr>\n",
       "  </thead>\n",
       "  <tbody>\n",
       "    <tr>\n",
       "      <th>0</th>\n",
       "      <td>travis</td>\n",
       "      <td>kelce</td>\n",
       "      <td>KC</td>\n",
       "      <td>TE</td>\n",
       "      <td>16.406006</td>\n",
       "      <td>1.0</td>\n",
       "    </tr>\n",
       "    <tr>\n",
       "      <th>1</th>\n",
       "      <td>mark</td>\n",
       "      <td>andrews</td>\n",
       "      <td>BAL</td>\n",
       "      <td>TE</td>\n",
       "      <td>14.707260</td>\n",
       "      <td>2.0</td>\n",
       "    </tr>\n",
       "    <tr>\n",
       "      <th>2</th>\n",
       "      <td>dalton</td>\n",
       "      <td>schultz</td>\n",
       "      <td>DAL</td>\n",
       "      <td>TE</td>\n",
       "      <td>12.842571</td>\n",
       "      <td>3.0</td>\n",
       "    </tr>\n",
       "    <tr>\n",
       "      <th>3</th>\n",
       "      <td>darren</td>\n",
       "      <td>waller</td>\n",
       "      <td>LV</td>\n",
       "      <td>TE</td>\n",
       "      <td>12.020907</td>\n",
       "      <td>4.0</td>\n",
       "    </tr>\n",
       "    <tr>\n",
       "      <th>4</th>\n",
       "      <td>dallas</td>\n",
       "      <td>goedert</td>\n",
       "      <td>PHI</td>\n",
       "      <td>TE</td>\n",
       "      <td>11.171933</td>\n",
       "      <td>5.0</td>\n",
       "    </tr>\n",
       "  </tbody>\n",
       "</table>\n",
       "</div>"
      ],
      "text/plain": [
       "  first_name last_name team position     median  position_rank\n",
       "0     travis     kelce   KC       TE  16.406006            1.0\n",
       "1       mark   andrews  BAL       TE  14.707260            2.0\n",
       "2     dalton   schultz  DAL       TE  12.842571            3.0\n",
       "3     darren    waller   LV       TE  12.020907            4.0\n",
       "4     dallas   goedert  PHI       TE  11.171933            5.0"
      ]
     },
     "execution_count": 1506,
     "metadata": {},
     "output_type": "execute_result"
    }
   ],
   "source": [
    "te_player_df['median'] = te_player_df.groupby(['first_name','last_name'])['Predicted_fantasy'].transform('median')\n",
    "te_player_df = te_player_df.drop_duplicates(['first_name','last_name'])\n",
    "\n",
    "te_player_df = te_player_df.loc[te_player_df['median'].sort_values(ascending=False).index]\n",
    "te_player_df['position_rank'] = te_player_df['median'].rank(ascending=False) \n",
    "te_player_df.drop(['rank','fantasy_points_ppr','Predicted_fantasy'], axis=1, inplace=True)\n",
    "te_player_df.reset_index(drop=True, inplace=True)\n",
    "te_player_df.head()"
   ]
  },
  {
   "cell_type": "code",
   "execution_count": 1507,
   "id": "b68e3b1f",
   "metadata": {},
   "outputs": [],
   "source": [
    "te_player_df.to_csv('te_ranked.csv')"
   ]
  },
  {
   "cell_type": "markdown",
   "id": "b6bac708",
   "metadata": {},
   "source": [
    "### Add overall_rank"
   ]
  },
  {
   "cell_type": "code",
   "execution_count": 1509,
   "id": "78671186",
   "metadata": {},
   "outputs": [],
   "source": [
    "final_df = rb_player_df.append(qb_player_df).append(wr_player_df).append(te_player_df)\n",
    "final_df['overall_rank'] = final_df['median'].rank(ascending=False) \n",
    "final_df.drop(['median'], axis=1, inplace=True)\n",
    "te_player_df.reset_index(drop=True, inplace=True)\n",
    "final_df.to_csv('nfl_ranked.csv')"
   ]
  },
  {
   "cell_type": "markdown",
   "id": "19ce8a48",
   "metadata": {},
   "source": [
    "### END"
   ]
  }
 ],
 "metadata": {
  "kernelspec": {
   "display_name": "Python 3 (ipykernel)",
   "language": "python",
   "name": "python3"
  },
  "language_info": {
   "codemirror_mode": {
    "name": "ipython",
    "version": 3
   },
   "file_extension": ".py",
   "mimetype": "text/x-python",
   "name": "python",
   "nbconvert_exporter": "python",
   "pygments_lexer": "ipython3",
   "version": "3.7.12"
  }
 },
 "nbformat": 4,
 "nbformat_minor": 5
}
